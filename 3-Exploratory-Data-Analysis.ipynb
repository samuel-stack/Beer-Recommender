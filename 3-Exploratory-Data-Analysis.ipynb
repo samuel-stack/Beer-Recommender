{
 "cells": [
  {
   "cell_type": "markdown",
   "metadata": {},
   "source": [
    "# EDA and Further Cleaning\n",
    "\n",
    "In this notebook I will utilize EDA to identify how I need to further clean my data.  I imagine I will need to remove a lot of features after vectorization and thus increase my stop words vocabulary.\n",
    "\n",
    "**I hypothesize I will need to ...**\n",
    "- Remove references to the beer or other beers from reviews.\n",
    "- Remove any reference of the style of beer\n",
    "- Remove words that are relative to stories( I noticed there are some reviews that talk about _how_ they came about the beer in question.\n",
    "- Remove words that don't appear often and/or don't contributed to describing the beer itself."
   ]
  },
  {
   "cell_type": "code",
   "execution_count": 2,
   "metadata": {},
   "outputs": [],
   "source": [
    "import pandas as pd\n"
   ]
  },
  {
   "cell_type": "code",
   "execution_count": 3,
   "metadata": {},
   "outputs": [],
   "source": [
    "beers = pd.read_csv('data/Beers_clean.csv')\n",
    "#beers2 = pd.read_csv('data/Beers_clean_2.csv')"
   ]
  },
  {
   "cell_type": "code",
   "execution_count": 4,
   "metadata": {},
   "outputs": [
    {
     "data": {
      "text/html": [
       "<div>\n",
       "<style scoped>\n",
       "    .dataframe tbody tr th:only-of-type {\n",
       "        vertical-align: middle;\n",
       "    }\n",
       "\n",
       "    .dataframe tbody tr th {\n",
       "        vertical-align: top;\n",
       "    }\n",
       "\n",
       "    .dataframe thead th {\n",
       "        text-align: right;\n",
       "    }\n",
       "</style>\n",
       "<table border=\"1\" class=\"dataframe\">\n",
       "  <thead>\n",
       "    <tr style=\"text-align: right;\">\n",
       "      <th></th>\n",
       "      <th>Beer_Name</th>\n",
       "      <th>Brewery_Name</th>\n",
       "      <th>ABV</th>\n",
       "      <th>Type</th>\n",
       "      <th>full_text</th>\n",
       "      <th>clean_reviews</th>\n",
       "    </tr>\n",
       "  </thead>\n",
       "  <tbody>\n",
       "    <tr>\n",
       "      <th>0</th>\n",
       "      <td>That's What She Said</td>\n",
       "      <td>Tree House Brewing Company</td>\n",
       "      <td>5.60</td>\n",
       "      <td>Milk / Sweet Stout</td>\n",
       "      <td>thanks to my buddy back east for the pint can,...</td>\n",
       "      <td>thank buddy back east pint cool beer first non...</td>\n",
       "    </tr>\n",
       "    <tr>\n",
       "      <th>1</th>\n",
       "      <td>Triple Bag</td>\n",
       "      <td>Long Trail Brewing Co.</td>\n",
       "      <td>11.00</td>\n",
       "      <td>American Strong Ale</td>\n",
       "      <td>Was surprised to even see this at my local sto...</td>\n",
       "      <td>surprised even see local store buy   pack   lo...</td>\n",
       "    </tr>\n",
       "    <tr>\n",
       "      <th>2</th>\n",
       "      <td>Great Lakes Devil's Pale Ale</td>\n",
       "      <td>Great Lakes Brewery</td>\n",
       "      <td>6.60</td>\n",
       "      <td>English Pale Ale</td>\n",
       "      <td>Like a brown or scotch with molasses and licor...</td>\n",
       "      <td>like brown scotch molass licorice nose lot lac...</td>\n",
       "    </tr>\n",
       "    <tr>\n",
       "      <th>3</th>\n",
       "      <td>Hornswoggled</td>\n",
       "      <td>Cigar City Brewing</td>\n",
       "      <td>5.00</td>\n",
       "      <td>Irish Red Ale</td>\n",
       "      <td>On tap at Engine 15. \\nSurprised to see that t...</td>\n",
       "      <td>tap engine    surprise see hornswoggle red ale...</td>\n",
       "    </tr>\n",
       "    <tr>\n",
       "      <th>4</th>\n",
       "      <td>Schlafly Raspberry Hefeweizen</td>\n",
       "      <td>The Schlafly Tap Room</td>\n",
       "      <td>4.10</td>\n",
       "      <td>Fruit / Vegetable Beer</td>\n",
       "      <td>A: The beer is hazy reddish yellow in color an...</td>\n",
       "      <td>beer hazy reddish yellow color light amount vi...</td>\n",
       "    </tr>\n",
       "  </tbody>\n",
       "</table>\n",
       "</div>"
      ],
      "text/plain": [
       "                       Beer_Name                Brewery_Name    ABV  \\\n",
       "0           That's What She Said  Tree House Brewing Company   5.60   \n",
       "1                     Triple Bag      Long Trail Brewing Co.  11.00   \n",
       "2   Great Lakes Devil's Pale Ale         Great Lakes Brewery   6.60   \n",
       "3                   Hornswoggled          Cigar City Brewing   5.00   \n",
       "4  Schlafly Raspberry Hefeweizen       The Schlafly Tap Room   4.10   \n",
       "\n",
       "                     Type                                          full_text  \\\n",
       "0      Milk / Sweet Stout  thanks to my buddy back east for the pint can,...   \n",
       "1     American Strong Ale  Was surprised to even see this at my local sto...   \n",
       "2        English Pale Ale  Like a brown or scotch with molasses and licor...   \n",
       "3           Irish Red Ale  On tap at Engine 15. \\nSurprised to see that t...   \n",
       "4  Fruit / Vegetable Beer  A: The beer is hazy reddish yellow in color an...   \n",
       "\n",
       "                                       clean_reviews  \n",
       "0  thank buddy back east pint cool beer first non...  \n",
       "1  surprised even see local store buy   pack   lo...  \n",
       "2  like brown scotch molass licorice nose lot lac...  \n",
       "3  tap engine    surprise see hornswoggle red ale...  \n",
       "4  beer hazy reddish yellow color light amount vi...  "
      ]
     },
     "execution_count": 4,
     "metadata": {},
     "output_type": "execute_result"
    }
   ],
   "source": [
    "beers.head()"
   ]
  },
  {
   "cell_type": "code",
   "execution_count": 5,
   "metadata": {
    "scrolled": false
   },
   "outputs": [
    {
     "data": {
      "text/plain": [
       "'like brown scotch molass licorice nose lot lace brown body tap volo dry flavour lot different malt variety caramel hop kick finish good great lake brew ontario football field ontap c   can mostly dig followthrough whole   theme   beer appear clear dark reddish amber hue one finger soapy white head leave thin webbed lace around glass smell caramel malt earthy weedy hop taste sweet caramel malt somewhat acrid piney hop carbonation moderate body average weight thin acidity finish ramp hop soapy piney flavour increase noticeably   seem like cross basic american english ipa hopwise pour deep dark brown color ale big foamy head good retention nice lace aroma dry malt medium note caramel malt taste also dominate medium caramel malt slightly bitter ending hop presence subdued expect medium carbonation interesting necessarily something would go back often pint sized receive dyan late trade time review number   fucking metal consume listen new miley cyrus album unholy music could find   appearance dirty crimson like bloody water head enormous longlast leave gob lace glass   smell smell extremely metallic   appropriate enough gues fruity sweetness beneath overbearing minerallike quality   taste   mouthfeel bit watery front light malty sweetness fruity overtone chocolatey mineralmetallic flavor detract quite bit finish overhopp great beer gimmick pretty fun pour pint dark brown bronze hue two finger tan head slowly turn less one finger creamy foam big smell pine really green almost dank faint roasted malt caramel pretty overwhelmed hop taste bitter start finish roasted malt bit caramel sweetness big pine resin bitter grass end really bitter finish aftertaste dry citrus come hop nice tangerine grapefruit faint peach also faint roasted nuts earthiness pine resin hop oil star medium body carbonation bit sticky oily fit bill quite hop bomb bit one trick pony still find roughness bearable really enjoy thank korguy one pour ml pint glass   pour cloudy brownishtan color little head dissipate quickly    slight hop aroma start transition much maltier overtone    much maltier palate nose caramel well hop bit subdued slightly bitter finish    md full body pale good drinkability overall happy beer love fact can design well     high level smoothness creamy slick full body nice sixteen ounce acquire trade good bit ago sit fridge since wait grab serve pilsner glass consume    grab fridge pour pilsner release nice looking reddish tint brown liquid light haze mostly clear pour rich looking two inch head white foam come top settle nicely thin layer cover entire top glass nice carbonation come good amount side glass lace well   rich malt profile load caramel cereal grain light nuttiness aroma touch bitter float around back end flavor rich load malt much way hop really tough call say pale way thick creamy impressed though quite different expect quite honest start rich rush caramel quickly meld bready musky malt profile nice balance lead towards caramel nuttiness come minute rich almost semi sweet kind pecan like taste provide touch bitter needed depth long creamy smooth finish nice carbonation medium body easily session able though pale ale   overall pretty sure style mix would much better suit almost bitter kind strong ale definitely pale though good beer though would issue try one think really hold well nice ale thank trade grub   th review share w tenderbranson pour willybecker chill     deep copper w   finger rocky light tan head clarity lightly haze w spacious bubble vigorous pour     pleasant aroma fruit english yeast piny hop w caramel malt note     mild blend light sweetness hop flavored w woody texture bitter w light sweet finish     good english pale flavor w fruity yeast piney hop malt slightly caramel w nice toast element   hop mild herbal flavor     good pale w malt slightly high flavor appropriate style flavor well balanced taste drinkable ale thank trade grub pour tulip pint glass   probably dark pale ale ever see deep mahogany brown faint light chestnut hue head form nice evenly soapy retention four finger tall soapy bubble one uniform puck island ever see lot soapy thick lace match    small hint caramel light brown sugar toast faint roast faint smoke like tobacco note well kind interesting sure go hint roasty porter brown ale character   first sip lighten pale ale body nearly wet control coating mouthfeel large hop steely grapefruit character palate quick hop pine bitterness citrus angle linger also get bit metallic twinge bit hint faint smoke repeat sip br hop action come zest oil   overall big surprise expect first appearance smell real fun pale ale easy drinker also pour tallboy shaker pint beer dark mahoganyamber color slightly haze frothy dense light tancream color head sit throughout drinking without move inch nose resiny hop toffee malt backbone touch roastiness flavor balanced caramel toffee backbone peppery grassy hop touch roast aftertaste build bitter hop character leave pronounced resiny feel mouth smooth feel thank carbonation bitter dry finish tasty brew lcbo stamp bottom c believe translate march    canning date one several time never formally review pint glass   pour mahogany couple finger sticky soapy white head thick lace mild layer head remain throughout nose hop lot pineapple tropical note mild pine malt sniff bit deep taste open malt toffee bready note fade tropical hop profile load malt definite bitterness leave palate one overpowering potent relatively full mouthfeel mediumlow carbonation solid offering overall great lake good year round certainly definitely english pale however lackey hop alot stuff late base review lack general coherence find brew vs other doubt product come every single time certainly work though beer flavour profile maintain could see serious action fridge summer pour pint glass     medium brown colour hint amber half finger white head      good balance bready malt citrus hop front neither dominant overall nose light moderate     good hop bite front   citrus floral note nice crisp bready malt backbone provide touch sweetness balance hop bitter citrus hop finish      light body moderate carbonation      good pale ale would buy   abv classify american amber   deep amberbrown light tan head retention   lace   incredible brown sugar aroma hint citrus caramel   bready malt   treacle dark caramel dark fruit dark bread hint chocolate light orangecitrus light spice balance slightly bitter side alcohol hide plethora malt think dark   malty pale ale great amber   heavy moderate body strong malty backbone   syrupy moderate carbonation   approachable   balanced little big session   call devil red ale ml pour pint glass   appearance   dark amberr large foamyfizzy beige head hang around great lacing average carbonation   smell   hop citrus note roasted malts nuts   taste   mouth   hop front lot carbonation tongue bitter finish   slightly sour even slightly metallic   drink   good beer worth try something not seem quite right though can not put finger seem like miss something maybe much something devil pale ale belong dark side sure dark beer without turn opaque bubble look pour strong get coke end churn decent amount foam    beer smell amber look ooze load darkly toast caramelize crystal malt piny resinous hop also great deal roast pecanlike nuttiness maybe even dash cocoa powder flavour straight toffeeglaz sponge cake    devil pale ale hoppiness resiny vinous reminiscent pine spruce serum like whack palate tree branch aftertaste taste though contain clump wet grass clipping citrus terribly bitter    fact nutty faintly nougatlike sweetness courtesy malt distract pithy earthy quality combine light roastiness one easily forget initial rush bitter herbal mind quickly turn dessert least another sip    devil pale ale devilishly hoppy sinfully delicious enough make solid sessionable beer especially like combination toasty amber malt pacific northweststyle hop one buy often one never disappointing ml pour pint glass jan    clear reddish bronze thick thumb worth head fall quickly leave patch lace   quite nutty mellow hop fair bit toffee   nutty get lot bread go along hop sweet caramel    quite creamy even low carbonation smooth beer indeed    go pretty quick say something would drink could find   love come not worship devil anything like drink beer give chance get ta thank adil shipping one way apparently change recipe ocb summer sampler can not tell get new old     murky reddish brown colour head tan white one finger serious stay power nice creamy head leave crazy nice lace way carbonation medium heavy hard see bc colour     really fragrant hop nice fruity aroma really great malt back lot balance aroma spot style     nice hop part bitterness really present little sweet malt less balance aroma      appropriate style light medium body good carbonation     high want bitterness night little bit high abv area sessionable epa could give er one oz receive viggo heavy metal bif thank eric sam smith nonic   pour darker apa see crystal clear crimson gorgeous long last dirty white colored head solid retention ton lacework much visible carbonation   nose lot sweet malts citrus hop aroma lean towards sweet side thing ton malt caramel fig hint wood little syrupy liking otoh amber quite nice   palate beer start citrus good bit caramel malt candy fruit malt flavor kick dry finish mildly bitter finish   rather light watery solid carbonation nice finish   pair twilightera gorgoroth beer go perfectly find way keep burn witch closet quiet able enjoy dark clear sort reddish copper colour solid cap fine beige bubble good head retention lace aroma lean heavily malt caramel bread citrus hop character bitterness hover mild front little forward towards finish lot sweet malt throughout fruitiness plus little alcohol end citrus hop flavour fleeting texture alright light get close watery carbonation hold thing together little dry pretty tasty overall pour clear dark brownr thick white head form settle ring lace glass smell sweet malty floral hop little bit chocolate graininess taste sweet front toffee floral hop grain citrus tiny bit chocolate impression would hoppi malt nice mouthfeel medium body medium carbonation bad although pale ale opinion like hoppy brown ale good beer great lake however pick one part ocb pack tall summer mixer pack     pour appealing dark copper brown finger beige offwhite head solid retention noticeable lace     scent rather mild noticeable pint clear caramel malt dominate scent though citrus hop nicely balance flavour     rather supris offerng caramel toffee note dominate flavour nicely complement bitter lemon hop spice cinnamon brown sugar make delicious offering     light bubbly smooth nothing complain expect something little dry side flavour offering balance nicely make delicious balance buy couple can   month ago toronto drink first one beer dark reddishcopper color haze sort translucent offwhite lace foam tasty aroma little fruity hop ester guess nice malty base evident aroma taste sweet biscuity little bitter aftertaste actually half glass start like slight chalkiness aftertaste knock point drinkability category marketing creativity would score perfect kg malt   kg hop boil   minute'"
      ]
     },
     "execution_count": 5,
     "metadata": {},
     "output_type": "execute_result"
    }
   ],
   "source": [
    "# review example\n",
    "beers['clean_reviews'].loc[2]"
   ]
  },
  {
   "cell_type": "code",
   "execution_count": 6,
   "metadata": {},
   "outputs": [],
   "source": [
    "# NLP Imports\n",
    "from sklearn.feature_extraction.text import CountVectorizer\n",
    "from nltk.corpus import stopwords\n",
    "from sklearn.feature_extraction import stop_words\n",
    "from sklearn.feature_extraction import text \n"
   ]
  },
  {
   "cell_type": "code",
   "execution_count": 7,
   "metadata": {},
   "outputs": [],
   "source": [
    "from nltk.corpus import stopwords\n",
    "stopwords = stopwords.words('english')\n"
   ]
  },
  {
   "cell_type": "code",
   "execution_count": null,
   "metadata": {},
   "outputs": [],
   "source": []
  },
  {
   "cell_type": "code",
   "execution_count": 8,
   "metadata": {},
   "outputs": [],
   "source": [
    "#stopwords"
   ]
  },
  {
   "cell_type": "code",
   "execution_count": 9,
   "metadata": {},
   "outputs": [
    {
     "data": {
      "text/html": [
       "<div>\n",
       "<style scoped>\n",
       "    .dataframe tbody tr th:only-of-type {\n",
       "        vertical-align: middle;\n",
       "    }\n",
       "\n",
       "    .dataframe tbody tr th {\n",
       "        vertical-align: top;\n",
       "    }\n",
       "\n",
       "    .dataframe thead th {\n",
       "        text-align: right;\n",
       "    }\n",
       "</style>\n",
       "<table border=\"1\" class=\"dataframe\">\n",
       "  <thead>\n",
       "    <tr style=\"text-align: right;\">\n",
       "      <th></th>\n",
       "      <th>aa</th>\n",
       "      <th>aaah</th>\n",
       "      <th>aah</th>\n",
       "      <th>aal</th>\n",
       "      <th>aamber</th>\n",
       "      <th>aaron</th>\n",
       "      <th>ab</th>\n",
       "      <th>aba</th>\n",
       "      <th>aback</th>\n",
       "      <th>abacus</th>\n",
       "      <th>...</th>\n",
       "      <th>zombie</th>\n",
       "      <th>zone</th>\n",
       "      <th>zound</th>\n",
       "      <th>zs</th>\n",
       "      <th>zucchini</th>\n",
       "      <th>zum</th>\n",
       "      <th>zwanze</th>\n",
       "      <th>zwickel</th>\n",
       "      <th>zythos</th>\n",
       "      <th>zywiec</th>\n",
       "    </tr>\n",
       "  </thead>\n",
       "  <tbody>\n",
       "    <tr>\n",
       "      <th>0</th>\n",
       "      <td>0</td>\n",
       "      <td>0</td>\n",
       "      <td>0</td>\n",
       "      <td>0</td>\n",
       "      <td>0</td>\n",
       "      <td>0</td>\n",
       "      <td>0</td>\n",
       "      <td>0</td>\n",
       "      <td>0</td>\n",
       "      <td>0</td>\n",
       "      <td>...</td>\n",
       "      <td>0</td>\n",
       "      <td>0</td>\n",
       "      <td>0</td>\n",
       "      <td>0</td>\n",
       "      <td>0</td>\n",
       "      <td>0</td>\n",
       "      <td>0</td>\n",
       "      <td>0</td>\n",
       "      <td>0</td>\n",
       "      <td>0</td>\n",
       "    </tr>\n",
       "    <tr>\n",
       "      <th>1</th>\n",
       "      <td>0</td>\n",
       "      <td>0</td>\n",
       "      <td>0</td>\n",
       "      <td>0</td>\n",
       "      <td>0</td>\n",
       "      <td>0</td>\n",
       "      <td>0</td>\n",
       "      <td>0</td>\n",
       "      <td>0</td>\n",
       "      <td>0</td>\n",
       "      <td>...</td>\n",
       "      <td>0</td>\n",
       "      <td>0</td>\n",
       "      <td>0</td>\n",
       "      <td>0</td>\n",
       "      <td>0</td>\n",
       "      <td>0</td>\n",
       "      <td>0</td>\n",
       "      <td>0</td>\n",
       "      <td>0</td>\n",
       "      <td>0</td>\n",
       "    </tr>\n",
       "    <tr>\n",
       "      <th>2</th>\n",
       "      <td>0</td>\n",
       "      <td>0</td>\n",
       "      <td>0</td>\n",
       "      <td>0</td>\n",
       "      <td>0</td>\n",
       "      <td>0</td>\n",
       "      <td>0</td>\n",
       "      <td>0</td>\n",
       "      <td>0</td>\n",
       "      <td>0</td>\n",
       "      <td>...</td>\n",
       "      <td>0</td>\n",
       "      <td>0</td>\n",
       "      <td>0</td>\n",
       "      <td>0</td>\n",
       "      <td>0</td>\n",
       "      <td>0</td>\n",
       "      <td>0</td>\n",
       "      <td>0</td>\n",
       "      <td>0</td>\n",
       "      <td>0</td>\n",
       "    </tr>\n",
       "    <tr>\n",
       "      <th>3</th>\n",
       "      <td>0</td>\n",
       "      <td>0</td>\n",
       "      <td>0</td>\n",
       "      <td>0</td>\n",
       "      <td>0</td>\n",
       "      <td>0</td>\n",
       "      <td>0</td>\n",
       "      <td>0</td>\n",
       "      <td>0</td>\n",
       "      <td>0</td>\n",
       "      <td>...</td>\n",
       "      <td>0</td>\n",
       "      <td>0</td>\n",
       "      <td>0</td>\n",
       "      <td>0</td>\n",
       "      <td>0</td>\n",
       "      <td>0</td>\n",
       "      <td>0</td>\n",
       "      <td>0</td>\n",
       "      <td>0</td>\n",
       "      <td>0</td>\n",
       "    </tr>\n",
       "    <tr>\n",
       "      <th>4</th>\n",
       "      <td>0</td>\n",
       "      <td>0</td>\n",
       "      <td>0</td>\n",
       "      <td>0</td>\n",
       "      <td>0</td>\n",
       "      <td>0</td>\n",
       "      <td>0</td>\n",
       "      <td>0</td>\n",
       "      <td>0</td>\n",
       "      <td>0</td>\n",
       "      <td>...</td>\n",
       "      <td>0</td>\n",
       "      <td>0</td>\n",
       "      <td>0</td>\n",
       "      <td>0</td>\n",
       "      <td>0</td>\n",
       "      <td>0</td>\n",
       "      <td>0</td>\n",
       "      <td>0</td>\n",
       "      <td>0</td>\n",
       "      <td>0</td>\n",
       "    </tr>\n",
       "  </tbody>\n",
       "</table>\n",
       "<p>5 rows × 19222 columns</p>\n",
       "</div>"
      ],
      "text/plain": [
       "   aa  aaah  aah  aal  aamber  aaron  ab  aba  aback  abacus   ...    zombie  \\\n",
       "0   0     0    0    0       0      0   0    0      0       0   ...         0   \n",
       "1   0     0    0    0       0      0   0    0      0       0   ...         0   \n",
       "2   0     0    0    0       0      0   0    0      0       0   ...         0   \n",
       "3   0     0    0    0       0      0   0    0      0       0   ...         0   \n",
       "4   0     0    0    0       0      0   0    0      0       0   ...         0   \n",
       "\n",
       "   zone  zound  zs  zucchini  zum  zwanze  zwickel  zythos  zywiec  \n",
       "0     0      0   0         0    0       0        0       0       0  \n",
       "1     0      0   0         0    0       0        0       0       0  \n",
       "2     0      0   0         0    0       0        0       0       0  \n",
       "3     0      0   0         0    0       0        0       0       0  \n",
       "4     0      0   0         0    0       0        0       0       0  \n",
       "\n",
       "[5 rows x 19222 columns]"
      ]
     },
     "execution_count": 9,
     "metadata": {},
     "output_type": "execute_result"
    }
   ],
   "source": [
    "# vectorization Options\n",
    "CV = CountVectorizer(min_df=10, stop_words = stopwords)\n",
    "text_vec = CV.fit_transform(beers['clean_reviews'])\n",
    "\n",
    "# convert to DF\n",
    "word_df = pd.DataFrame(text_vec.todense(), columns = CV.get_feature_names() )\n",
    "word_df.head()"
   ]
  },
  {
   "cell_type": "code",
   "execution_count": null,
   "metadata": {},
   "outputs": [],
   "source": []
  },
  {
   "cell_type": "code",
   "execution_count": 10,
   "metadata": {
    "scrolled": false
   },
   "outputs": [
    {
     "data": {
      "text/html": [
       "<div>\n",
       "<style scoped>\n",
       "    .dataframe tbody tr th:only-of-type {\n",
       "        vertical-align: middle;\n",
       "    }\n",
       "\n",
       "    .dataframe tbody tr th {\n",
       "        vertical-align: top;\n",
       "    }\n",
       "\n",
       "    .dataframe thead th {\n",
       "        text-align: right;\n",
       "    }\n",
       "</style>\n",
       "<table border=\"1\" class=\"dataframe\">\n",
       "  <thead>\n",
       "    <tr style=\"text-align: right;\">\n",
       "      <th></th>\n",
       "      <th>Word</th>\n",
       "      <th>Count</th>\n",
       "    </tr>\n",
       "  </thead>\n",
       "  <tbody>\n",
       "    <tr>\n",
       "      <th>0</th>\n",
       "      <td>aa</td>\n",
       "      <td>76</td>\n",
       "    </tr>\n",
       "    <tr>\n",
       "      <th>1</th>\n",
       "      <td>aaah</td>\n",
       "      <td>10</td>\n",
       "    </tr>\n",
       "    <tr>\n",
       "      <th>2</th>\n",
       "      <td>aah</td>\n",
       "      <td>21</td>\n",
       "    </tr>\n",
       "    <tr>\n",
       "      <th>3</th>\n",
       "      <td>aal</td>\n",
       "      <td>276</td>\n",
       "    </tr>\n",
       "    <tr>\n",
       "      <th>4</th>\n",
       "      <td>aamber</td>\n",
       "      <td>13</td>\n",
       "    </tr>\n",
       "  </tbody>\n",
       "</table>\n",
       "</div>"
      ],
      "text/plain": [
       "     Word Count\n",
       "0      aa    76\n",
       "1    aaah    10\n",
       "2     aah    21\n",
       "3     aal   276\n",
       "4  aamber    13"
      ]
     },
     "execution_count": 10,
     "metadata": {},
     "output_type": "execute_result"
    }
   ],
   "source": [
    "# word Counts : This takes a while to run.\n",
    "word_count_df = pd.DataFrame( columns = ['Word','Count'])\n",
    "\n",
    "for col in word_df.columns:\n",
    "    word_count_df.loc[len(word_count_df)] = [col, word_df[col].sum()]\n",
    "       \n",
    "word_count_df.head()"
   ]
  },
  {
   "cell_type": "code",
   "execution_count": 11,
   "metadata": {},
   "outputs": [],
   "source": [
    "word_count_df.sort_values(by='Count', ascending=False, inplace = True)"
   ]
  },
  {
   "cell_type": "code",
   "execution_count": 12,
   "metadata": {},
   "outputs": [
    {
     "data": {
      "text/html": [
       "<div>\n",
       "<style scoped>\n",
       "    .dataframe tbody tr th:only-of-type {\n",
       "        vertical-align: middle;\n",
       "    }\n",
       "\n",
       "    .dataframe tbody tr th {\n",
       "        vertical-align: top;\n",
       "    }\n",
       "\n",
       "    .dataframe thead th {\n",
       "        text-align: right;\n",
       "    }\n",
       "</style>\n",
       "<table border=\"1\" class=\"dataframe\">\n",
       "  <thead>\n",
       "    <tr style=\"text-align: right;\">\n",
       "      <th></th>\n",
       "      <th>Word</th>\n",
       "      <th>Count</th>\n",
       "    </tr>\n",
       "  </thead>\n",
       "  <tbody>\n",
       "    <tr>\n",
       "      <th>5242</th>\n",
       "      <td>drinakability</td>\n",
       "      <td>10</td>\n",
       "    </tr>\n",
       "    <tr>\n",
       "      <th>14825</th>\n",
       "      <td>sehr</td>\n",
       "      <td>10</td>\n",
       "    </tr>\n",
       "    <tr>\n",
       "      <th>10665</th>\n",
       "      <td>midtongue</td>\n",
       "      <td>10</td>\n",
       "    </tr>\n",
       "    <tr>\n",
       "      <th>17093</th>\n",
       "      <td>thisbut</td>\n",
       "      <td>10</td>\n",
       "    </tr>\n",
       "    <tr>\n",
       "      <th>10679</th>\n",
       "      <td>mikereaser</td>\n",
       "      <td>10</td>\n",
       "    </tr>\n",
       "    <tr>\n",
       "      <th>14819</th>\n",
       "      <td>seethe</td>\n",
       "      <td>10</td>\n",
       "    </tr>\n",
       "    <tr>\n",
       "      <th>18239</th>\n",
       "      <td>verrry</td>\n",
       "      <td>10</td>\n",
       "    </tr>\n",
       "    <tr>\n",
       "      <th>2318</th>\n",
       "      <td>brownnearly</td>\n",
       "      <td>10</td>\n",
       "    </tr>\n",
       "    <tr>\n",
       "      <th>2314</th>\n",
       "      <td>brownishtan</td>\n",
       "      <td>10</td>\n",
       "    </tr>\n",
       "    <tr>\n",
       "      <th>2205</th>\n",
       "      <td>breweryorient</td>\n",
       "      <td>10</td>\n",
       "    </tr>\n",
       "    <tr>\n",
       "      <th>14815</th>\n",
       "      <td>seen</td>\n",
       "      <td>10</td>\n",
       "    </tr>\n",
       "    <tr>\n",
       "      <th>10692</th>\n",
       "      <td>mildmanner</td>\n",
       "      <td>10</td>\n",
       "    </tr>\n",
       "    <tr>\n",
       "      <th>2299</th>\n",
       "      <td>browncaramel</td>\n",
       "      <td>10</td>\n",
       "    </tr>\n",
       "    <tr>\n",
       "      <th>7585</th>\n",
       "      <td>grotesque</td>\n",
       "      <td>10</td>\n",
       "    </tr>\n",
       "    <tr>\n",
       "      <th>18251</th>\n",
       "      <td>verywell</td>\n",
       "      <td>10</td>\n",
       "    </tr>\n",
       "    <tr>\n",
       "      <th>16148</th>\n",
       "      <td>stolichnaya</td>\n",
       "      <td>10</td>\n",
       "    </tr>\n",
       "    <tr>\n",
       "      <th>2281</th>\n",
       "      <td>bronzen</td>\n",
       "      <td>10</td>\n",
       "    </tr>\n",
       "    <tr>\n",
       "      <th>7576</th>\n",
       "      <td>grizzly</td>\n",
       "      <td>10</td>\n",
       "    </tr>\n",
       "    <tr>\n",
       "      <th>10732</th>\n",
       "      <td>mindblowingly</td>\n",
       "      <td>10</td>\n",
       "    </tr>\n",
       "    <tr>\n",
       "      <th>10733</th>\n",
       "      <td>mindboggl</td>\n",
       "      <td>10</td>\n",
       "    </tr>\n",
       "    <tr>\n",
       "      <th>14787</th>\n",
       "      <td>secand</td>\n",
       "      <td>10</td>\n",
       "    </tr>\n",
       "    <tr>\n",
       "      <th>14782</th>\n",
       "      <td>seawater</td>\n",
       "      <td>10</td>\n",
       "    </tr>\n",
       "    <tr>\n",
       "      <th>2214</th>\n",
       "      <td>brewpour</td>\n",
       "      <td>10</td>\n",
       "    </tr>\n",
       "    <tr>\n",
       "      <th>5318</th>\n",
       "      <td>dubbellike</td>\n",
       "      <td>10</td>\n",
       "    </tr>\n",
       "    <tr>\n",
       "      <th>9966</th>\n",
       "      <td>lowhop</td>\n",
       "      <td>10</td>\n",
       "    </tr>\n",
       "  </tbody>\n",
       "</table>\n",
       "</div>"
      ],
      "text/plain": [
       "                Word Count\n",
       "5242   drinakability    10\n",
       "14825           sehr    10\n",
       "10665      midtongue    10\n",
       "17093        thisbut    10\n",
       "10679     mikereaser    10\n",
       "14819         seethe    10\n",
       "18239         verrry    10\n",
       "2318     brownnearly    10\n",
       "2314     brownishtan    10\n",
       "2205   breweryorient    10\n",
       "14815           seen    10\n",
       "10692     mildmanner    10\n",
       "2299    browncaramel    10\n",
       "7585       grotesque    10\n",
       "18251       verywell    10\n",
       "16148    stolichnaya    10\n",
       "2281         bronzen    10\n",
       "7576         grizzly    10\n",
       "10732  mindblowingly    10\n",
       "10733      mindboggl    10\n",
       "14787         secand    10\n",
       "14782       seawater    10\n",
       "2214        brewpour    10\n",
       "5318      dubbellike    10\n",
       "9966          lowhop    10"
      ]
     },
     "execution_count": 12,
     "metadata": {},
     "output_type": "execute_result"
    }
   ],
   "source": [
    "#word_count_df.head(25)\n",
    "word_count_df.tail(25)"
   ]
  },
  {
   "cell_type": "markdown",
   "metadata": {},
   "source": [
    "# Spelling Errors\n",
    "\n",
    "### Found out there are many misspelled words in my corpus. (Turns out people writing after drinking beer are prone to making errors).\n",
    "\n",
    "**Utilizing the `autocorrect` libraries `spell` function I can correct many words.**\n",
    "- One of the nice things is if it doesn't have a correct spelling for a word it will just return the original word.\n",
    "\n",
    "- I have noticed that this is fucking up correcting \"Vanila\" to \"Manila\" and \"Molass\" to \"Molars\".  Thats a 2 for 2 notice on my part of it destroying information that is critical for my model's logic. (Obviously \"Vanilla\" and \"Molasses\")\n",
    "\n",
    "- Im going to need to inject some conditional probability into this spell checking using the `py enchant` library which returns a list of possibilities.  Those possibilities will be searched against the list and count of words that appear in the corpus and select the spelling that appears the most often.  (Hopefully \"Vanilla\" appears much more in this dataset and \"Manila\""
   ]
  },
  {
   "cell_type": "markdown",
   "metadata": {},
   "source": [
    "# PICK UP HERE FOR TEXT CLEANING"
   ]
  },
  {
   "cell_type": "markdown",
   "metadata": {},
   "source": [
    "\n",
    "\n",
    "Using Spell checking I'm capable of removing aprox. 1500 misspelled words.\n",
    "- However, I noticed that there are some misspelled occurrences of the word \"Vanilla\" as \"Vanila\" which this spell checker will correct to \"Manila\"\n",
    "\n",
    "1. Vectorize all text to get list of all words\n",
    "2. Run through list with PyEnchant English corpus to identify non english words.\n",
    "    - We will assume that these words are either misspellings or random jibberish.  \n",
    "3. _Figure out a way to identify random jibberish_"
   ]
  },
  {
   "cell_type": "code",
   "execution_count": 13,
   "metadata": {},
   "outputs": [],
   "source": [
    "#!pip install autocorrect\n",
    "#!pip install pyenchant"
   ]
  },
  {
   "cell_type": "code",
   "execution_count": 14,
   "metadata": {},
   "outputs": [
    {
     "data": {
      "text/plain": [
       "Index(['aa', 'aaah', 'aah', 'aal', 'aamber', 'aaron', 'ab', 'aba', 'aback',\n",
       "       'abacus'],\n",
       "      dtype='object')"
      ]
     },
     "execution_count": 14,
     "metadata": {},
     "output_type": "execute_result"
    }
   ],
   "source": [
    "word_df.columns[:10]"
   ]
  },
  {
   "cell_type": "code",
   "execution_count": null,
   "metadata": {},
   "outputs": [],
   "source": []
  },
  {
   "cell_type": "code",
   "execution_count": 15,
   "metadata": {},
   "outputs": [],
   "source": [
    "import enchant"
   ]
  },
  {
   "cell_type": "code",
   "execution_count": 16,
   "metadata": {},
   "outputs": [],
   "source": [
    "d = enchant.Dict(\"en_US\")"
   ]
  },
  {
   "cell_type": "code",
   "execution_count": 17,
   "metadata": {},
   "outputs": [],
   "source": [
    "# checkking all words to see if they exist in the english corpus\n",
    "word_check = {word : d.check(word) for word in word_df.columns}"
   ]
  },
  {
   "cell_type": "code",
   "execution_count": 18,
   "metadata": {},
   "outputs": [
    {
     "data": {
      "text/plain": [
       "True     11722\n",
       "False     7500\n",
       "dtype: int64"
      ]
     },
     "execution_count": 18,
     "metadata": {},
     "output_type": "execute_result"
    }
   ],
   "source": [
    "# Wow, I though I was bad at english and spelling.\n",
    "# These sorry review saps managed to use 7500 words that don't exist\n",
    "# 10 times or more!\n",
    "pd.Series(word_check).value_counts()\n"
   ]
  },
  {
   "cell_type": "code",
   "execution_count": 19,
   "metadata": {},
   "outputs": [
    {
     "data": {
      "text/plain": [
       "'ahahah'"
      ]
     },
     "execution_count": 19,
     "metadata": {},
     "output_type": "execute_result"
    }
   ],
   "source": [
    "from autocorrect import spell\n",
    "\n",
    "spell('ahhhh')\n"
   ]
  },
  {
   "cell_type": "code",
   "execution_count": 20,
   "metadata": {},
   "outputs": [
    {
     "name": "stdout",
     "output_type": "stream",
     "text": [
      "Index(['thisit', 'whtie', 'offflavor', 'definitly', 'choclate', 'onthe'], dtype='object')\n"
     ]
    }
   ],
   "source": [
    "is_word_df = pd.DataFrame(pd.Series(word_check), columns = ['IsWord'])\n",
    "test_pack  = is_word_df[is_word_df['IsWord']==False].sample(6, random_state = 5)\n",
    "# Test words to run through the function I need to build\n",
    "print(test_pack.index)\n"
   ]
  },
  {
   "cell_type": "code",
   "execution_count": null,
   "metadata": {},
   "outputs": [],
   "source": []
  },
  {
   "cell_type": "code",
   "execution_count": 23,
   "metadata": {},
   "outputs": [],
   "source": [
    "true_words  = is_word_df[is_word_df['IsWord']==True].index\n",
    "false_words = is_word_df[is_word_df['IsWord']==False].index\n"
   ]
  },
  {
   "cell_type": "code",
   "execution_count": 200,
   "metadata": {
    "scrolled": true
   },
   "outputs": [
    {
     "data": {
      "text/plain": [
       "Index(['aa', 'aaah', 'aah', 'aal', 'aamber', 'aaron', 'aba', 'abas', 'abbaye',\n",
       "       'abbeystyle',\n",
       "       ...\n",
       "       'zinfindale', 'zippiness', 'zoe', 'zound', 'zs', 'zum', 'zwanze',\n",
       "       'zwickel', 'zythos', 'zywiec'],\n",
       "      dtype='object', length=7500)"
      ]
     },
     "execution_count": 200,
     "metadata": {},
     "output_type": "execute_result"
    }
   ],
   "source": [
    "false_words\n",
    "\n"
   ]
  },
  {
   "cell_type": "code",
   "execution_count": 30,
   "metadata": {},
   "outputs": [
    {
     "data": {
      "text/plain": [
       "Index(['ab', 'aback', 'abacus', 'abandon', 'abate', 'abates', 'abbey',\n",
       "       'abbeys', 'abbot', 'abbreviated',\n",
       "       ...\n",
       "       'zestful', 'zesty', 'zilch', 'zing', 'zingy', 'zip', 'zippy', 'zombie',\n",
       "       'zone', 'zucchini'],\n",
       "      dtype='object', length=11722)"
      ]
     },
     "execution_count": 30,
     "metadata": {},
     "output_type": "execute_result"
    }
   ],
   "source": [
    "true_words\n"
   ]
  },
  {
   "cell_type": "code",
   "execution_count": 33,
   "metadata": {
    "scrolled": true
   },
   "outputs": [],
   "source": [
    "true_count_df = word_count_df[word_count_df['Word'].isin(true_words)]"
   ]
  },
  {
   "cell_type": "code",
   "execution_count": 115,
   "metadata": {},
   "outputs": [],
   "source": [
    "import nltk\n",
    "from nltk.corpus import brown"
   ]
  },
  {
   "cell_type": "code",
   "execution_count": 189,
   "metadata": {},
   "outputs": [],
   "source": [
    "from time import sleep"
   ]
  },
  {
   "cell_type": "code",
   "execution_count": 194,
   "metadata": {},
   "outputs": [],
   "source": [
    "word_dfc = word_df.copy()"
   ]
  },
  {
   "cell_type": "code",
   "execution_count": 195,
   "metadata": {},
   "outputs": [],
   "source": [
    "def corpus_spell(word, corpus = true_count_df):\n",
    "    suggest_words = d.suggest(word)\n",
    "    \n",
    "    occurance_dict = {}\n",
    "    for s_word in suggest_words:\n",
    "\n",
    "        if true_count_df[true_count_df['Word'] == s_word]['Count'].any():\n",
    "            occurance_dict[s_word] = true_count_df[true_count_df['Word'] == s_word]['Count'].item()\n",
    "        else:\n",
    "            occurance_dict[s_word] = 0\n",
    "\n",
    "    s_word_df = pd.DataFrame(pd.Series(occurance_dict),\n",
    "                       columns = ['Occurence'])\n",
    "    s_word_df['OccurenceFrequency'] = s_word_df['Occurence']/sum(s_word_df['Occurence'])\n",
    "    s_word_df.sort_values(by = 'Occurence', inplace = True, ascending = False)\n",
    "    s_word_df.reset_index(inplace=True)\n",
    "    s_word_df['PoS'] = s_word_df['index'].apply(lambda x : \n",
    "                        nltk.FreqDist(t for w, t in brown.tagged_words()\n",
    "                        if w.lower() == x).most_common())\n",
    "    sleep(1)\n",
    "    print( s_word_df.iloc[0]['Occurence'],s_word_df.iloc[0]['OccurenceFrequency'])\n",
    "    #return s_word_df\n",
    "    if s_word_df.iloc[0]['Occurence'] > 100 and s_word_df.iloc[0]['OccurenceFrequency'] > 0.75:\n",
    "        if len(s_word_df.iloc[0]['PoS']) == 0:\n",
    "                word_dfc.drop(word, axis = 1, inplace = True)\n",
    "                print('Dropped column ',word)\n",
    "                print('No Parts of speech found')\n",
    "            \n",
    "        elif len(s_word_df.iloc[0]['PoS']) > 1:\n",
    "            if s_word_df.iloc[0]['PoS'][0][0] in (('RB','JJ','JJT')) or s_word_df.iloc[0]['PoS'][1][0] in (('RB','JJ','JJT')):\n",
    "                change = s_word_df.iloc[0]['index']\n",
    "                word_dfc[change] = word_dfc[change]+word_dfc[word]\n",
    "                word_dfc.drop(word, axis = 1, inplace = True)\n",
    "                print(f\"{word} corrected to {change}\")\n",
    "                \n",
    "            else:\n",
    "                word_dfc.drop(word, axis = 1, inplace = True)\n",
    "                print('Dropped column ',word)\n",
    "                print('Not a descriptive word : 2 parts checked')\n",
    "                \n",
    "        elif s_word_df.iloc[0]['PoS'][0][0] in (('RB','JJ','JJT')):\n",
    "                change = s_word_df.iloc[0]['index']\n",
    "                word_dfc[change] = word_dfc[change]+word_dfc[word]\n",
    "                word_dfc.drop(word, axis = 1, inplace = True)\n",
    "                print(f\"{word} corrected to {change}\")\n",
    "                \n",
    "        else:\n",
    "            word_dfc.drop(word, axis = 1, inplace = True)\n",
    "            print('Dropped column ',word)\n",
    "            print('Not a descriptive word : 1 part checked')\n",
    "    else:\n",
    "        word_dfc.drop(word, axis = 1, inplace = True)\n",
    "        print('Dropped column ',word)\n",
    "        print('Not frequent enough')\n",
    "        \n"
   ]
  },
  {
   "cell_type": "code",
   "execution_count": 167,
   "metadata": {},
   "outputs": [],
   "source": [
    "from IPython.display import clear_output"
   ]
  },
  {
   "cell_type": "code",
   "execution_count": 176,
   "metadata": {},
   "outputs": [
    {
     "data": {
      "text/plain": [
       "'ahold'"
      ]
     },
     "execution_count": 176,
     "metadata": {},
     "output_type": "execute_result"
    }
   ],
   "source": [
    "false_words[103]"
   ]
  },
  {
   "cell_type": "code",
   "execution_count": 191,
   "metadata": {},
   "outputs": [
    {
     "name": "stdout",
     "output_type": "stream",
     "text": [
      "10739 1.0\n",
      "Dropped column  ahold\n",
      "Not a descriptive word : 2 parts checked\n"
     ]
    }
   ],
   "source": [
    "corpus_spell('ahold')"
   ]
  },
  {
   "cell_type": "code",
   "execution_count": 196,
   "metadata": {},
   "outputs": [],
   "source": [
    "words_corrected = 0\n",
    "issuewords = []\n",
    "for w in false_words:  \n",
    "    print(words_corrected)\n",
    "    try:\n",
    "        corpus_spell(w)\n",
    "    except:\n",
    "        issuewords.append(w)\n",
    "    words_corrected += 1\n",
    "    if words_corrected % 10 == 0:\n",
    "        clear_output()\n",
    "    "
   ]
  },
  {
   "cell_type": "code",
   "execution_count": 197,
   "metadata": {},
   "outputs": [],
   "source": [
    "word_dfc.to_csv('corrected_cvec.csv')"
   ]
  },
  {
   "cell_type": "code",
   "execution_count": 198,
   "metadata": {},
   "outputs": [
    {
     "data": {
      "text/plain": [
       "(9490, 11751)"
      ]
     },
     "execution_count": 198,
     "metadata": {},
     "output_type": "execute_result"
    }
   ],
   "source": [
    "word_dfc.shape"
   ]
  },
  {
   "cell_type": "code",
   "execution_count": 199,
   "metadata": {},
   "outputs": [
    {
     "data": {
      "text/plain": [
       "(9490, 19222)"
      ]
     },
     "execution_count": 199,
     "metadata": {},
     "output_type": "execute_result"
    }
   ],
   "source": [
    "word_df.shape"
   ]
  },
  {
   "cell_type": "code",
   "execution_count": null,
   "metadata": {},
   "outputs": [],
   "source": []
  },
  {
   "cell_type": "code",
   "execution_count": null,
   "metadata": {},
   "outputs": [],
   "source": []
  },
  {
   "cell_type": "code",
   "execution_count": 201,
   "metadata": {},
   "outputs": [],
   "source": [
    "from concurrent.futures import ThreadPoolExecutor\n",
    "import sys\n",
    "\n",
    "def some_action(line):\n",
    "    print('a')\n",
    "\n",
    "with ThreadPoolExecutor() as executor:\n",
    "    for line in sys.stdin:\n",
    "        print(line)\n",
    "        future = executor.submit(some_action, line)"
   ]
  },
  {
   "cell_type": "code",
   "execution_count": 202,
   "metadata": {},
   "outputs": [
    {
     "ename": "NameError",
     "evalue": "name 'args' is not defined",
     "output_type": "error",
     "traceback": [
      "\u001b[0;31m---------------------------------------------------------------------------\u001b[0m",
      "\u001b[0;31mNameError\u001b[0m                                 Traceback (most recent call last)",
      "\u001b[0;32m<ipython-input-202-fe6d089e9125>\u001b[0m in \u001b[0;36m<module>\u001b[0;34m\u001b[0m\n\u001b[1;32m      1\u001b[0m \u001b[0;32mimport\u001b[0m \u001b[0mmultiprocessing\u001b[0m\u001b[0;34m\u001b[0m\u001b[0;34m\u001b[0m\u001b[0m\n\u001b[1;32m      2\u001b[0m \u001b[0;34m\u001b[0m\u001b[0m\n\u001b[0;32m----> 3\u001b[0;31m \u001b[0mpool\u001b[0m \u001b[0;34m=\u001b[0m \u001b[0mmultiprocessing\u001b[0m\u001b[0;34m.\u001b[0m\u001b[0mPool\u001b[0m\u001b[0;34m(\u001b[0m \u001b[0margs\u001b[0m\u001b[0;34m.\u001b[0m\u001b[0mnumProcessors\u001b[0m \u001b[0;34m)\u001b[0m\u001b[0;34m\u001b[0m\u001b[0;34m\u001b[0m\u001b[0m\n\u001b[0m\u001b[1;32m      4\u001b[0m \u001b[0;34m\u001b[0m\u001b[0m\n\u001b[1;32m      5\u001b[0m \u001b[0mmultiprocessing\u001b[0m\u001b[0;34m.\u001b[0m\u001b[0mcpu_count\u001b[0m\u001b[0;34m(\u001b[0m\u001b[0;34m)\u001b[0m\u001b[0;34m\u001b[0m\u001b[0;34m\u001b[0m\u001b[0m\n",
      "\u001b[0;31mNameError\u001b[0m: name 'args' is not defined"
     ]
    }
   ],
   "source": [
    "import multiprocessing\n",
    "\n",
    "pool = multiprocessing.Pool(  )\n",
    "\n",
    "multiprocessing.cpu_count()"
   ]
  },
  {
   "cell_type": "code",
   "execution_count": 207,
   "metadata": {},
   "outputs": [
    {
     "name": "stdout",
     "output_type": "stream",
     "text": [
      "[1, 4, 9]\n",
      "0.1437549591064453\n"
     ]
    }
   ],
   "source": [
    "from multiprocessing import Pool\n",
    "import time\n",
    "\n",
    "def f(x):\n",
    "    return x*x\n",
    "start = time.time()\n",
    "if __name__ == '__main__':\n",
    "    with Pool(5) as p:\n",
    "        print(p.map(f, [1, 2, 3]))\n",
    "        \n",
    "print(time.time() - start)"
   ]
  },
  {
   "cell_type": "code",
   "execution_count": 208,
   "metadata": {},
   "outputs": [
    {
     "data": {
      "text/plain": [
       "[('NN', 1568), ('NN-TL', 21), ('NN-HL', 8), ('VB', 1)]"
      ]
     },
     "execution_count": 208,
     "metadata": {},
     "output_type": "execute_result"
    }
   ],
   "source": [
    "nltk.FreqDist(t for w, t in brown.tagged_words() if w.lower() == 'time').most_common()\n"
   ]
  },
  {
   "cell_type": "code",
   "execution_count": 210,
   "metadata": {},
   "outputs": [
    {
     "name": "stdout",
     "output_type": "stream",
     "text": [
      "[('NN', 2), ('NP-TL', 1)]\n",
      "[('RB', 2)]\n",
      "[]\n",
      "[('VB', 15), ('NN', 2)]\n",
      "[]\n",
      "15.329962968826294\n"
     ]
    }
   ],
   "source": [
    "start = time.time()\n",
    "for word in word_dfc.columns[:5]:\n",
    "    print(nltk.FreqDist(t for w, t in brown.tagged_words() if w.lower() ==  word).most_common())\n",
    "    \n",
    "print(time.time() - start)\n"
   ]
  },
  {
   "cell_type": "code",
   "execution_count": 2,
   "metadata": {},
   "outputs": [
    {
     "data": {
      "text/plain": [
       "158.5"
      ]
     },
     "execution_count": 2,
     "metadata": {},
     "output_type": "execute_result"
    }
   ],
   "source": [
    "951/6"
   ]
  },
  {
   "cell_type": "code",
   "execution_count": 277,
   "metadata": {},
   "outputs": [],
   "source": [
    "\n",
    "def identify_if_desc(word,):\n",
    "\n",
    "    pos = nltk.FreqDist(t for w, t in brown.tagged_words() if w.lower() ==  word).most_common()\n",
    "    if len(pos) > 0:\n",
    "        pos2 = [a for a, b in pos]\n",
    "        for part in pos2:  \n",
    "            if part in ('RB','JJ','JJT','JJR','JJS','RBR','RBT'):\n",
    "                return word\n"
   ]
  },
  {
   "cell_type": "code",
   "execution_count": 276,
   "metadata": {},
   "outputs": [
    {
     "data": {
      "text/plain": [
       "8"
      ]
     },
     "execution_count": 276,
     "metadata": {},
     "output_type": "execute_result"
    }
   ],
   "source": [
    "# How many pools I can use.  Recommended to use cpu counts minus 1\n",
    "multiprocessing.cpu_count()"
   ]
  },
  {
   "cell_type": "code",
   "execution_count": 278,
   "metadata": {},
   "outputs": [
    {
     "name": "stdout",
     "output_type": "stream",
     "text": [
      "9419.33224105835\n"
     ]
    }
   ],
   "source": [
    "start = time.time()\n",
    "if __name__ == '__main__':\n",
    "    with Pool(7) as p:\n",
    "        x = p.map(identify_if_desc , word_dfc.columns)\n",
    "        \n",
    "print(time.time() - start)\n",
    "\n",
    "x = set(x)"
   ]
  },
  {
   "cell_type": "code",
   "execution_count": 279,
   "metadata": {},
   "outputs": [
    {
     "data": {
      "text/plain": [
       "2.616388888888889"
      ]
     },
     "execution_count": 279,
     "metadata": {},
     "output_type": "execute_result"
    }
   ],
   "source": [
    "9419/(60*60)"
   ]
  },
  {
   "cell_type": "code",
   "execution_count": 284,
   "metadata": {},
   "outputs": [],
   "source": [
    "# Dumped Descriptive words into pickle.  \n",
    "import pickle\n",
    "file = 'descriptive_words'\n",
    "outfile = open(file, 'wb')\n",
    "pickle.dump(x, outfile)\n",
    "outfile.close()"
   ]
  },
  {
   "cell_type": "code",
   "execution_count": null,
   "metadata": {},
   "outputs": [],
   "source": []
  },
  {
   "cell_type": "markdown",
   "metadata": {},
   "source": []
  }
 ],
 "metadata": {
  "kernelspec": {
   "display_name": "Python 3",
   "language": "python",
   "name": "python3"
  },
  "language_info": {
   "codemirror_mode": {
    "name": "ipython",
    "version": 3
   },
   "file_extension": ".py",
   "mimetype": "text/x-python",
   "name": "python",
   "nbconvert_exporter": "python",
   "pygments_lexer": "ipython3",
   "version": "3.7.1"
  }
 },
 "nbformat": 4,
 "nbformat_minor": 2
}
