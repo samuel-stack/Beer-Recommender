{
 "cells": [
  {
   "cell_type": "markdown",
   "metadata": {},
   "source": [
    "## Experimenting with Py Enchant"
   ]
  },
  {
   "cell_type": "code",
   "execution_count": null,
   "metadata": {},
   "outputs": [],
   "source": [
    "#!pip install pyenchant"
   ]
  },
  {
   "cell_type": "code",
   "execution_count": 1,
   "metadata": {},
   "outputs": [
    {
     "name": "stdout",
     "output_type": "stream",
     "text": [
      "['vanilla', 'manila', 'Danila', 'Manila', 'Valina']\n",
      "['morass', 'molars', 'mo lass', 'molasses', 'molar', 'molal', 'Moluccas']\n",
      "['Malagasy', 'Allahabad', 'Gallagher', 'Callaghan']\n"
     ]
    }
   ],
   "source": [
    "# Importing the Enchant module \n",
    "import enchant \n",
    "  \n",
    "# Using 'en_US' dictionary \n",
    "d = enchant.Dict(\"en_US\") \n",
    "  \n",
    "# Will suggest similar words \n",
    "# form given dictionary \n",
    "print(d.suggest(\"vanila\")) \n",
    "print(d.suggest(\"molass\")) \n",
    "print(d.suggest(\"allagash\")) "
   ]
  }
 ],
 "metadata": {
  "kernelspec": {
   "display_name": "Python 3",
   "language": "python",
   "name": "python3"
  },
  "language_info": {
   "codemirror_mode": {
    "name": "ipython",
    "version": 3
   },
   "file_extension": ".py",
   "mimetype": "text/x-python",
   "name": "python",
   "nbconvert_exporter": "python",
   "pygments_lexer": "ipython3",
   "version": "3.7.1"
  }
 },
 "nbformat": 4,
 "nbformat_minor": 2
}
