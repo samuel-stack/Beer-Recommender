{
 "cells": [
  {
   "cell_type": "markdown",
   "metadata": {},
   "source": [
    "# Scraping Experimentation\n",
    "\n",
    "Yeah, I'm pretty good at scraping and all, but I can't just sit down and immediately know exactly how to scrape a website, how to de-construct the pages, extract the text and desired field, understand the logic I want to use, known how to use the websites structure to my advantage.\n",
    "\n",
    "I this notebook I play around with all of those aspects and figure out how exactly I'm going to accomplish this task."
   ]
  },
  {
   "cell_type": "code",
   "execution_count": 32,
   "metadata": {
    "collapsed": true
   },
   "outputs": [],
   "source": [
    "import pandas as pd\n",
    "\n",
    "import re\n",
    "import bs4\n",
    "from bs4 import BeautifulSoup\n",
    "import requests\n",
    "import urllib\n",
    "\n",
    "import numpy as np\n",
    "\n",
    "import time\n",
    "\n",
    "from IPython.display import clear_output"
   ]
  },
  {
   "cell_type": "code",
   "execution_count": 14,
   "metadata": {
    "collapsed": true
   },
   "outputs": [],
   "source": [
    "beer_styles_page = requests.get('https://www.beeradvocate.com/beer/style/')\n",
    "\n",
    "beer_styles_soup = BeautifulSoup(beer_styles_page.content,'lxml')\n",
    "                                "
   ]
  },
  {
   "cell_type": "markdown",
   "metadata": {},
   "source": [
    "## Retrieve all the beer style pages"
   ]
  },
  {
   "cell_type": "code",
   "execution_count": 55,
   "metadata": {
    "collapsed": true
   },
   "outputs": [],
   "source": [
    "beer_styles = {}\n",
    "for beer in beer_styles_soup.find_all(name='tr'):\n",
    "    for style in beer.find_all('a'):\n",
    "        name = style.text\n",
    "        link = 'https://www.beeradvocate.com'+style['href']\n",
    "        beer_styles[name] = link "
   ]
  },
  {
   "cell_type": "code",
   "execution_count": 56,
   "metadata": {},
   "outputs": [
    {
     "data": {
      "text/plain": [
       "{'Altbier': 'https://www.beeradvocate.com/beer/style/86/',\n",
       " 'American Adjunct Lager': 'https://www.beeradvocate.com/beer/style/38/',\n",
       " 'American Amber / Red Ale': 'https://www.beeradvocate.com/beer/style/128/',\n",
       " 'American Amber / Red Lager': 'https://www.beeradvocate.com/beer/style/147/',\n",
       " 'American Barleywine': 'https://www.beeradvocate.com/beer/style/19/',\n",
       " 'American Black Ale': 'https://www.beeradvocate.com/beer/style/175/',\n",
       " 'American Blonde Ale': 'https://www.beeradvocate.com/beer/style/99/',\n",
       " 'American Brown Ale': 'https://www.beeradvocate.com/beer/style/73/',\n",
       " 'American Dark Wheat Ale': 'https://www.beeradvocate.com/beer/style/94/',\n",
       " 'American Double / Imperial IPA': 'https://www.beeradvocate.com/beer/style/140/',\n",
       " 'American Double / Imperial Pilsner': 'https://www.beeradvocate.com/beer/style/164/',\n",
       " 'American Double / Imperial Stout': 'https://www.beeradvocate.com/beer/style/157/',\n",
       " 'American IPA': 'https://www.beeradvocate.com/beer/style/116/',\n",
       " 'American Malt Liquor': 'https://www.beeradvocate.com/beer/style/42/',\n",
       " 'American Pale Ale (APA)': 'https://www.beeradvocate.com/beer/style/97/',\n",
       " 'American Pale Lager': 'https://www.beeradvocate.com/beer/style/155/',\n",
       " 'American Pale Wheat Ale': 'https://www.beeradvocate.com/beer/style/93/',\n",
       " 'American Porter': 'https://www.beeradvocate.com/beer/style/159/',\n",
       " 'American Stout': 'https://www.beeradvocate.com/beer/style/158/',\n",
       " 'American Strong Ale': 'https://www.beeradvocate.com/beer/style/78/',\n",
       " 'American Wild Ale': 'https://www.beeradvocate.com/beer/style/171/',\n",
       " 'Baltic Porter': 'https://www.beeradvocate.com/beer/style/80/',\n",
       " 'Belgian Dark Ale': 'https://www.beeradvocate.com/beer/style/119/',\n",
       " 'Belgian IPA': 'https://www.beeradvocate.com/beer/style/174/',\n",
       " 'Belgian Pale Ale': 'https://www.beeradvocate.com/beer/style/54/',\n",
       " 'Belgian Strong Dark Ale': 'https://www.beeradvocate.com/beer/style/56/',\n",
       " 'Belgian Strong Pale Ale': 'https://www.beeradvocate.com/beer/style/55/',\n",
       " 'Berliner Weissbier': 'https://www.beeradvocate.com/beer/style/87/',\n",
       " 'Bière de Champagne / Bière Brut': 'https://www.beeradvocate.com/beer/style/141/',\n",
       " 'Bière de Garde': 'https://www.beeradvocate.com/beer/style/127/',\n",
       " 'Black & Tan': 'https://www.beeradvocate.com/beer/style/130/',\n",
       " 'Bock': 'https://www.beeradvocate.com/beer/style/32/',\n",
       " 'Braggot': 'https://www.beeradvocate.com/beer/style/114/',\n",
       " 'California Common / Steam Beer': 'https://www.beeradvocate.com/beer/style/132/',\n",
       " 'Chile Beer': 'https://www.beeradvocate.com/beer/style/163/',\n",
       " 'Cream Ale': 'https://www.beeradvocate.com/beer/style/6/',\n",
       " 'Czech Pilsener': 'https://www.beeradvocate.com/beer/style/40/',\n",
       " 'Doppelbock': 'https://www.beeradvocate.com/beer/style/35/',\n",
       " 'Dortmunder / Export Lager': 'https://www.beeradvocate.com/beer/style/20/',\n",
       " 'Dubbel': 'https://www.beeradvocate.com/beer/style/57/',\n",
       " 'Dunkelweizen': 'https://www.beeradvocate.com/beer/style/91/',\n",
       " 'Eisbock': 'https://www.beeradvocate.com/beer/style/36/',\n",
       " 'English Barleywine': 'https://www.beeradvocate.com/beer/style/152/',\n",
       " 'English Bitter': 'https://www.beeradvocate.com/beer/style/98/',\n",
       " 'English Brown Ale': 'https://www.beeradvocate.com/beer/style/74/',\n",
       " 'English Dark Mild Ale': 'https://www.beeradvocate.com/beer/style/75/',\n",
       " 'English India Pale Ale (IPA)': 'https://www.beeradvocate.com/beer/style/150/',\n",
       " 'English Pale Ale': 'https://www.beeradvocate.com/beer/style/154/',\n",
       " 'English Pale Mild Ale': 'https://www.beeradvocate.com/beer/style/76/',\n",
       " 'English Porter': 'https://www.beeradvocate.com/beer/style/101/',\n",
       " 'English Stout': 'https://www.beeradvocate.com/beer/style/13/',\n",
       " 'English Strong Ale': 'https://www.beeradvocate.com/beer/style/165/',\n",
       " 'Euro Dark Lager': 'https://www.beeradvocate.com/beer/style/149/',\n",
       " 'Euro Pale Lager': 'https://www.beeradvocate.com/beer/style/37/',\n",
       " 'Euro Strong Lager': 'https://www.beeradvocate.com/beer/style/43/',\n",
       " 'Extra Special / Strong Bitter (ESB)': 'https://www.beeradvocate.com/beer/style/66/',\n",
       " 'Faro': 'https://www.beeradvocate.com/beer/style/15/',\n",
       " 'Flanders Oud Bruin': 'https://www.beeradvocate.com/beer/style/52/',\n",
       " 'Flanders Red Ale': 'https://www.beeradvocate.com/beer/style/53/',\n",
       " 'Foreign / Export Stout': 'https://www.beeradvocate.com/beer/style/95/',\n",
       " 'Fruit / Vegetable Beer': 'https://www.beeradvocate.com/beer/style/9/',\n",
       " 'German Pilsener': 'https://www.beeradvocate.com/beer/style/41/',\n",
       " 'Gose': 'https://www.beeradvocate.com/beer/style/16/',\n",
       " 'Gueuze': 'https://www.beeradvocate.com/beer/style/14/',\n",
       " 'Happoshu': 'https://www.beeradvocate.com/beer/style/168/',\n",
       " 'Hefeweizen': 'https://www.beeradvocate.com/beer/style/89/',\n",
       " 'Herbed / Spiced Beer': 'https://www.beeradvocate.com/beer/style/8/',\n",
       " 'Irish Dry Stout': 'https://www.beeradvocate.com/beer/style/162/',\n",
       " 'Irish Red Ale': 'https://www.beeradvocate.com/beer/style/161/',\n",
       " 'Japanese Rice Lager': 'https://www.beeradvocate.com/beer/style/169/',\n",
       " 'Kellerbier / Zwickelbier': 'https://www.beeradvocate.com/beer/style/131/',\n",
       " 'Kristalweizen': 'https://www.beeradvocate.com/beer/style/90/',\n",
       " 'Kvass': 'https://www.beeradvocate.com/beer/style/173/',\n",
       " 'Kölsch': 'https://www.beeradvocate.com/beer/style/85/',\n",
       " 'Lambic - Fruit': 'https://www.beeradvocate.com/beer/style/10/',\n",
       " 'Lambic - Unblended': 'https://www.beeradvocate.com/beer/style/50/',\n",
       " 'Light Lager': 'https://www.beeradvocate.com/beer/style/39/',\n",
       " 'Low Alcohol Beer': 'https://www.beeradvocate.com/beer/style/5/',\n",
       " 'Maibock / Helles Bock': 'https://www.beeradvocate.com/beer/style/33/',\n",
       " 'Milk / Sweet Stout': 'https://www.beeradvocate.com/beer/style/82/',\n",
       " 'Munich Dunkel Lager': 'https://www.beeradvocate.com/beer/style/46/',\n",
       " 'Munich Helles Lager': 'https://www.beeradvocate.com/beer/style/21/',\n",
       " 'Märzen / Oktoberfest': 'https://www.beeradvocate.com/beer/style/29/',\n",
       " 'Oatmeal Stout': 'https://www.beeradvocate.com/beer/style/69/',\n",
       " 'Old Ale': 'https://www.beeradvocate.com/beer/style/79/',\n",
       " 'Pumpkin Ale': 'https://www.beeradvocate.com/beer/style/72/',\n",
       " 'Quadrupel (Quad)': 'https://www.beeradvocate.com/beer/style/142/',\n",
       " 'Rauchbier': 'https://www.beeradvocate.com/beer/style/7/',\n",
       " 'Roggenbier': 'https://www.beeradvocate.com/beer/style/18/',\n",
       " 'Russian Imperial Stout': 'https://www.beeradvocate.com/beer/style/84/',\n",
       " 'Rye Beer': 'https://www.beeradvocate.com/beer/style/12/',\n",
       " 'Sahti': 'https://www.beeradvocate.com/beer/style/148/',\n",
       " 'Saison / Farmhouse Ale': 'https://www.beeradvocate.com/beer/style/129/',\n",
       " 'Schwarzbier': 'https://www.beeradvocate.com/beer/style/31/',\n",
       " 'Scotch Ale / Wee Heavy': 'https://www.beeradvocate.com/beer/style/77/',\n",
       " 'Scottish Ale': 'https://www.beeradvocate.com/beer/style/68/',\n",
       " 'Scottish Gruit / Ancient Herbed Ale': 'https://www.beeradvocate.com/beer/style/70/',\n",
       " 'Smoked Beer': 'https://www.beeradvocate.com/beer/style/11/',\n",
       " 'Tripel': 'https://www.beeradvocate.com/beer/style/58/',\n",
       " 'Vienna Lager': 'https://www.beeradvocate.com/beer/style/30/',\n",
       " 'Weizenbock': 'https://www.beeradvocate.com/beer/style/92/',\n",
       " 'Wheatwine': 'https://www.beeradvocate.com/beer/style/60/',\n",
       " 'Winter Warmer': 'https://www.beeradvocate.com/beer/style/47/',\n",
       " 'Witbier': 'https://www.beeradvocate.com/beer/style/48/'}"
      ]
     },
     "execution_count": 56,
     "metadata": {},
     "output_type": "execute_result"
    }
   ],
   "source": [
    "beer_styles"
   ]
  },
  {
   "cell_type": "markdown",
   "metadata": {},
   "source": [
    "## Extract beer information from the beer styles page's table"
   ]
  },
  {
   "cell_type": "code",
   "execution_count": 15,
   "metadata": {
    "collapsed": true
   },
   "outputs": [],
   "source": [
    "# American Amber / Red Ale\n",
    "\n",
    "AARA = BeautifulSoup(requests.get('https://www.beeradvocate.com/beer/style/128/?sort=revsD&start=0').content, 'lxml')"
   ]
  },
  {
   "cell_type": "code",
   "execution_count": 16,
   "metadata": {
    "collapsed": true
   },
   "outputs": [],
   "source": [
    "def quality_review_extractor(reviews_url, reviews_dict):\n",
    "    \n",
    "    # request page contents and convert to soup object\n",
    "    QR_beer_r = requests.get(reviews_url)\n",
    "    QR_beer_r_soup = BeautifulSoup(QR_beer_r.content, 'lxml')\n",
    "    \n",
    "    # find all individual reviews\n",
    "    for ind_review in QR_beer_r_soup.find_all('div', attrs = {'id':'rating_fullview_container'}): \n",
    "        full_ind_review = ind_review.text # contains username and unwated numeric reviews\n",
    "\n",
    "        # unwanted attributes are contained in <span class=\"muted\">\"Unwated text</span>\n",
    "        numeric_review = ind_review.find_all(name ='span',attrs={'class':'muted'})\n",
    "    \n",
    "        # cleans out unwanted attributes (username, datetime, numeric ratings)\n",
    "        for reviewer in numeric_review:\n",
    "            unwanted_attr = reviewer.text\n",
    "            # replaces unwanted aspects\n",
    "            full_ind_review = full_ind_review.replace(unwanted_attr, '')\n",
    "            # scrubs out the 'Total Score' attribute\n",
    "            clean_review = re.sub( '^(.*)(%)',\"\",string = full_ind_review)\n",
    "        \n",
    "        # if the length of the remaining review is greater than 25 keep\n",
    "        if len(clean_review) > 25:\n",
    "            reviews_dict[str(len(reviews_dict)+1)] = clean_review"
   ]
  },
  {
   "cell_type": "code",
   "execution_count": null,
   "metadata": {
    "collapsed": true
   },
   "outputs": [],
   "source": []
  },
  {
   "cell_type": "code",
   "execution_count": 33,
   "metadata": {},
   "outputs": [
    {
     "name": "stdout",
     "output_type": "stream",
     "text": [
      "{'1': 'An amazing beer. The smell alone is absolutely delicious.', '2': 'Had this beer in 2016 and 2017.  To me the only flavor is resin, not citrus or pine.', '3': 'Poured from a bottle into a glass with sediment roused. \\n\\nOverall: Excellent brew. Surprised at how good this is.\\n\\nLook: orange tinged amber. Hazy. Frothy head that stayed til the last sip. Lacing everywhere. \\nSmell: fresh and juicy. Not as off-putting as an IPA can sometimes be. Fruity like fresh mango and pineapple. \\nTaste: very hoppy, yes. But not as extreme or unpleasant as I expected. A fruity hop burst that twisted to a sweet, bready, caramelized malt finish. An excellent balance of malts and pine. \\nMouthfeel: substantial body. A little sticky. Smooth. \\nWhat a great hoppy amber ale.\\xa0', 'Beer_Name': 'Tröegs Nugget Nectar', 'Brewery_Name': 'Tröegs Brewing Company', 'ABV': '7.50', '7': 'An amazing beer. The smell alone is absolutely delicious.', '8': 'Had this beer in 2016 and 2017.  To me the only flavor is resin, not citrus or pine.', '9': 'Poured from a bottle into a glass with sediment roused. \\n\\nOverall: Excellent brew. Surprised at how good this is.\\n\\nLook: orange tinged amber. Hazy. Frothy head that stayed til the last sip. Lacing everywhere. \\nSmell: fresh and juicy. Not as off-putting as an IPA can sometimes be. Fruity like fresh mango and pineapple. \\nTaste: very hoppy, yes. But not as extreme or unpleasant as I expected. A fruity hop burst that twisted to a sweet, bready, caramelized malt finish. An excellent balance of malts and pine. \\nMouthfeel: substantial body. A little sticky. Smooth. \\nWhat a great hoppy amber ale.\\xa0', '10': 'An amazing beer. The smell alone is absolutely delicious.', '11': 'Had this beer in 2016 and 2017.  To me the only flavor is resin, not citrus or pine.', '12': 'Poured from a bottle into a glass with sediment roused. \\n\\nOverall: Excellent brew. Surprised at how good this is.\\n\\nLook: orange tinged amber. Hazy. Frothy head that stayed til the last sip. Lacing everywhere. \\nSmell: fresh and juicy. Not as off-putting as an IPA can sometimes be. Fruity like fresh mango and pineapple. \\nTaste: very hoppy, yes. But not as extreme or unpleasant as I expected. A fruity hop burst that twisted to a sweet, bready, caramelized malt finish. An excellent balance of malts and pine. \\nMouthfeel: substantial body. A little sticky. Smooth. \\nWhat a great hoppy amber ale.\\xa0', '13': 'An amazing beer. The smell alone is absolutely delicious.', '14': 'Had this beer in 2016 and 2017.  To me the only flavor is resin, not citrus or pine.', '15': 'Poured from a bottle into a glass with sediment roused. \\n\\nOverall: Excellent brew. Surprised at how good this is.\\n\\nLook: orange tinged amber. Hazy. Frothy head that stayed til the last sip. Lacing everywhere. \\nSmell: fresh and juicy. Not as off-putting as an IPA can sometimes be. Fruity like fresh mango and pineapple. \\nTaste: very hoppy, yes. But not as extreme or unpleasant as I expected. A fruity hop burst that twisted to a sweet, bready, caramelized malt finish. An excellent balance of malts and pine. \\nMouthfeel: substantial body. A little sticky. Smooth. \\nWhat a great hoppy amber ale.\\xa0', '16': 'An amazing beer. The smell alone is absolutely delicious.', '17': 'Had this beer in 2016 and 2017.  To me the only flavor is resin, not citrus or pine.', '18': 'Poured from a bottle into a glass with sediment roused. \\n\\nOverall: Excellent brew. Surprised at how good this is.\\n\\nLook: orange tinged amber. Hazy. Frothy head that stayed til the last sip. Lacing everywhere. \\nSmell: fresh and juicy. Not as off-putting as an IPA can sometimes be. Fruity like fresh mango and pineapple. \\nTaste: very hoppy, yes. But not as extreme or unpleasant as I expected. A fruity hop burst that twisted to a sweet, bready, caramelized malt finish. An excellent balance of malts and pine. \\nMouthfeel: substantial body. A little sticky. Smooth. \\nWhat a great hoppy amber ale.\\xa0', '19': 'An amazing beer. The smell alone is absolutely delicious.', '20': 'Had this beer in 2016 and 2017.  To me the only flavor is resin, not citrus or pine.', '21': 'Poured from a bottle into a glass with sediment roused. \\n\\nOverall: Excellent brew. Surprised at how good this is.\\n\\nLook: orange tinged amber. Hazy. Frothy head that stayed til the last sip. Lacing everywhere. \\nSmell: fresh and juicy. Not as off-putting as an IPA can sometimes be. Fruity like fresh mango and pineapple. \\nTaste: very hoppy, yes. But not as extreme or unpleasant as I expected. A fruity hop burst that twisted to a sweet, bready, caramelized malt finish. An excellent balance of malts and pine. \\nMouthfeel: substantial body. A little sticky. Smooth. \\nWhat a great hoppy amber ale.\\xa0', '22': 'An amazing beer. The smell alone is absolutely delicious.', '23': 'Had this beer in 2016 and 2017.  To me the only flavor is resin, not citrus or pine.', '24': 'Poured from a bottle into a glass with sediment roused. \\n\\nOverall: Excellent brew. Surprised at how good this is.\\n\\nLook: orange tinged amber. Hazy. Frothy head that stayed til the last sip. Lacing everywhere. \\nSmell: fresh and juicy. Not as off-putting as an IPA can sometimes be. Fruity like fresh mango and pineapple. \\nTaste: very hoppy, yes. But not as extreme or unpleasant as I expected. A fruity hop burst that twisted to a sweet, bready, caramelized malt finish. An excellent balance of malts and pine. \\nMouthfeel: substantial body. A little sticky. Smooth. \\nWhat a great hoppy amber ale.\\xa0', '25': 'An amazing beer. The smell alone is absolutely delicious.', '26': 'Had this beer in 2016 and 2017.  To me the only flavor is resin, not citrus or pine.', '27': 'Poured from a bottle into a glass with sediment roused. \\n\\nOverall: Excellent brew. Surprised at how good this is.\\n\\nLook: orange tinged amber. Hazy. Frothy head that stayed til the last sip. Lacing everywhere. \\nSmell: fresh and juicy. Not as off-putting as an IPA can sometimes be. Fruity like fresh mango and pineapple. \\nTaste: very hoppy, yes. But not as extreme or unpleasant as I expected. A fruity hop burst that twisted to a sweet, bready, caramelized malt finish. An excellent balance of malts and pine. \\nMouthfeel: substantial body. A little sticky. Smooth. \\nWhat a great hoppy amber ale.\\xa0'}\n"
     ]
    }
   ],
   "source": [
    "test_dict = {}\n",
    "\n",
    "# scrapes individual pages of beer listings.\n",
    "for table_row in AARA.find(name ='table', attrs = {'width':'100%'}).find_all('tr')[3:5]:\n",
    "    \n",
    "    beer_tag = table_row.find_all('td')\n",
    "    beer_name = beer_tag[0].text\n",
    "    brewery_name = beer_tag[1].text\n",
    "    abv = beer_tag[2].text\n",
    "    ratings = beer_tag[3].text\n",
    "    avg_score = beer_tag[4].text\n",
    "    beer_page = 'https://www.beeradvocate.com'+(beer_tag[0].find('a')['href'])\n",
    "\n",
    "    #print(beer_page)\n",
    "    \n",
    "    if int(ratings.replace(',','')) < 100:\n",
    "        continue\n",
    "        \n",
    "    quality_reviews = {} # empty dict to append reviews to\n",
    "    reviews_page = 0 \n",
    "    \n",
    "    \n",
    "    while len(quality_reviews) < 25: # while we have less than 15 good reviews.  \n",
    "        reviews_page_url = beer_page+str(reviews_page) #url formula to change pages\n",
    "        \n",
    "        if requests.get(reviews_page_url).status_code != 200:\n",
    "            break\n",
    "        \n",
    "        print(\"Current Beer : \",beer_name,\n",
    "              \" --- Pages Scraped : \",int(reviews_page/25),\n",
    "              \" --- Quality Reviews : \",len(quality_reviews))\n",
    "        clear_output(wait=True)\n",
    "        \n",
    "        quality_review_extractor(reviews_page_url, quality_reviews) # hit the function\n",
    "        \n",
    "        quality_reviews['Beer_Name'] = beer_name\n",
    "        quality_reviews['Brewery_Name'] = brewery_name\n",
    "        quality_reviews['ABV'] = abv\n",
    "        quality_reviews['Beer_Name']\n",
    "        \n",
    "        \n",
    "        reviews_page += 25 # value increment to change to next \n",
    "        \n",
    "        pause = np.random.lognormal(mean=1.5, sigma=0.4, size=1) #Lognormal dist, avg a 4.5sec pause.\n",
    "        \n",
    "        time.sleep(pause) #take a nap so beeradvocate does not get suspicious.  \n",
    "    \n",
    "    print(quality_reviews)"
   ]
  },
  {
   "cell_type": "code",
   "execution_count": 34,
   "metadata": {},
   "outputs": [
    {
     "data": {
      "text/plain": [
       "{'1': 'An amazing beer. The smell alone is absolutely delicious.',\n",
       " '10': 'An amazing beer. The smell alone is absolutely delicious.',\n",
       " '11': 'Had this beer in 2016 and 2017.  To me the only flavor is resin, not citrus or pine.',\n",
       " '12': 'Poured from a bottle into a glass with sediment roused. \\n\\nOverall: Excellent brew. Surprised at how good this is.\\n\\nLook: orange tinged amber. Hazy. Frothy head that stayed til the last sip. Lacing everywhere. \\nSmell: fresh and juicy. Not as off-putting as an IPA can sometimes be. Fruity like fresh mango and pineapple. \\nTaste: very hoppy, yes. But not as extreme or unpleasant as I expected. A fruity hop burst that twisted to a sweet, bready, caramelized malt finish. An excellent balance of malts and pine. \\nMouthfeel: substantial body. A little sticky. Smooth. \\nWhat a great hoppy amber ale.\\xa0',\n",
       " '13': 'An amazing beer. The smell alone is absolutely delicious.',\n",
       " '14': 'Had this beer in 2016 and 2017.  To me the only flavor is resin, not citrus or pine.',\n",
       " '15': 'Poured from a bottle into a glass with sediment roused. \\n\\nOverall: Excellent brew. Surprised at how good this is.\\n\\nLook: orange tinged amber. Hazy. Frothy head that stayed til the last sip. Lacing everywhere. \\nSmell: fresh and juicy. Not as off-putting as an IPA can sometimes be. Fruity like fresh mango and pineapple. \\nTaste: very hoppy, yes. But not as extreme or unpleasant as I expected. A fruity hop burst that twisted to a sweet, bready, caramelized malt finish. An excellent balance of malts and pine. \\nMouthfeel: substantial body. A little sticky. Smooth. \\nWhat a great hoppy amber ale.\\xa0',\n",
       " '16': 'An amazing beer. The smell alone is absolutely delicious.',\n",
       " '17': 'Had this beer in 2016 and 2017.  To me the only flavor is resin, not citrus or pine.',\n",
       " '18': 'Poured from a bottle into a glass with sediment roused. \\n\\nOverall: Excellent brew. Surprised at how good this is.\\n\\nLook: orange tinged amber. Hazy. Frothy head that stayed til the last sip. Lacing everywhere. \\nSmell: fresh and juicy. Not as off-putting as an IPA can sometimes be. Fruity like fresh mango and pineapple. \\nTaste: very hoppy, yes. But not as extreme or unpleasant as I expected. A fruity hop burst that twisted to a sweet, bready, caramelized malt finish. An excellent balance of malts and pine. \\nMouthfeel: substantial body. A little sticky. Smooth. \\nWhat a great hoppy amber ale.\\xa0',\n",
       " '19': 'An amazing beer. The smell alone is absolutely delicious.',\n",
       " '2': 'Had this beer in 2016 and 2017.  To me the only flavor is resin, not citrus or pine.',\n",
       " '20': 'Had this beer in 2016 and 2017.  To me the only flavor is resin, not citrus or pine.',\n",
       " '21': 'Poured from a bottle into a glass with sediment roused. \\n\\nOverall: Excellent brew. Surprised at how good this is.\\n\\nLook: orange tinged amber. Hazy. Frothy head that stayed til the last sip. Lacing everywhere. \\nSmell: fresh and juicy. Not as off-putting as an IPA can sometimes be. Fruity like fresh mango and pineapple. \\nTaste: very hoppy, yes. But not as extreme or unpleasant as I expected. A fruity hop burst that twisted to a sweet, bready, caramelized malt finish. An excellent balance of malts and pine. \\nMouthfeel: substantial body. A little sticky. Smooth. \\nWhat a great hoppy amber ale.\\xa0',\n",
       " '22': 'An amazing beer. The smell alone is absolutely delicious.',\n",
       " '23': 'Had this beer in 2016 and 2017.  To me the only flavor is resin, not citrus or pine.',\n",
       " '24': 'Poured from a bottle into a glass with sediment roused. \\n\\nOverall: Excellent brew. Surprised at how good this is.\\n\\nLook: orange tinged amber. Hazy. Frothy head that stayed til the last sip. Lacing everywhere. \\nSmell: fresh and juicy. Not as off-putting as an IPA can sometimes be. Fruity like fresh mango and pineapple. \\nTaste: very hoppy, yes. But not as extreme or unpleasant as I expected. A fruity hop burst that twisted to a sweet, bready, caramelized malt finish. An excellent balance of malts and pine. \\nMouthfeel: substantial body. A little sticky. Smooth. \\nWhat a great hoppy amber ale.\\xa0',\n",
       " '25': 'An amazing beer. The smell alone is absolutely delicious.',\n",
       " '26': 'Had this beer in 2016 and 2017.  To me the only flavor is resin, not citrus or pine.',\n",
       " '27': 'Poured from a bottle into a glass with sediment roused. \\n\\nOverall: Excellent brew. Surprised at how good this is.\\n\\nLook: orange tinged amber. Hazy. Frothy head that stayed til the last sip. Lacing everywhere. \\nSmell: fresh and juicy. Not as off-putting as an IPA can sometimes be. Fruity like fresh mango and pineapple. \\nTaste: very hoppy, yes. But not as extreme or unpleasant as I expected. A fruity hop burst that twisted to a sweet, bready, caramelized malt finish. An excellent balance of malts and pine. \\nMouthfeel: substantial body. A little sticky. Smooth. \\nWhat a great hoppy amber ale.\\xa0',\n",
       " '3': 'Poured from a bottle into a glass with sediment roused. \\n\\nOverall: Excellent brew. Surprised at how good this is.\\n\\nLook: orange tinged amber. Hazy. Frothy head that stayed til the last sip. Lacing everywhere. \\nSmell: fresh and juicy. Not as off-putting as an IPA can sometimes be. Fruity like fresh mango and pineapple. \\nTaste: very hoppy, yes. But not as extreme or unpleasant as I expected. A fruity hop burst that twisted to a sweet, bready, caramelized malt finish. An excellent balance of malts and pine. \\nMouthfeel: substantial body. A little sticky. Smooth. \\nWhat a great hoppy amber ale.\\xa0',\n",
       " '7': 'An amazing beer. The smell alone is absolutely delicious.',\n",
       " '8': 'Had this beer in 2016 and 2017.  To me the only flavor is resin, not citrus or pine.',\n",
       " '9': 'Poured from a bottle into a glass with sediment roused. \\n\\nOverall: Excellent brew. Surprised at how good this is.\\n\\nLook: orange tinged amber. Hazy. Frothy head that stayed til the last sip. Lacing everywhere. \\nSmell: fresh and juicy. Not as off-putting as an IPA can sometimes be. Fruity like fresh mango and pineapple. \\nTaste: very hoppy, yes. But not as extreme or unpleasant as I expected. A fruity hop burst that twisted to a sweet, bready, caramelized malt finish. An excellent balance of malts and pine. \\nMouthfeel: substantial body. A little sticky. Smooth. \\nWhat a great hoppy amber ale.\\xa0',\n",
       " 'ABV': '7.50',\n",
       " 'Beer_Name': 'Tröegs Nugget Nectar',\n",
       " 'Brewery_Name': 'Tröegs Brewing Company'}"
      ]
     },
     "execution_count": 34,
     "metadata": {},
     "output_type": "execute_result"
    }
   ],
   "source": [
    "quality_reviews"
   ]
  },
  {
   "cell_type": "code",
   "execution_count": 28,
   "metadata": {},
   "outputs": [
    {
     "data": {
      "text/plain": [
       "8790"
      ]
     },
     "execution_count": 28,
     "metadata": {},
     "output_type": "execute_result"
    }
   ],
   "source": [
    "int('8,790'.replace(',',''))"
   ]
  },
  {
   "cell_type": "code",
   "execution_count": 19,
   "metadata": {
    "collapsed": true
   },
   "outputs": [
    {
     "name": "stdout",
     "output_type": "stream",
     "text": [
      "https://www.beeradvocate.com/beer/style/128/\n",
      "https://www.beeradvocate.com/beer/style/19/\n",
      "https://www.beeradvocate.com/beer/style/175/\n",
      "https://www.beeradvocate.com/beer/style/99/\n",
      "https://www.beeradvocate.com/beer/style/73/\n",
      "https://www.beeradvocate.com/beer/style/94/\n",
      "https://www.beeradvocate.com/beer/style/140/\n",
      "https://www.beeradvocate.com/beer/style/157/\n",
      "https://www.beeradvocate.com/beer/style/116/\n",
      "https://www.beeradvocate.com/beer/style/97/\n",
      "https://www.beeradvocate.com/beer/style/93/\n",
      "https://www.beeradvocate.com/beer/style/159/\n",
      "https://www.beeradvocate.com/beer/style/158/\n",
      "https://www.beeradvocate.com/beer/style/78/\n",
      "https://www.beeradvocate.com/beer/style/171/\n",
      "https://www.beeradvocate.com/beer/style/130/\n",
      "https://www.beeradvocate.com/beer/style/163/\n",
      "https://www.beeradvocate.com/beer/style/6/\n",
      "https://www.beeradvocate.com/beer/style/72/\n",
      "https://www.beeradvocate.com/beer/style/12/\n",
      "https://www.beeradvocate.com/beer/style/60/\n",
      "https://www.beeradvocate.com/beer/style/119/\n",
      "https://www.beeradvocate.com/beer/style/174/\n",
      "https://www.beeradvocate.com/beer/style/54/\n",
      "https://www.beeradvocate.com/beer/style/56/\n",
      "https://www.beeradvocate.com/beer/style/55/\n",
      "https://www.beeradvocate.com/beer/style/141/\n",
      "https://www.beeradvocate.com/beer/style/127/\n",
      "https://www.beeradvocate.com/beer/style/57/\n",
      "https://www.beeradvocate.com/beer/style/15/\n",
      "https://www.beeradvocate.com/beer/style/52/\n",
      "https://www.beeradvocate.com/beer/style/53/\n",
      "https://www.beeradvocate.com/beer/style/14/\n",
      "https://www.beeradvocate.com/beer/style/10/\n",
      "https://www.beeradvocate.com/beer/style/50/\n",
      "https://www.beeradvocate.com/beer/style/142/\n",
      "https://www.beeradvocate.com/beer/style/129/\n",
      "https://www.beeradvocate.com/beer/style/58/\n",
      "https://www.beeradvocate.com/beer/style/48/\n",
      "https://www.beeradvocate.com/beer/style/80/\n",
      "https://www.beeradvocate.com/beer/style/114/\n",
      "https://www.beeradvocate.com/beer/style/152/\n",
      "https://www.beeradvocate.com/beer/style/98/\n",
      "https://www.beeradvocate.com/beer/style/74/\n",
      "https://www.beeradvocate.com/beer/style/75/\n",
      "https://www.beeradvocate.com/beer/style/150/\n",
      "https://www.beeradvocate.com/beer/style/154/\n",
      "https://www.beeradvocate.com/beer/style/76/\n",
      "https://www.beeradvocate.com/beer/style/101/\n",
      "https://www.beeradvocate.com/beer/style/13/\n",
      "https://www.beeradvocate.com/beer/style/165/\n",
      "https://www.beeradvocate.com/beer/style/66/\n",
      "https://www.beeradvocate.com/beer/style/95/\n",
      "https://www.beeradvocate.com/beer/style/82/\n",
      "https://www.beeradvocate.com/beer/style/69/\n",
      "https://www.beeradvocate.com/beer/style/79/\n",
      "https://www.beeradvocate.com/beer/style/84/\n",
      "https://www.beeradvocate.com/beer/style/47/\n",
      "https://www.beeradvocate.com/beer/style/148/\n",
      "https://www.beeradvocate.com/beer/style/86/\n",
      "https://www.beeradvocate.com/beer/style/87/\n",
      "https://www.beeradvocate.com/beer/style/91/\n",
      "https://www.beeradvocate.com/beer/style/16/\n",
      "https://www.beeradvocate.com/beer/style/89/\n",
      "https://www.beeradvocate.com/beer/style/85/\n",
      "https://www.beeradvocate.com/beer/style/90/\n",
      "https://www.beeradvocate.com/beer/style/18/\n",
      "https://www.beeradvocate.com/beer/style/92/\n",
      "https://www.beeradvocate.com/beer/style/162/\n",
      "https://www.beeradvocate.com/beer/style/161/\n",
      "https://www.beeradvocate.com/beer/style/173/\n",
      "https://www.beeradvocate.com/beer/style/77/\n",
      "https://www.beeradvocate.com/beer/style/68/\n",
      "https://www.beeradvocate.com/beer/style/70/\n",
      "https://www.beeradvocate.com/beer/style/38/\n",
      "https://www.beeradvocate.com/beer/style/147/\n",
      "https://www.beeradvocate.com/beer/style/164/\n",
      "https://www.beeradvocate.com/beer/style/42/\n",
      "https://www.beeradvocate.com/beer/style/155/\n",
      "https://www.beeradvocate.com/beer/style/132/\n",
      "https://www.beeradvocate.com/beer/style/39/\n",
      "https://www.beeradvocate.com/beer/style/5/\n",
      "https://www.beeradvocate.com/beer/style/40/\n",
      "https://www.beeradvocate.com/beer/style/149/\n",
      "https://www.beeradvocate.com/beer/style/37/\n",
      "https://www.beeradvocate.com/beer/style/43/\n",
      "https://www.beeradvocate.com/beer/style/32/\n",
      "https://www.beeradvocate.com/beer/style/35/\n",
      "https://www.beeradvocate.com/beer/style/20/\n",
      "https://www.beeradvocate.com/beer/style/36/\n",
      "https://www.beeradvocate.com/beer/style/41/\n",
      "https://www.beeradvocate.com/beer/style/131/\n",
      "https://www.beeradvocate.com/beer/style/33/\n",
      "https://www.beeradvocate.com/beer/style/29/\n",
      "https://www.beeradvocate.com/beer/style/46/\n",
      "https://www.beeradvocate.com/beer/style/21/\n",
      "https://www.beeradvocate.com/beer/style/7/\n",
      "https://www.beeradvocate.com/beer/style/31/\n",
      "https://www.beeradvocate.com/beer/style/30/\n",
      "https://www.beeradvocate.com/beer/style/168/\n",
      "https://www.beeradvocate.com/beer/style/169/\n",
      "https://www.beeradvocate.com/beer/style/9/\n",
      "https://www.beeradvocate.com/beer/style/8/\n",
      "https://www.beeradvocate.com/beer/style/11/\n"
     ]
    }
   ],
   "source": [
    "#bsp = BeerStylesPage\n",
    "for bsp in beer_styles.values():\n",
    "    style_page = requests.get(bsp+'?sort=revsD&start=0')\n",
    "    "
   ]
  },
  {
   "cell_type": "code",
   "execution_count": 122,
   "metadata": {},
   "outputs": [
    {
     "name": "stdout",
     "output_type": "stream",
     "text": [
      "[ 3.63096516  2.97196946  3.59375285  2.80251842  4.21879535  3.14527029\n",
      "  5.06322034  3.62610547  3.94702156  4.00928969  3.82662595  5.14013319\n",
      "  9.32729767  5.40578739  5.38907801  2.67664075  5.27930289  3.15537869\n",
      "  4.58350277  8.47517308  3.73412727  5.48687738  2.08695297  4.58108765\n",
      "  4.4826796 ]\n",
      "4.42558215408\n"
     ]
    }
   ],
   "source": [
    "# Testing random distributions\n",
    "import numpy as np\n",
    "sample = np.random.lognormal(mean=1.5, sigma=0.4, size=25)\n",
    "print(sample)\n",
    "print(sample.mean())"
   ]
  },
  {
   "cell_type": "markdown",
   "metadata": {},
   "source": [
    "## Mongo Shit"
   ]
  },
  {
   "cell_type": "code",
   "execution_count": 129,
   "metadata": {},
   "outputs": [
    {
     "name": "stdout",
     "output_type": "stream",
     "text": [
      "9\n"
     ]
    }
   ],
   "source": [
    "# Testing clearing output for print over writting in iPython Notebooks\n",
    "from IPython.display import clear_output\n",
    "for i in range(1,10):\n",
    "    time.sleep(0.5)\n",
    "    print(i)\n",
    "    clear_output(wait=True)"
   ]
  },
  {
   "cell_type": "code",
   "execution_count": 1,
   "metadata": {
    "collapsed": true
   },
   "outputs": [],
   "source": [
    "# connecting to the DB\n",
    "from pymongo import MongoClient\n",
    "client = MongoClient('52.26.233.189',27016)\n",
    "\n",
    "Beers = client['Beers']\n",
    "#beer_coll = Beers['Beer_Coll']\n",
    "#beer_coll.insert_one(quality_reviews)"
   ]
  },
  {
   "cell_type": "code",
   "execution_count": 6,
   "metadata": {
    "collapsed": true
   },
   "outputs": [
    {
     "ename": "KeyboardInterrupt",
     "evalue": "",
     "output_type": "error",
     "traceback": [
      "\u001b[0;31m---------------------------------------------------------------------------\u001b[0m",
      "\u001b[0;31mKeyboardInterrupt\u001b[0m                         Traceback (most recent call last)",
      "\u001b[0;32m<ipython-input-6-5ac8299c143b>\u001b[0m in \u001b[0;36m<module>\u001b[0;34m()\u001b[0m\n\u001b[0;32m----> 1\u001b[0;31m \u001b[0mBeers\u001b[0m\u001b[0;34m[\u001b[0m\u001b[0;34m'Beer_final'\u001b[0m\u001b[0;34m]\u001b[0m\u001b[0;34m.\u001b[0m\u001b[0mcount\u001b[0m\u001b[0;34m(\u001b[0m\u001b[0;34m)\u001b[0m\u001b[0;34m\u001b[0m\u001b[0m\n\u001b[0m",
      "\u001b[0;32m~/anaconda3/lib/python3.6/site-packages/pymongo/collection.py\u001b[0m in \u001b[0;36mcount\u001b[0;34m(self, filter, **kwargs)\u001b[0m\n\u001b[1;32m   1392\u001b[0m         \u001b[0mcollation\u001b[0m \u001b[0;34m=\u001b[0m \u001b[0mvalidate_collation_or_none\u001b[0m\u001b[0;34m(\u001b[0m\u001b[0mkwargs\u001b[0m\u001b[0;34m.\u001b[0m\u001b[0mpop\u001b[0m\u001b[0;34m(\u001b[0m\u001b[0;34m'collation'\u001b[0m\u001b[0;34m,\u001b[0m \u001b[0;32mNone\u001b[0m\u001b[0;34m)\u001b[0m\u001b[0;34m)\u001b[0m\u001b[0;34m\u001b[0m\u001b[0m\n\u001b[1;32m   1393\u001b[0m         \u001b[0mcmd\u001b[0m\u001b[0;34m.\u001b[0m\u001b[0mupdate\u001b[0m\u001b[0;34m(\u001b[0m\u001b[0mkwargs\u001b[0m\u001b[0;34m)\u001b[0m\u001b[0;34m\u001b[0m\u001b[0m\n\u001b[0;32m-> 1394\u001b[0;31m         \u001b[0;32mreturn\u001b[0m \u001b[0mself\u001b[0m\u001b[0;34m.\u001b[0m\u001b[0m_count\u001b[0m\u001b[0;34m(\u001b[0m\u001b[0mcmd\u001b[0m\u001b[0;34m,\u001b[0m \u001b[0mcollation\u001b[0m\u001b[0;34m)\u001b[0m\u001b[0;34m\u001b[0m\u001b[0m\n\u001b[0m\u001b[1;32m   1395\u001b[0m \u001b[0;34m\u001b[0m\u001b[0m\n\u001b[1;32m   1396\u001b[0m     \u001b[0;32mdef\u001b[0m \u001b[0mcreate_indexes\u001b[0m\u001b[0;34m(\u001b[0m\u001b[0mself\u001b[0m\u001b[0;34m,\u001b[0m \u001b[0mindexes\u001b[0m\u001b[0;34m)\u001b[0m\u001b[0;34m:\u001b[0m\u001b[0;34m\u001b[0m\u001b[0m\n",
      "\u001b[0;32m~/anaconda3/lib/python3.6/site-packages/pymongo/collection.py\u001b[0m in \u001b[0;36m_count\u001b[0;34m(self, cmd, collation)\u001b[0m\n\u001b[1;32m   1342\u001b[0m     \u001b[0;32mdef\u001b[0m \u001b[0m_count\u001b[0m\u001b[0;34m(\u001b[0m\u001b[0mself\u001b[0m\u001b[0;34m,\u001b[0m \u001b[0mcmd\u001b[0m\u001b[0;34m,\u001b[0m \u001b[0mcollation\u001b[0m\u001b[0;34m=\u001b[0m\u001b[0;32mNone\u001b[0m\u001b[0;34m)\u001b[0m\u001b[0;34m:\u001b[0m\u001b[0;34m\u001b[0m\u001b[0m\n\u001b[1;32m   1343\u001b[0m         \u001b[0;34m\"\"\"Internal count helper.\"\"\"\u001b[0m\u001b[0;34m\u001b[0m\u001b[0m\n\u001b[0;32m-> 1344\u001b[0;31m         \u001b[0;32mwith\u001b[0m \u001b[0mself\u001b[0m\u001b[0;34m.\u001b[0m\u001b[0m_socket_for_reads\u001b[0m\u001b[0;34m(\u001b[0m\u001b[0;34m)\u001b[0m \u001b[0;32mas\u001b[0m \u001b[0;34m(\u001b[0m\u001b[0msock_info\u001b[0m\u001b[0;34m,\u001b[0m \u001b[0mslave_ok\u001b[0m\u001b[0;34m)\u001b[0m\u001b[0;34m:\u001b[0m\u001b[0;34m\u001b[0m\u001b[0m\n\u001b[0m\u001b[1;32m   1345\u001b[0m             res = self._command(\n\u001b[1;32m   1346\u001b[0m                 \u001b[0msock_info\u001b[0m\u001b[0;34m,\u001b[0m \u001b[0mcmd\u001b[0m\u001b[0;34m,\u001b[0m \u001b[0mslave_ok\u001b[0m\u001b[0;34m,\u001b[0m\u001b[0;34m\u001b[0m\u001b[0m\n",
      "\u001b[0;32m~/anaconda3/lib/python3.6/contextlib.py\u001b[0m in \u001b[0;36m__enter__\u001b[0;34m(self)\u001b[0m\n\u001b[1;32m     79\u001b[0m     \u001b[0;32mdef\u001b[0m \u001b[0m__enter__\u001b[0m\u001b[0;34m(\u001b[0m\u001b[0mself\u001b[0m\u001b[0;34m)\u001b[0m\u001b[0;34m:\u001b[0m\u001b[0;34m\u001b[0m\u001b[0m\n\u001b[1;32m     80\u001b[0m         \u001b[0;32mtry\u001b[0m\u001b[0;34m:\u001b[0m\u001b[0;34m\u001b[0m\u001b[0m\n\u001b[0;32m---> 81\u001b[0;31m             \u001b[0;32mreturn\u001b[0m \u001b[0mnext\u001b[0m\u001b[0;34m(\u001b[0m\u001b[0mself\u001b[0m\u001b[0;34m.\u001b[0m\u001b[0mgen\u001b[0m\u001b[0;34m)\u001b[0m\u001b[0;34m\u001b[0m\u001b[0m\n\u001b[0m\u001b[1;32m     82\u001b[0m         \u001b[0;32mexcept\u001b[0m \u001b[0mStopIteration\u001b[0m\u001b[0;34m:\u001b[0m\u001b[0;34m\u001b[0m\u001b[0m\n\u001b[1;32m     83\u001b[0m             \u001b[0;32mraise\u001b[0m \u001b[0mRuntimeError\u001b[0m\u001b[0;34m(\u001b[0m\u001b[0;34m\"generator didn't yield\"\u001b[0m\u001b[0;34m)\u001b[0m \u001b[0;32mfrom\u001b[0m \u001b[0;32mNone\u001b[0m\u001b[0;34m\u001b[0m\u001b[0m\n",
      "\u001b[0;32m~/anaconda3/lib/python3.6/site-packages/pymongo/mongo_client.py\u001b[0m in \u001b[0;36m_socket_for_reads\u001b[0;34m(self, read_preference)\u001b[0m\n\u001b[1;32m    902\u001b[0m         \u001b[0mtopology\u001b[0m \u001b[0;34m=\u001b[0m \u001b[0mself\u001b[0m\u001b[0;34m.\u001b[0m\u001b[0m_get_topology\u001b[0m\u001b[0;34m(\u001b[0m\u001b[0;34m)\u001b[0m\u001b[0;34m\u001b[0m\u001b[0m\n\u001b[1;32m    903\u001b[0m         \u001b[0msingle\u001b[0m \u001b[0;34m=\u001b[0m \u001b[0mtopology\u001b[0m\u001b[0;34m.\u001b[0m\u001b[0mdescription\u001b[0m\u001b[0;34m.\u001b[0m\u001b[0mtopology_type\u001b[0m \u001b[0;34m==\u001b[0m \u001b[0mTOPOLOGY_TYPE\u001b[0m\u001b[0;34m.\u001b[0m\u001b[0mSingle\u001b[0m\u001b[0;34m\u001b[0m\u001b[0m\n\u001b[0;32m--> 904\u001b[0;31m         \u001b[0;32mwith\u001b[0m \u001b[0mself\u001b[0m\u001b[0;34m.\u001b[0m\u001b[0m_get_socket\u001b[0m\u001b[0;34m(\u001b[0m\u001b[0mread_preference\u001b[0m\u001b[0;34m)\u001b[0m \u001b[0;32mas\u001b[0m \u001b[0msock_info\u001b[0m\u001b[0;34m:\u001b[0m\u001b[0;34m\u001b[0m\u001b[0m\n\u001b[0m\u001b[1;32m    905\u001b[0m             slave_ok = (single and not sock_info.is_mongos) or (\n\u001b[1;32m    906\u001b[0m                 preference != ReadPreference.PRIMARY)\n",
      "\u001b[0;32m~/anaconda3/lib/python3.6/contextlib.py\u001b[0m in \u001b[0;36m__enter__\u001b[0;34m(self)\u001b[0m\n\u001b[1;32m     79\u001b[0m     \u001b[0;32mdef\u001b[0m \u001b[0m__enter__\u001b[0m\u001b[0;34m(\u001b[0m\u001b[0mself\u001b[0m\u001b[0;34m)\u001b[0m\u001b[0;34m:\u001b[0m\u001b[0;34m\u001b[0m\u001b[0m\n\u001b[1;32m     80\u001b[0m         \u001b[0;32mtry\u001b[0m\u001b[0;34m:\u001b[0m\u001b[0;34m\u001b[0m\u001b[0m\n\u001b[0;32m---> 81\u001b[0;31m             \u001b[0;32mreturn\u001b[0m \u001b[0mnext\u001b[0m\u001b[0;34m(\u001b[0m\u001b[0mself\u001b[0m\u001b[0;34m.\u001b[0m\u001b[0mgen\u001b[0m\u001b[0;34m)\u001b[0m\u001b[0;34m\u001b[0m\u001b[0m\n\u001b[0m\u001b[1;32m     82\u001b[0m         \u001b[0;32mexcept\u001b[0m \u001b[0mStopIteration\u001b[0m\u001b[0;34m:\u001b[0m\u001b[0;34m\u001b[0m\u001b[0m\n\u001b[1;32m     83\u001b[0m             \u001b[0;32mraise\u001b[0m \u001b[0mRuntimeError\u001b[0m\u001b[0;34m(\u001b[0m\u001b[0;34m\"generator didn't yield\"\u001b[0m\u001b[0;34m)\u001b[0m \u001b[0;32mfrom\u001b[0m \u001b[0;32mNone\u001b[0m\u001b[0;34m\u001b[0m\u001b[0m\n",
      "\u001b[0;32m~/anaconda3/lib/python3.6/site-packages/pymongo/mongo_client.py\u001b[0m in \u001b[0;36m_get_socket\u001b[0;34m(self, selector)\u001b[0m\n\u001b[1;32m    866\u001b[0m     \u001b[0;34m@\u001b[0m\u001b[0mcontextlib\u001b[0m\u001b[0;34m.\u001b[0m\u001b[0mcontextmanager\u001b[0m\u001b[0;34m\u001b[0m\u001b[0m\n\u001b[1;32m    867\u001b[0m     \u001b[0;32mdef\u001b[0m \u001b[0m_get_socket\u001b[0m\u001b[0;34m(\u001b[0m\u001b[0mself\u001b[0m\u001b[0;34m,\u001b[0m \u001b[0mselector\u001b[0m\u001b[0;34m)\u001b[0m\u001b[0;34m:\u001b[0m\u001b[0;34m\u001b[0m\u001b[0m\n\u001b[0;32m--> 868\u001b[0;31m         \u001b[0mserver\u001b[0m \u001b[0;34m=\u001b[0m \u001b[0mself\u001b[0m\u001b[0;34m.\u001b[0m\u001b[0m_get_topology\u001b[0m\u001b[0;34m(\u001b[0m\u001b[0;34m)\u001b[0m\u001b[0;34m.\u001b[0m\u001b[0mselect_server\u001b[0m\u001b[0;34m(\u001b[0m\u001b[0mselector\u001b[0m\u001b[0;34m)\u001b[0m\u001b[0;34m\u001b[0m\u001b[0m\n\u001b[0m\u001b[1;32m    869\u001b[0m         \u001b[0;32mtry\u001b[0m\u001b[0;34m:\u001b[0m\u001b[0;34m\u001b[0m\u001b[0m\n\u001b[1;32m    870\u001b[0m             \u001b[0;32mwith\u001b[0m \u001b[0mserver\u001b[0m\u001b[0;34m.\u001b[0m\u001b[0mget_socket\u001b[0m\u001b[0;34m(\u001b[0m\u001b[0mself\u001b[0m\u001b[0;34m.\u001b[0m\u001b[0m__all_credentials\u001b[0m\u001b[0;34m)\u001b[0m \u001b[0;32mas\u001b[0m \u001b[0msock_info\u001b[0m\u001b[0;34m:\u001b[0m\u001b[0;34m\u001b[0m\u001b[0m\n",
      "\u001b[0;32m~/anaconda3/lib/python3.6/site-packages/pymongo/topology.py\u001b[0m in \u001b[0;36mselect_server\u001b[0;34m(self, selector, server_selection_timeout, address)\u001b[0m\n\u001b[1;32m    212\u001b[0m         return random.choice(self.select_servers(selector,\n\u001b[1;32m    213\u001b[0m                                                  \u001b[0mserver_selection_timeout\u001b[0m\u001b[0;34m,\u001b[0m\u001b[0;34m\u001b[0m\u001b[0m\n\u001b[0;32m--> 214\u001b[0;31m                                                  address))\n\u001b[0m\u001b[1;32m    215\u001b[0m \u001b[0;34m\u001b[0m\u001b[0m\n\u001b[1;32m    216\u001b[0m     def select_server_by_address(self, address,\n",
      "\u001b[0;32m~/anaconda3/lib/python3.6/site-packages/pymongo/topology.py\u001b[0m in \u001b[0;36mselect_servers\u001b[0;34m(self, selector, server_selection_timeout, address)\u001b[0m\n\u001b[1;32m    196\u001b[0m                 \u001b[0;31m# came after our most recent apply_selector call, since we've\u001b[0m\u001b[0;34m\u001b[0m\u001b[0;34m\u001b[0m\u001b[0m\n\u001b[1;32m    197\u001b[0m                 \u001b[0;31m# held the lock until now.\u001b[0m\u001b[0;34m\u001b[0m\u001b[0;34m\u001b[0m\u001b[0m\n\u001b[0;32m--> 198\u001b[0;31m                 \u001b[0mself\u001b[0m\u001b[0;34m.\u001b[0m\u001b[0m_condition\u001b[0m\u001b[0;34m.\u001b[0m\u001b[0mwait\u001b[0m\u001b[0;34m(\u001b[0m\u001b[0mcommon\u001b[0m\u001b[0;34m.\u001b[0m\u001b[0mMIN_HEARTBEAT_INTERVAL\u001b[0m\u001b[0;34m)\u001b[0m\u001b[0;34m\u001b[0m\u001b[0m\n\u001b[0m\u001b[1;32m    199\u001b[0m                 \u001b[0mself\u001b[0m\u001b[0;34m.\u001b[0m\u001b[0m_description\u001b[0m\u001b[0;34m.\u001b[0m\u001b[0mcheck_compatible\u001b[0m\u001b[0;34m(\u001b[0m\u001b[0;34m)\u001b[0m\u001b[0;34m\u001b[0m\u001b[0m\n\u001b[1;32m    200\u001b[0m                 \u001b[0mnow\u001b[0m \u001b[0;34m=\u001b[0m \u001b[0m_time\u001b[0m\u001b[0;34m(\u001b[0m\u001b[0;34m)\u001b[0m\u001b[0;34m\u001b[0m\u001b[0m\n",
      "\u001b[0;32m~/anaconda3/lib/python3.6/threading.py\u001b[0m in \u001b[0;36mwait\u001b[0;34m(self, timeout)\u001b[0m\n\u001b[1;32m    297\u001b[0m             \u001b[0;32melse\u001b[0m\u001b[0;34m:\u001b[0m\u001b[0;34m\u001b[0m\u001b[0m\n\u001b[1;32m    298\u001b[0m                 \u001b[0;32mif\u001b[0m \u001b[0mtimeout\u001b[0m \u001b[0;34m>\u001b[0m \u001b[0;36m0\u001b[0m\u001b[0;34m:\u001b[0m\u001b[0;34m\u001b[0m\u001b[0m\n\u001b[0;32m--> 299\u001b[0;31m                     \u001b[0mgotit\u001b[0m \u001b[0;34m=\u001b[0m \u001b[0mwaiter\u001b[0m\u001b[0;34m.\u001b[0m\u001b[0macquire\u001b[0m\u001b[0;34m(\u001b[0m\u001b[0;32mTrue\u001b[0m\u001b[0;34m,\u001b[0m \u001b[0mtimeout\u001b[0m\u001b[0;34m)\u001b[0m\u001b[0;34m\u001b[0m\u001b[0m\n\u001b[0m\u001b[1;32m    300\u001b[0m                 \u001b[0;32melse\u001b[0m\u001b[0;34m:\u001b[0m\u001b[0;34m\u001b[0m\u001b[0m\n\u001b[1;32m    301\u001b[0m                     \u001b[0mgotit\u001b[0m \u001b[0;34m=\u001b[0m \u001b[0mwaiter\u001b[0m\u001b[0;34m.\u001b[0m\u001b[0macquire\u001b[0m\u001b[0;34m(\u001b[0m\u001b[0;32mFalse\u001b[0m\u001b[0;34m)\u001b[0m\u001b[0;34m\u001b[0m\u001b[0m\n",
      "\u001b[0;31mKeyboardInterrupt\u001b[0m: "
     ]
    }
   ],
   "source": [
    "Beers['Beer_final'].count()"
   ]
  },
  {
   "cell_type": "code",
   "execution_count": null,
   "metadata": {
    "collapsed": true
   },
   "outputs": [],
   "source": []
  },
  {
   "cell_type": "code",
   "execution_count": null,
   "metadata": {
    "collapsed": true
   },
   "outputs": [],
   "source": []
  },
  {
   "cell_type": "code",
   "execution_count": null,
   "metadata": {
    "collapsed": true
   },
   "outputs": [],
   "source": []
  },
  {
   "cell_type": "code",
   "execution_count": 47,
   "metadata": {
    "collapsed": true
   },
   "outputs": [
    {
     "data": {
      "text/plain": [
       "['admin', 'config', 'local', 'test']"
      ]
     },
     "execution_count": 47,
     "metadata": {},
     "output_type": "execute_result"
    }
   ],
   "source": [
    "# create a new database called 'Beers'\n",
    "beer_db = client.Beers\n",
    "\n",
    "# create a new collection called 'Beer_Coll'\n",
    "beers = beer_db['Beer_Coll']\n"
   ]
  },
  {
   "cell_type": "code",
   "execution_count": 48,
   "metadata": {},
   "outputs": [
    {
     "data": {
      "text/plain": [
       "<pymongo.results.InsertOneResult at 0x10b59bdc8>"
      ]
     },
     "execution_count": 48,
     "metadata": {},
     "output_type": "execute_result"
    }
   ],
   "source": [
    "# need to make an insertion in order for DB and Collection to be generated.\n",
    "beers.insert_one(quality_reviews)"
   ]
  },
  {
   "cell_type": "code",
   "execution_count": 52,
   "metadata": {},
   "outputs": [
    {
     "data": {
      "text/plain": [
       "['Beers', 'admin', 'config', 'local', 'test']"
      ]
     },
     "execution_count": 52,
     "metadata": {},
     "output_type": "execute_result"
    }
   ],
   "source": [
    "# Beers has been created\n",
    "client.database_names()"
   ]
  },
  {
   "cell_type": "code",
   "execution_count": 53,
   "metadata": {},
   "outputs": [
    {
     "data": {
      "text/plain": [
       "['Beer_Coll']"
      ]
     },
     "execution_count": 53,
     "metadata": {},
     "output_type": "execute_result"
    }
   ],
   "source": [
    "# Beer_Coll collection has been created.\n",
    "Beers = client['Beers']\n",
    "Beers.collection_names()"
   ]
  },
  {
   "cell_type": "code",
   "execution_count": 54,
   "metadata": {},
   "outputs": [
    {
     "data": {
      "text/plain": [
       "{'1': 'An amazing beer. The smell alone is absolutely delicious.',\n",
       " '10': 'An amazing beer. The smell alone is absolutely delicious.',\n",
       " '11': 'Had this beer in 2016 and 2017.  To me the only flavor is resin, not citrus or pine.',\n",
       " '12': 'Poured from a bottle into a glass with sediment roused. \\n\\nOverall: Excellent brew. Surprised at how good this is.\\n\\nLook: orange tinged amber. Hazy. Frothy head that stayed til the last sip. Lacing everywhere. \\nSmell: fresh and juicy. Not as off-putting as an IPA can sometimes be. Fruity like fresh mango and pineapple. \\nTaste: very hoppy, yes. But not as extreme or unpleasant as I expected. A fruity hop burst that twisted to a sweet, bready, caramelized malt finish. An excellent balance of malts and pine. \\nMouthfeel: substantial body. A little sticky. Smooth. \\nWhat a great hoppy amber ale.\\xa0',\n",
       " '13': 'An amazing beer. The smell alone is absolutely delicious.',\n",
       " '14': 'Had this beer in 2016 and 2017.  To me the only flavor is resin, not citrus or pine.',\n",
       " '15': 'Poured from a bottle into a glass with sediment roused. \\n\\nOverall: Excellent brew. Surprised at how good this is.\\n\\nLook: orange tinged amber. Hazy. Frothy head that stayed til the last sip. Lacing everywhere. \\nSmell: fresh and juicy. Not as off-putting as an IPA can sometimes be. Fruity like fresh mango and pineapple. \\nTaste: very hoppy, yes. But not as extreme or unpleasant as I expected. A fruity hop burst that twisted to a sweet, bready, caramelized malt finish. An excellent balance of malts and pine. \\nMouthfeel: substantial body. A little sticky. Smooth. \\nWhat a great hoppy amber ale.\\xa0',\n",
       " '16': 'An amazing beer. The smell alone is absolutely delicious.',\n",
       " '17': 'Had this beer in 2016 and 2017.  To me the only flavor is resin, not citrus or pine.',\n",
       " '18': 'Poured from a bottle into a glass with sediment roused. \\n\\nOverall: Excellent brew. Surprised at how good this is.\\n\\nLook: orange tinged amber. Hazy. Frothy head that stayed til the last sip. Lacing everywhere. \\nSmell: fresh and juicy. Not as off-putting as an IPA can sometimes be. Fruity like fresh mango and pineapple. \\nTaste: very hoppy, yes. But not as extreme or unpleasant as I expected. A fruity hop burst that twisted to a sweet, bready, caramelized malt finish. An excellent balance of malts and pine. \\nMouthfeel: substantial body. A little sticky. Smooth. \\nWhat a great hoppy amber ale.\\xa0',\n",
       " '19': 'An amazing beer. The smell alone is absolutely delicious.',\n",
       " '2': 'Had this beer in 2016 and 2017.  To me the only flavor is resin, not citrus or pine.',\n",
       " '20': 'Had this beer in 2016 and 2017.  To me the only flavor is resin, not citrus or pine.',\n",
       " '21': 'Poured from a bottle into a glass with sediment roused. \\n\\nOverall: Excellent brew. Surprised at how good this is.\\n\\nLook: orange tinged amber. Hazy. Frothy head that stayed til the last sip. Lacing everywhere. \\nSmell: fresh and juicy. Not as off-putting as an IPA can sometimes be. Fruity like fresh mango and pineapple. \\nTaste: very hoppy, yes. But not as extreme or unpleasant as I expected. A fruity hop burst that twisted to a sweet, bready, caramelized malt finish. An excellent balance of malts and pine. \\nMouthfeel: substantial body. A little sticky. Smooth. \\nWhat a great hoppy amber ale.\\xa0',\n",
       " '22': 'An amazing beer. The smell alone is absolutely delicious.',\n",
       " '23': 'Had this beer in 2016 and 2017.  To me the only flavor is resin, not citrus or pine.',\n",
       " '24': 'Poured from a bottle into a glass with sediment roused. \\n\\nOverall: Excellent brew. Surprised at how good this is.\\n\\nLook: orange tinged amber. Hazy. Frothy head that stayed til the last sip. Lacing everywhere. \\nSmell: fresh and juicy. Not as off-putting as an IPA can sometimes be. Fruity like fresh mango and pineapple. \\nTaste: very hoppy, yes. But not as extreme or unpleasant as I expected. A fruity hop burst that twisted to a sweet, bready, caramelized malt finish. An excellent balance of malts and pine. \\nMouthfeel: substantial body. A little sticky. Smooth. \\nWhat a great hoppy amber ale.\\xa0',\n",
       " '25': 'An amazing beer. The smell alone is absolutely delicious.',\n",
       " '26': 'Had this beer in 2016 and 2017.  To me the only flavor is resin, not citrus or pine.',\n",
       " '27': 'Poured from a bottle into a glass with sediment roused. \\n\\nOverall: Excellent brew. Surprised at how good this is.\\n\\nLook: orange tinged amber. Hazy. Frothy head that stayed til the last sip. Lacing everywhere. \\nSmell: fresh and juicy. Not as off-putting as an IPA can sometimes be. Fruity like fresh mango and pineapple. \\nTaste: very hoppy, yes. But not as extreme or unpleasant as I expected. A fruity hop burst that twisted to a sweet, bready, caramelized malt finish. An excellent balance of malts and pine. \\nMouthfeel: substantial body. A little sticky. Smooth. \\nWhat a great hoppy amber ale.\\xa0',\n",
       " '3': 'Poured from a bottle into a glass with sediment roused. \\n\\nOverall: Excellent brew. Surprised at how good this is.\\n\\nLook: orange tinged amber. Hazy. Frothy head that stayed til the last sip. Lacing everywhere. \\nSmell: fresh and juicy. Not as off-putting as an IPA can sometimes be. Fruity like fresh mango and pineapple. \\nTaste: very hoppy, yes. But not as extreme or unpleasant as I expected. A fruity hop burst that twisted to a sweet, bready, caramelized malt finish. An excellent balance of malts and pine. \\nMouthfeel: substantial body. A little sticky. Smooth. \\nWhat a great hoppy amber ale.\\xa0',\n",
       " '7': 'An amazing beer. The smell alone is absolutely delicious.',\n",
       " '8': 'Had this beer in 2016 and 2017.  To me the only flavor is resin, not citrus or pine.',\n",
       " '9': 'Poured from a bottle into a glass with sediment roused. \\n\\nOverall: Excellent brew. Surprised at how good this is.\\n\\nLook: orange tinged amber. Hazy. Frothy head that stayed til the last sip. Lacing everywhere. \\nSmell: fresh and juicy. Not as off-putting as an IPA can sometimes be. Fruity like fresh mango and pineapple. \\nTaste: very hoppy, yes. But not as extreme or unpleasant as I expected. A fruity hop burst that twisted to a sweet, bready, caramelized malt finish. An excellent balance of malts and pine. \\nMouthfeel: substantial body. A little sticky. Smooth. \\nWhat a great hoppy amber ale.\\xa0',\n",
       " 'ABV': '7.50',\n",
       " 'Beer_Name': 'Tröegs Nugget Nectar',\n",
       " 'Brewery_Name': 'Tröegs Brewing Company',\n",
       " '_id': ObjectId('5a42a18aeda243194b88525c')}"
      ]
     },
     "execution_count": 54,
     "metadata": {},
     "output_type": "execute_result"
    }
   ],
   "source": [
    "beer_coll = Beers['Beer_Coll']\n",
    "beer_coll.find_one()"
   ]
  },
  {
   "cell_type": "markdown",
   "metadata": {},
   "source": [
    "### Experimenting with Mongo DB"
   ]
  },
  {
   "cell_type": "code",
   "execution_count": 8,
   "metadata": {},
   "outputs": [
    {
     "name": "stdout",
     "output_type": "stream",
     "text": [
      "['admin', 'config', 'local', 'test']\n"
     ]
    }
   ],
   "source": [
    "# databse names\n",
    "print(client.database_names())"
   ]
  },
  {
   "cell_type": "code",
   "execution_count": 9,
   "metadata": {
    "collapsed": true
   },
   "outputs": [],
   "source": [
    "db = client.test"
   ]
  },
  {
   "cell_type": "code",
   "execution_count": 10,
   "metadata": {},
   "outputs": [
    {
     "data": {
      "text/plain": [
       "['test']"
      ]
     },
     "execution_count": 10,
     "metadata": {},
     "output_type": "execute_result"
    }
   ],
   "source": [
    "# collections within databases\n",
    "db.collection_names()"
   ]
  },
  {
   "cell_type": "code",
   "execution_count": 11,
   "metadata": {
    "collapsed": true
   },
   "outputs": [],
   "source": [
    "tests = db.test"
   ]
  },
  {
   "cell_type": "code",
   "execution_count": 12,
   "metadata": {},
   "outputs": [
    {
     "data": {
      "text/plain": [
       "{'Dales Pale Ale': ['Light Crisp', 'Pale Ale'],\n",
       " '_id': ObjectId('5a3422ff6b0f33d578d48ceb')}"
      ]
     },
     "execution_count": 12,
     "metadata": {},
     "output_type": "execute_result"
    }
   ],
   "source": [
    "# find a single document \n",
    "tests.find_one()"
   ]
  },
  {
   "cell_type": "code",
   "execution_count": 36,
   "metadata": {},
   "outputs": [
    {
     "name": "stderr",
     "output_type": "stream",
     "text": [
      "/Users/samstack/anaconda3/lib/python3.6/site-packages/ipykernel_launcher.py:1: DeprecationWarning: insert is deprecated. Use insert_one or insert_many instead.\n",
      "  \"\"\"Entry point for launching an IPython kernel.\n"
     ]
    },
    {
     "data": {
      "text/plain": [
       "ObjectId('5a42a18aeda243194b88525c')"
      ]
     },
     "execution_count": 36,
     "metadata": {},
     "output_type": "execute_result"
    }
   ],
   "source": [
    "# inserting into database\n",
    "tests.insert_one(quality_reviews)"
   ]
  },
  {
   "cell_type": "code",
   "execution_count": 121,
   "metadata": {},
   "outputs": [
    {
     "name": "stdout",
     "output_type": "stream",
     "text": [
      "{'_id': ObjectId('5a3422ff6b0f33d578d48ceb'), 'Dales Pale Ale': ['Light Crisp', 'Pale Ale']}\n",
      "{'_id': ObjectId('5a342d0e6b0f33d578d48cec'), 'Guiness': ['Dark', 'roasty', 'stout']}\n",
      "{'_id': ObjectId('5a42a18aeda243194b88525c'), '1': 'An amazing beer. The smell alone is absolutely delicious.', '2': 'Had this beer in 2016 and 2017.  To me the only flavor is resin, not citrus or pine.', '3': 'Poured from a bottle into a glass with sediment roused. \\n\\nOverall: Excellent brew. Surprised at how good this is.\\n\\nLook: orange tinged amber. Hazy. Frothy head that stayed til the last sip. Lacing everywhere. \\nSmell: fresh and juicy. Not as off-putting as an IPA can sometimes be. Fruity like fresh mango and pineapple. \\nTaste: very hoppy, yes. But not as extreme or unpleasant as I expected. A fruity hop burst that twisted to a sweet, bready, caramelized malt finish. An excellent balance of malts and pine. \\nMouthfeel: substantial body. A little sticky. Smooth. \\nWhat a great hoppy amber ale.\\xa0', 'Beer_Name': 'Tröegs Nugget Nectar', 'Brewery_Name': 'Tröegs Brewing Company', 'ABV': '7.50', '7': 'An amazing beer. The smell alone is absolutely delicious.', '8': 'Had this beer in 2016 and 2017.  To me the only flavor is resin, not citrus or pine.', '9': 'Poured from a bottle into a glass with sediment roused. \\n\\nOverall: Excellent brew. Surprised at how good this is.\\n\\nLook: orange tinged amber. Hazy. Frothy head that stayed til the last sip. Lacing everywhere. \\nSmell: fresh and juicy. Not as off-putting as an IPA can sometimes be. Fruity like fresh mango and pineapple. \\nTaste: very hoppy, yes. But not as extreme or unpleasant as I expected. A fruity hop burst that twisted to a sweet, bready, caramelized malt finish. An excellent balance of malts and pine. \\nMouthfeel: substantial body. A little sticky. Smooth. \\nWhat a great hoppy amber ale.\\xa0', '10': 'An amazing beer. The smell alone is absolutely delicious.', '11': 'Had this beer in 2016 and 2017.  To me the only flavor is resin, not citrus or pine.', '12': 'Poured from a bottle into a glass with sediment roused. \\n\\nOverall: Excellent brew. Surprised at how good this is.\\n\\nLook: orange tinged amber. Hazy. Frothy head that stayed til the last sip. Lacing everywhere. \\nSmell: fresh and juicy. Not as off-putting as an IPA can sometimes be. Fruity like fresh mango and pineapple. \\nTaste: very hoppy, yes. But not as extreme or unpleasant as I expected. A fruity hop burst that twisted to a sweet, bready, caramelized malt finish. An excellent balance of malts and pine. \\nMouthfeel: substantial body. A little sticky. Smooth. \\nWhat a great hoppy amber ale.\\xa0', '13': 'An amazing beer. The smell alone is absolutely delicious.', '14': 'Had this beer in 2016 and 2017.  To me the only flavor is resin, not citrus or pine.', '15': 'Poured from a bottle into a glass with sediment roused. \\n\\nOverall: Excellent brew. Surprised at how good this is.\\n\\nLook: orange tinged amber. Hazy. Frothy head that stayed til the last sip. Lacing everywhere. \\nSmell: fresh and juicy. Not as off-putting as an IPA can sometimes be. Fruity like fresh mango and pineapple. \\nTaste: very hoppy, yes. But not as extreme or unpleasant as I expected. A fruity hop burst that twisted to a sweet, bready, caramelized malt finish. An excellent balance of malts and pine. \\nMouthfeel: substantial body. A little sticky. Smooth. \\nWhat a great hoppy amber ale.\\xa0', '16': 'An amazing beer. The smell alone is absolutely delicious.', '17': 'Had this beer in 2016 and 2017.  To me the only flavor is resin, not citrus or pine.', '18': 'Poured from a bottle into a glass with sediment roused. \\n\\nOverall: Excellent brew. Surprised at how good this is.\\n\\nLook: orange tinged amber. Hazy. Frothy head that stayed til the last sip. Lacing everywhere. \\nSmell: fresh and juicy. Not as off-putting as an IPA can sometimes be. Fruity like fresh mango and pineapple. \\nTaste: very hoppy, yes. But not as extreme or unpleasant as I expected. A fruity hop burst that twisted to a sweet, bready, caramelized malt finish. An excellent balance of malts and pine. \\nMouthfeel: substantial body. A little sticky. Smooth. \\nWhat a great hoppy amber ale.\\xa0', '19': 'An amazing beer. The smell alone is absolutely delicious.', '20': 'Had this beer in 2016 and 2017.  To me the only flavor is resin, not citrus or pine.', '21': 'Poured from a bottle into a glass with sediment roused. \\n\\nOverall: Excellent brew. Surprised at how good this is.\\n\\nLook: orange tinged amber. Hazy. Frothy head that stayed til the last sip. Lacing everywhere. \\nSmell: fresh and juicy. Not as off-putting as an IPA can sometimes be. Fruity like fresh mango and pineapple. \\nTaste: very hoppy, yes. But not as extreme or unpleasant as I expected. A fruity hop burst that twisted to a sweet, bready, caramelized malt finish. An excellent balance of malts and pine. \\nMouthfeel: substantial body. A little sticky. Smooth. \\nWhat a great hoppy amber ale.\\xa0', '22': 'An amazing beer. The smell alone is absolutely delicious.', '23': 'Had this beer in 2016 and 2017.  To me the only flavor is resin, not citrus or pine.', '24': 'Poured from a bottle into a glass with sediment roused. \\n\\nOverall: Excellent brew. Surprised at how good this is.\\n\\nLook: orange tinged amber. Hazy. Frothy head that stayed til the last sip. Lacing everywhere. \\nSmell: fresh and juicy. Not as off-putting as an IPA can sometimes be. Fruity like fresh mango and pineapple. \\nTaste: very hoppy, yes. But not as extreme or unpleasant as I expected. A fruity hop burst that twisted to a sweet, bready, caramelized malt finish. An excellent balance of malts and pine. \\nMouthfeel: substantial body. A little sticky. Smooth. \\nWhat a great hoppy amber ale.\\xa0', '25': 'An amazing beer. The smell alone is absolutely delicious.', '26': 'Had this beer in 2016 and 2017.  To me the only flavor is resin, not citrus or pine.', '27': 'Poured from a bottle into a glass with sediment roused. \\n\\nOverall: Excellent brew. Surprised at how good this is.\\n\\nLook: orange tinged amber. Hazy. Frothy head that stayed til the last sip. Lacing everywhere. \\nSmell: fresh and juicy. Not as off-putting as an IPA can sometimes be. Fruity like fresh mango and pineapple. \\nTaste: very hoppy, yes. But not as extreme or unpleasant as I expected. A fruity hop burst that twisted to a sweet, bready, caramelized malt finish. An excellent balance of malts and pine. \\nMouthfeel: substantial body. A little sticky. Smooth. \\nWhat a great hoppy amber ale.\\xa0'}\n"
     ]
    }
   ],
   "source": [
    "# returning all objects from a database\n",
    "for post in tests.find({}):\n",
    "    print(post)"
   ]
  },
  {
   "cell_type": "code",
   "execution_count": 133,
   "metadata": {},
   "outputs": [
    {
     "name": "stdout",
     "output_type": "stream",
     "text": [
      "Bell's Kalamazoo Stout\n",
      "Chocolate Stout\n",
      "Obsidian Stout\n",
      "Bell's Special Double Cream Stout\n",
      "Sierra Nevada Stout\n",
      "Chicory Stout\n",
      "Bell's Java Stout\n"
     ]
    }
   ],
   "source": [
    "table = client['Beers']['Beer_Coll2']\n",
    "\n",
    "for post in table.find({})[:100]:\n",
    "    print(post['Beer_Name'])"
   ]
  },
  {
   "cell_type": "code",
   "execution_count": 21,
   "metadata": {
    "scrolled": false
   },
   "outputs": [
    {
     "name": "stdout",
     "output_type": "stream",
     "text": [
      "1\n",
      "3\n",
      "5\n",
      "7\n",
      "9\n"
     ]
    }
   ],
   "source": [
    "for i in range(1,10):\n",
    "    if i%2 == 0:\n",
    "        continue\n",
    "    print(i)"
   ]
  },
  {
   "cell_type": "markdown",
   "metadata": {},
   "source": [
    "# Final Code."
   ]
  },
  {
   "cell_type": "code",
   "execution_count": 81,
   "metadata": {
    "collapsed": true
   },
   "outputs": [],
   "source": [
    "### Ncessary Imports\n",
    "import pandas as pd\n",
    "\n",
    "import re\n",
    "import bs4\n",
    "from bs4 import BeautifulSoup\n",
    "import requests\n",
    "import urllib\n",
    "\n",
    "import numpy as np\n",
    "\n",
    "import time\n",
    "\n",
    "from IPython.display import clear_output"
   ]
  },
  {
   "cell_type": "code",
   "execution_count": 5,
   "metadata": {
    "collapsed": true
   },
   "outputs": [],
   "source": [
    "beer_styles_page = requests.get('https://www.beeradvocate.com/beer/style/')\n",
    "\n",
    "beer_styles_soup = BeautifulSoup(beer_styles_page.content,\"html5lib\")"
   ]
  },
  {
   "cell_type": "markdown",
   "metadata": {},
   "source": [
    "#### Retrieve all the Beer style pages"
   ]
  },
  {
   "cell_type": "code",
   "execution_count": 6,
   "metadata": {
    "collapsed": true
   },
   "outputs": [],
   "source": [
    "beer_styles = {}\n",
    "for beer in beer_styles_soup.find_all(name='tr'):\n",
    "    for style in beer.find_all('a'):\n",
    "        name = style.text\n",
    "        link = 'https://www.beeradvocate.com'+style['href']\n",
    "        beer_styles[name] = link "
   ]
  },
  {
   "cell_type": "code",
   "execution_count": 7,
   "metadata": {},
   "outputs": [
    {
     "data": {
      "text/plain": [
       "{'Altbier': 'https://www.beeradvocate.com/beer/style/86/',\n",
       " 'American Adjunct Lager': 'https://www.beeradvocate.com/beer/style/38/',\n",
       " 'American Amber / Red Ale': 'https://www.beeradvocate.com/beer/style/128/',\n",
       " 'American Amber / Red Lager': 'https://www.beeradvocate.com/beer/style/147/',\n",
       " 'American Barleywine': 'https://www.beeradvocate.com/beer/style/19/',\n",
       " 'American Black Ale': 'https://www.beeradvocate.com/beer/style/175/',\n",
       " 'American Blonde Ale': 'https://www.beeradvocate.com/beer/style/99/',\n",
       " 'American Brown Ale': 'https://www.beeradvocate.com/beer/style/73/',\n",
       " 'American Dark Wheat Ale': 'https://www.beeradvocate.com/beer/style/94/',\n",
       " 'American Double / Imperial IPA': 'https://www.beeradvocate.com/beer/style/140/',\n",
       " 'American Double / Imperial Pilsner': 'https://www.beeradvocate.com/beer/style/164/',\n",
       " 'American Double / Imperial Stout': 'https://www.beeradvocate.com/beer/style/157/',\n",
       " 'American IPA': 'https://www.beeradvocate.com/beer/style/116/',\n",
       " 'American Malt Liquor': 'https://www.beeradvocate.com/beer/style/42/',\n",
       " 'American Pale Ale (APA)': 'https://www.beeradvocate.com/beer/style/97/',\n",
       " 'American Pale Lager': 'https://www.beeradvocate.com/beer/style/155/',\n",
       " 'American Pale Wheat Ale': 'https://www.beeradvocate.com/beer/style/93/',\n",
       " 'American Porter': 'https://www.beeradvocate.com/beer/style/159/',\n",
       " 'American Stout': 'https://www.beeradvocate.com/beer/style/158/',\n",
       " 'American Strong Ale': 'https://www.beeradvocate.com/beer/style/78/',\n",
       " 'American Wild Ale': 'https://www.beeradvocate.com/beer/style/171/',\n",
       " 'Baltic Porter': 'https://www.beeradvocate.com/beer/style/80/',\n",
       " 'Belgian Dark Ale': 'https://www.beeradvocate.com/beer/style/119/',\n",
       " 'Belgian IPA': 'https://www.beeradvocate.com/beer/style/174/',\n",
       " 'Belgian Pale Ale': 'https://www.beeradvocate.com/beer/style/54/',\n",
       " 'Belgian Strong Dark Ale': 'https://www.beeradvocate.com/beer/style/56/',\n",
       " 'Belgian Strong Pale Ale': 'https://www.beeradvocate.com/beer/style/55/',\n",
       " 'Berliner Weissbier': 'https://www.beeradvocate.com/beer/style/87/',\n",
       " 'Bière de Champagne / Bière Brut': 'https://www.beeradvocate.com/beer/style/141/',\n",
       " 'Bière de Garde': 'https://www.beeradvocate.com/beer/style/127/',\n",
       " 'Black & Tan': 'https://www.beeradvocate.com/beer/style/130/',\n",
       " 'Bock': 'https://www.beeradvocate.com/beer/style/32/',\n",
       " 'Braggot': 'https://www.beeradvocate.com/beer/style/114/',\n",
       " 'California Common / Steam Beer': 'https://www.beeradvocate.com/beer/style/132/',\n",
       " 'Chile Beer': 'https://www.beeradvocate.com/beer/style/163/',\n",
       " 'Cream Ale': 'https://www.beeradvocate.com/beer/style/6/',\n",
       " 'Czech Pilsener': 'https://www.beeradvocate.com/beer/style/40/',\n",
       " 'Doppelbock': 'https://www.beeradvocate.com/beer/style/35/',\n",
       " 'Dortmunder / Export Lager': 'https://www.beeradvocate.com/beer/style/20/',\n",
       " 'Dubbel': 'https://www.beeradvocate.com/beer/style/57/',\n",
       " 'Dunkelweizen': 'https://www.beeradvocate.com/beer/style/91/',\n",
       " 'Eisbock': 'https://www.beeradvocate.com/beer/style/36/',\n",
       " 'English Barleywine': 'https://www.beeradvocate.com/beer/style/152/',\n",
       " 'English Bitter': 'https://www.beeradvocate.com/beer/style/98/',\n",
       " 'English Brown Ale': 'https://www.beeradvocate.com/beer/style/74/',\n",
       " 'English Dark Mild Ale': 'https://www.beeradvocate.com/beer/style/75/',\n",
       " 'English India Pale Ale (IPA)': 'https://www.beeradvocate.com/beer/style/150/',\n",
       " 'English Pale Ale': 'https://www.beeradvocate.com/beer/style/154/',\n",
       " 'English Pale Mild Ale': 'https://www.beeradvocate.com/beer/style/76/',\n",
       " 'English Porter': 'https://www.beeradvocate.com/beer/style/101/',\n",
       " 'English Stout': 'https://www.beeradvocate.com/beer/style/13/',\n",
       " 'English Strong Ale': 'https://www.beeradvocate.com/beer/style/165/',\n",
       " 'Euro Dark Lager': 'https://www.beeradvocate.com/beer/style/149/',\n",
       " 'Euro Pale Lager': 'https://www.beeradvocate.com/beer/style/37/',\n",
       " 'Euro Strong Lager': 'https://www.beeradvocate.com/beer/style/43/',\n",
       " 'Extra Special / Strong Bitter (ESB)': 'https://www.beeradvocate.com/beer/style/66/',\n",
       " 'Faro': 'https://www.beeradvocate.com/beer/style/15/',\n",
       " 'Flanders Oud Bruin': 'https://www.beeradvocate.com/beer/style/52/',\n",
       " 'Flanders Red Ale': 'https://www.beeradvocate.com/beer/style/53/',\n",
       " 'Foreign / Export Stout': 'https://www.beeradvocate.com/beer/style/95/',\n",
       " 'Fruit / Vegetable Beer': 'https://www.beeradvocate.com/beer/style/9/',\n",
       " 'German Pilsener': 'https://www.beeradvocate.com/beer/style/41/',\n",
       " 'Gose': 'https://www.beeradvocate.com/beer/style/16/',\n",
       " 'Gueuze': 'https://www.beeradvocate.com/beer/style/14/',\n",
       " 'Happoshu': 'https://www.beeradvocate.com/beer/style/168/',\n",
       " 'Hefeweizen': 'https://www.beeradvocate.com/beer/style/89/',\n",
       " 'Herbed / Spiced Beer': 'https://www.beeradvocate.com/beer/style/8/',\n",
       " 'Irish Dry Stout': 'https://www.beeradvocate.com/beer/style/162/',\n",
       " 'Irish Red Ale': 'https://www.beeradvocate.com/beer/style/161/',\n",
       " 'Japanese Rice Lager': 'https://www.beeradvocate.com/beer/style/169/',\n",
       " 'Kellerbier / Zwickelbier': 'https://www.beeradvocate.com/beer/style/131/',\n",
       " 'Kristalweizen': 'https://www.beeradvocate.com/beer/style/90/',\n",
       " 'Kvass': 'https://www.beeradvocate.com/beer/style/173/',\n",
       " 'Kölsch': 'https://www.beeradvocate.com/beer/style/85/',\n",
       " 'Lambic - Fruit': 'https://www.beeradvocate.com/beer/style/10/',\n",
       " 'Lambic - Unblended': 'https://www.beeradvocate.com/beer/style/50/',\n",
       " 'Light Lager': 'https://www.beeradvocate.com/beer/style/39/',\n",
       " 'Low Alcohol Beer': 'https://www.beeradvocate.com/beer/style/5/',\n",
       " 'Maibock / Helles Bock': 'https://www.beeradvocate.com/beer/style/33/',\n",
       " 'Milk / Sweet Stout': 'https://www.beeradvocate.com/beer/style/82/',\n",
       " 'Munich Dunkel Lager': 'https://www.beeradvocate.com/beer/style/46/',\n",
       " 'Munich Helles Lager': 'https://www.beeradvocate.com/beer/style/21/',\n",
       " 'Märzen / Oktoberfest': 'https://www.beeradvocate.com/beer/style/29/',\n",
       " 'Oatmeal Stout': 'https://www.beeradvocate.com/beer/style/69/',\n",
       " 'Old Ale': 'https://www.beeradvocate.com/beer/style/79/',\n",
       " 'Pumpkin Ale': 'https://www.beeradvocate.com/beer/style/72/',\n",
       " 'Quadrupel (Quad)': 'https://www.beeradvocate.com/beer/style/142/',\n",
       " 'Rauchbier': 'https://www.beeradvocate.com/beer/style/7/',\n",
       " 'Roggenbier': 'https://www.beeradvocate.com/beer/style/18/',\n",
       " 'Russian Imperial Stout': 'https://www.beeradvocate.com/beer/style/84/',\n",
       " 'Rye Beer': 'https://www.beeradvocate.com/beer/style/12/',\n",
       " 'Sahti': 'https://www.beeradvocate.com/beer/style/148/',\n",
       " 'Saison / Farmhouse Ale': 'https://www.beeradvocate.com/beer/style/129/',\n",
       " 'Schwarzbier': 'https://www.beeradvocate.com/beer/style/31/',\n",
       " 'Scotch Ale / Wee Heavy': 'https://www.beeradvocate.com/beer/style/77/',\n",
       " 'Scottish Ale': 'https://www.beeradvocate.com/beer/style/68/',\n",
       " 'Scottish Gruit / Ancient Herbed Ale': 'https://www.beeradvocate.com/beer/style/70/',\n",
       " 'Smoked Beer': 'https://www.beeradvocate.com/beer/style/11/',\n",
       " 'Tripel': 'https://www.beeradvocate.com/beer/style/58/',\n",
       " 'Vienna Lager': 'https://www.beeradvocate.com/beer/style/30/',\n",
       " 'Weizenbock': 'https://www.beeradvocate.com/beer/style/92/',\n",
       " 'Wheatwine': 'https://www.beeradvocate.com/beer/style/60/',\n",
       " 'Winter Warmer': 'https://www.beeradvocate.com/beer/style/47/',\n",
       " 'Witbier': 'https://www.beeradvocate.com/beer/style/48/'}"
      ]
     },
     "execution_count": 7,
     "metadata": {},
     "output_type": "execute_result"
    }
   ],
   "source": [
    "beer_styles"
   ]
  },
  {
   "cell_type": "markdown",
   "metadata": {},
   "source": [
    "#### Randomly divide Beer Styles into 6 lists"
   ]
  },
  {
   "cell_type": "markdown",
   "metadata": {},
   "source": [
    "106 different beer styles, which cannot be evenly divided by 6 so...\n",
    "- Four sets of 18\n",
    "- Two sets of 17"
   ]
  },
  {
   "cell_type": "code",
   "execution_count": 8,
   "metadata": {
    "collapsed": true
   },
   "outputs": [],
   "source": [
    "# randomizes the order of the list of beers\n",
    "random_beer_list = np.random.choice(list(beer_styles.keys()), size = len(beer_styles),replace=False)\n",
    "group1 = random_beer_list[:18]\n",
    "group2 = random_beer_list[18:36]\n",
    "group3 = random_beer_list[36:54]\n",
    "group4 = random_beer_list[54:72]\n",
    "group5 = random_beer_list[72:89]\n",
    "group6 = random_beer_list[89:]"
   ]
  },
  {
   "cell_type": "markdown",
   "metadata": {},
   "source": [
    "Not necessary, but I used this to make sure there were no repeating beer types in my randoms.\n",
    "\n",
    "```python\n",
    "group_list = [group1,group2,group3,group4,group5,group6]\n",
    "\n",
    "import itertools\n",
    "\n",
    "for a,b in itertools.combinations(group_list,2):\n",
    "    print(set(a) & set(b))\n",
    "```"
   ]
  },
  {
   "cell_type": "markdown",
   "metadata": {},
   "source": [
    "#### Database Connection"
   ]
  },
  {
   "cell_type": "code",
   "execution_count": 86,
   "metadata": {},
   "outputs": [
    {
     "name": "stdout",
     "output_type": "stream",
     "text": [
      "Collecting pymongo\n",
      "  Downloading pymongo-3.6.0-cp36-cp36m-manylinux1_x86_64.whl (378kB)\n",
      "\u001b[K    100% |████████████████████████████████| 378kB 1.4MB/s ta 0:00:011\n",
      "\u001b[?25hInstalling collected packages: pymongo\n",
      "Successfully installed pymongo-3.6.0\n"
     ]
    }
   ],
   "source": [
    "!pip install pymongo"
   ]
  },
  {
   "cell_type": "code",
   "execution_count": 91,
   "metadata": {
    "collapsed": true
   },
   "outputs": [],
   "source": [
    "# connecting to the DB\n",
    "#from pymongo import MongoClient\n",
    "\n",
    "client = MongoClient('250.250.250.250',20000)\n",
    "\n",
    "# setting path to collection\n",
    "Beers = client['Beers']\n",
    "beer_coll = Beers['Beer_Coll2']\n"
   ]
  },
  {
   "cell_type": "code",
   "execution_count": 92,
   "metadata": {
    "collapsed": true
   },
   "outputs": [
    {
     "ename": "ServerSelectionTimeoutError",
     "evalue": "172.31.40.93:27016: [Errno 111] Connection refused",
     "output_type": "error",
     "traceback": [
      "\u001b[0;31m---------------------------------------------------------------------------\u001b[0m",
      "\u001b[0;31mServerSelectionTimeoutError\u001b[0m               Traceback (most recent call last)",
      "\u001b[0;32m<ipython-input-92-739aeb4a8464>\u001b[0m in \u001b[0;36m<module>\u001b[0;34m()\u001b[0m\n\u001b[0;32m----> 1\u001b[0;31m \u001b[0mprint\u001b[0m\u001b[0;34m(\u001b[0m\u001b[0mclient\u001b[0m\u001b[0;34m.\u001b[0m\u001b[0mdatabase_names\u001b[0m\u001b[0;34m(\u001b[0m\u001b[0;34m)\u001b[0m\u001b[0;34m)\u001b[0m\u001b[0;34m\u001b[0m\u001b[0m\n\u001b[0m",
      "\u001b[0;32m/opt/conda/lib/python3.6/site-packages/pymongo/mongo_client.py\u001b[0m in \u001b[0;36mlist_database_names\u001b[0;34m(self, session)\u001b[0m\n\u001b[1;32m   1491\u001b[0m         \"\"\"\n\u001b[1;32m   1492\u001b[0m         return [doc[\"name\"]\n\u001b[0;32m-> 1493\u001b[0;31m                 for doc in self.list_databases(session, nameOnly=True)]\n\u001b[0m\u001b[1;32m   1494\u001b[0m \u001b[0;34m\u001b[0m\u001b[0m\n\u001b[1;32m   1495\u001b[0m     \u001b[0mdatabase_names\u001b[0m \u001b[0;34m=\u001b[0m \u001b[0mlist_database_names\u001b[0m\u001b[0;34m\u001b[0m\u001b[0m\n",
      "\u001b[0;32m/opt/conda/lib/python3.6/site-packages/pymongo/mongo_client.py\u001b[0m in \u001b[0;36mlist_databases\u001b[0;34m(self, session, **kwargs)\u001b[0m\n\u001b[1;32m   1471\u001b[0m         \u001b[0mcmd\u001b[0m\u001b[0;34m.\u001b[0m\u001b[0mupdate\u001b[0m\u001b[0;34m(\u001b[0m\u001b[0mkwargs\u001b[0m\u001b[0;34m)\u001b[0m\u001b[0;34m\u001b[0m\u001b[0m\n\u001b[1;32m   1472\u001b[0m         res = self._database_default_options(\n\u001b[0;32m-> 1473\u001b[0;31m             \"admin\").command(cmd, session=session)\n\u001b[0m\u001b[1;32m   1474\u001b[0m         \u001b[0;31m# listDatabases doesn't return a cursor (yet). Fake one.\u001b[0m\u001b[0;34m\u001b[0m\u001b[0;34m\u001b[0m\u001b[0m\n\u001b[1;32m   1475\u001b[0m         cursor = {\n",
      "\u001b[0;32m/opt/conda/lib/python3.6/site-packages/pymongo/database.py\u001b[0m in \u001b[0;36mcommand\u001b[0;34m(self, command, value, check, allowable_errors, read_preference, codec_options, session, **kwargs)\u001b[0m\n\u001b[1;32m    527\u001b[0m         \"\"\"\n\u001b[1;32m    528\u001b[0m         \u001b[0mclient\u001b[0m \u001b[0;34m=\u001b[0m \u001b[0mself\u001b[0m\u001b[0;34m.\u001b[0m\u001b[0m__client\u001b[0m\u001b[0;34m\u001b[0m\u001b[0m\n\u001b[0;32m--> 529\u001b[0;31m         \u001b[0;32mwith\u001b[0m \u001b[0mclient\u001b[0m\u001b[0;34m.\u001b[0m\u001b[0m_socket_for_reads\u001b[0m\u001b[0;34m(\u001b[0m\u001b[0mread_preference\u001b[0m\u001b[0;34m)\u001b[0m \u001b[0;32mas\u001b[0m \u001b[0;34m(\u001b[0m\u001b[0msock_info\u001b[0m\u001b[0;34m,\u001b[0m \u001b[0mslave_ok\u001b[0m\u001b[0;34m)\u001b[0m\u001b[0;34m:\u001b[0m\u001b[0;34m\u001b[0m\u001b[0m\n\u001b[0m\u001b[1;32m    530\u001b[0m             return self._command(sock_info, command, slave_ok, value,\n\u001b[1;32m    531\u001b[0m                                  \u001b[0mcheck\u001b[0m\u001b[0;34m,\u001b[0m \u001b[0mallowable_errors\u001b[0m\u001b[0;34m,\u001b[0m \u001b[0mread_preference\u001b[0m\u001b[0;34m,\u001b[0m\u001b[0;34m\u001b[0m\u001b[0m\n",
      "\u001b[0;32m/opt/conda/lib/python3.6/contextlib.py\u001b[0m in \u001b[0;36m__enter__\u001b[0;34m(self)\u001b[0m\n\u001b[1;32m     79\u001b[0m     \u001b[0;32mdef\u001b[0m \u001b[0m__enter__\u001b[0m\u001b[0;34m(\u001b[0m\u001b[0mself\u001b[0m\u001b[0;34m)\u001b[0m\u001b[0;34m:\u001b[0m\u001b[0;34m\u001b[0m\u001b[0m\n\u001b[1;32m     80\u001b[0m         \u001b[0;32mtry\u001b[0m\u001b[0;34m:\u001b[0m\u001b[0;34m\u001b[0m\u001b[0m\n\u001b[0;32m---> 81\u001b[0;31m             \u001b[0;32mreturn\u001b[0m \u001b[0mnext\u001b[0m\u001b[0;34m(\u001b[0m\u001b[0mself\u001b[0m\u001b[0;34m.\u001b[0m\u001b[0mgen\u001b[0m\u001b[0;34m)\u001b[0m\u001b[0;34m\u001b[0m\u001b[0m\n\u001b[0m\u001b[1;32m     82\u001b[0m         \u001b[0;32mexcept\u001b[0m \u001b[0mStopIteration\u001b[0m\u001b[0;34m:\u001b[0m\u001b[0;34m\u001b[0m\u001b[0m\n\u001b[1;32m     83\u001b[0m             \u001b[0;32mraise\u001b[0m \u001b[0mRuntimeError\u001b[0m\u001b[0;34m(\u001b[0m\u001b[0;34m\"generator didn't yield\"\u001b[0m\u001b[0;34m)\u001b[0m \u001b[0;32mfrom\u001b[0m \u001b[0;32mNone\u001b[0m\u001b[0;34m\u001b[0m\u001b[0m\n",
      "\u001b[0;32m/opt/conda/lib/python3.6/site-packages/pymongo/mongo_client.py\u001b[0m in \u001b[0;36m_socket_for_reads\u001b[0;34m(self, read_preference)\u001b[0m\n\u001b[1;32m    977\u001b[0m         \u001b[0mtopology\u001b[0m \u001b[0;34m=\u001b[0m \u001b[0mself\u001b[0m\u001b[0;34m.\u001b[0m\u001b[0m_get_topology\u001b[0m\u001b[0;34m(\u001b[0m\u001b[0;34m)\u001b[0m\u001b[0;34m\u001b[0m\u001b[0m\n\u001b[1;32m    978\u001b[0m         \u001b[0msingle\u001b[0m \u001b[0;34m=\u001b[0m \u001b[0mtopology\u001b[0m\u001b[0;34m.\u001b[0m\u001b[0mdescription\u001b[0m\u001b[0;34m.\u001b[0m\u001b[0mtopology_type\u001b[0m \u001b[0;34m==\u001b[0m \u001b[0mTOPOLOGY_TYPE\u001b[0m\u001b[0;34m.\u001b[0m\u001b[0mSingle\u001b[0m\u001b[0;34m\u001b[0m\u001b[0m\n\u001b[0;32m--> 979\u001b[0;31m         \u001b[0mserver\u001b[0m \u001b[0;34m=\u001b[0m \u001b[0mtopology\u001b[0m\u001b[0;34m.\u001b[0m\u001b[0mselect_server\u001b[0m\u001b[0;34m(\u001b[0m\u001b[0mread_preference\u001b[0m\u001b[0;34m)\u001b[0m\u001b[0;34m\u001b[0m\u001b[0m\n\u001b[0m\u001b[1;32m    980\u001b[0m         \u001b[0;32mwith\u001b[0m \u001b[0mself\u001b[0m\u001b[0;34m.\u001b[0m\u001b[0m_get_socket\u001b[0m\u001b[0;34m(\u001b[0m\u001b[0mserver\u001b[0m\u001b[0;34m)\u001b[0m \u001b[0;32mas\u001b[0m \u001b[0msock_info\u001b[0m\u001b[0;34m:\u001b[0m\u001b[0;34m\u001b[0m\u001b[0m\n\u001b[1;32m    981\u001b[0m             slave_ok = (single and not sock_info.is_mongos) or (\n",
      "\u001b[0;32m/opt/conda/lib/python3.6/site-packages/pymongo/topology.py\u001b[0m in \u001b[0;36mselect_server\u001b[0;34m(self, selector, server_selection_timeout, address)\u001b[0m\n\u001b[1;32m    222\u001b[0m         return random.choice(self.select_servers(selector,\n\u001b[1;32m    223\u001b[0m                                                  \u001b[0mserver_selection_timeout\u001b[0m\u001b[0;34m,\u001b[0m\u001b[0;34m\u001b[0m\u001b[0m\n\u001b[0;32m--> 224\u001b[0;31m                                                  address))\n\u001b[0m\u001b[1;32m    225\u001b[0m \u001b[0;34m\u001b[0m\u001b[0m\n\u001b[1;32m    226\u001b[0m     def select_server_by_address(self, address,\n",
      "\u001b[0;32m/opt/conda/lib/python3.6/site-packages/pymongo/topology.py\u001b[0m in \u001b[0;36mselect_servers\u001b[0;34m(self, selector, server_selection_timeout, address)\u001b[0m\n\u001b[1;32m    181\u001b[0m         \u001b[0;32mwith\u001b[0m \u001b[0mself\u001b[0m\u001b[0;34m.\u001b[0m\u001b[0m_lock\u001b[0m\u001b[0;34m:\u001b[0m\u001b[0;34m\u001b[0m\u001b[0m\n\u001b[1;32m    182\u001b[0m             server_descriptions = self._select_servers_loop(\n\u001b[0;32m--> 183\u001b[0;31m                 selector, server_timeout, address)\n\u001b[0m\u001b[1;32m    184\u001b[0m \u001b[0;34m\u001b[0m\u001b[0m\n\u001b[1;32m    185\u001b[0m             return [self.get_server_by_address(sd.address)\n",
      "\u001b[0;32m/opt/conda/lib/python3.6/site-packages/pymongo/topology.py\u001b[0m in \u001b[0;36m_select_servers_loop\u001b[0;34m(self, selector, timeout, address)\u001b[0m\n\u001b[1;32m    197\u001b[0m             \u001b[0;32mif\u001b[0m \u001b[0mtimeout\u001b[0m \u001b[0;34m==\u001b[0m \u001b[0;36m0\u001b[0m \u001b[0;32mor\u001b[0m \u001b[0mnow\u001b[0m \u001b[0;34m>\u001b[0m \u001b[0mend_time\u001b[0m\u001b[0;34m:\u001b[0m\u001b[0;34m\u001b[0m\u001b[0m\n\u001b[1;32m    198\u001b[0m                 raise ServerSelectionTimeoutError(\n\u001b[0;32m--> 199\u001b[0;31m                     self._error_message(selector))\n\u001b[0m\u001b[1;32m    200\u001b[0m \u001b[0;34m\u001b[0m\u001b[0m\n\u001b[1;32m    201\u001b[0m             \u001b[0mself\u001b[0m\u001b[0;34m.\u001b[0m\u001b[0m_ensure_opened\u001b[0m\u001b[0;34m(\u001b[0m\u001b[0;34m)\u001b[0m\u001b[0;34m\u001b[0m\u001b[0m\n",
      "\u001b[0;31mServerSelectionTimeoutError\u001b[0m: 172.31.40.93:27016: [Errno 111] Connection refused"
     ]
    }
   ],
   "source": [
    "print(client.database_names())"
   ]
  },
  {
   "cell_type": "markdown",
   "metadata": {},
   "source": [
    "#### Quality Review Extractor Function"
   ]
  },
  {
   "cell_type": "code",
   "execution_count": 14,
   "metadata": {
    "collapsed": true
   },
   "outputs": [],
   "source": [
    "# Used on individual Beers.\n",
    "def quality_review_extractor(reviews_url, reviews_dict):\n",
    "    \n",
    "    # request page contents and convert to soup object\n",
    "    QR_beer_r = requests.get(reviews_url)\n",
    "    QR_beer_r_soup = BeautifulSoup(QR_beer_r.content, 'html5lib')\n",
    "    \n",
    "    # find all individual reviews\n",
    "    for ind_review in QR_beer_r_soup.find_all('div', attrs = {'id':'rating_fullview_container'}): \n",
    "        full_ind_review = ind_review.text # contains username and unwated numeric reviews\n",
    "\n",
    "        # unwanted attributes are contained in <span class=\"muted\">\"Unwated text</span>\n",
    "        numeric_review = ind_review.find_all(name ='span',attrs={'class':'muted'})\n",
    "    \n",
    "        # cleans out unwanted attributes (username, datetime, numeric ratings)\n",
    "        for reviewer in numeric_review:\n",
    "            unwanted_attr = reviewer.text\n",
    "            # replaces unwanted aspects\n",
    "            full_ind_review = full_ind_review.replace(unwanted_attr, '')\n",
    "            # scrubs out the 'Total Score' attribute\n",
    "            clean_review = re.sub( '^(.*)(%)',\"\",string = full_ind_review)\n",
    "        \n",
    "        # if the length of the remaining review is greater than 25 keep\n",
    "        if len(clean_review) > 25:\n",
    "            reviews_dict[str(len(reviews_dict)+1)] = clean_review"
   ]
  },
  {
   "cell_type": "markdown",
   "metadata": {},
   "source": [
    "#### Individual Beer Table Row Scraper."
   ]
  },
  {
   "cell_type": "code",
   "execution_count": 78,
   "metadata": {
    "collapsed": true
   },
   "outputs": [],
   "source": [
    "def beer_table_scrape(table_row):\n",
    "    beer_tag = table_row.find_all('td')\n",
    "    # Try to get the general beer info from the row\n",
    "    try:\n",
    "        beer_name = beer_tag[0].text\n",
    "        brewery_name = beer_tag[1].text\n",
    "        abv = beer_tag[2].text\n",
    "        ratings = beer_tag[3].text\n",
    "\n",
    "        avg_score = beer_tag[4].text\n",
    "        beer_page = 'https://www.beeradvocate.com'+(beer_tag[0].find('a')['href']+'?sort=topr&start=')\n",
    "    except:\n",
    "        pass\n",
    "            \n",
    "        \n",
    "    quality_reviews = {} # empty dict to append reviews to\n",
    "    reviews_page = 0 \n",
    "    \n",
    "    \n",
    "    while len(quality_reviews) < 25 and reviews_page < 1000: # while we have less than 25 good reviews.  \n",
    "        reviews_page_url = beer_page+str(reviews_page) #url formula to change pages\n",
    "        \n",
    " \n",
    "        \n",
    "        print(\"Current Beer : \",beer_name,\n",
    "              \" --- Pages Scraped : \",int(reviews_page/25),\n",
    "              \" --- Quality Reviews : \",len(quality_reviews))\n",
    "        \n",
    "        print(reviews_page_url)\n",
    "        clear_output(wait=True)\n",
    "        \n",
    "        quality_review_extractor(reviews_page_url, quality_reviews) # hit the function\n",
    "        \n",
    "        quality_reviews['Beer_Name'] = beer_name\n",
    "        quality_reviews['Brewery_Name'] = brewery_name\n",
    "        quality_reviews['ABV'] = abv\n",
    "        quality_reviews['Beer_Name']\n",
    "        \n",
    "        \n",
    "        reviews_page += 25 # value increment to change to next \n",
    "        \n",
    "        pause = np.random.lognormal(mean=1.5, sigma=0.4, size=1) #Lognormal dist, avg a 4.5sec pause.\n",
    "        \n",
    "        time.sleep(pause) #take a nap so beeradvocate does not get suspicious.  \n",
    "    \n",
    "    beer_coll.insert_one(quality_reviews)\n",
    " "
   ]
  },
  {
   "cell_type": "markdown",
   "metadata": {},
   "source": [
    "#### Beer Table Crawler loop.\n",
    "\n",
    "Crawls over the tables on individual pages and executes the quality review extractor function within a while loop."
   ]
  },
  {
   "cell_type": "code",
   "execution_count": null,
   "metadata": {
    "collapsed": true
   },
   "outputs": [],
   "source": [
    "# for each beer style in the random list\n",
    "    #while there are still beers of this style to scrape\n",
    "        # for each individual row on the table\n",
    "            # run the scrape\n",
    "        # increment the style value (repeat)"
   ]
  },
  {
   "cell_type": "code",
   "execution_count": 105,
   "metadata": {},
   "outputs": [
    {
     "data": {
      "text/plain": [
       "array(['Fruit / Vegetable Beer', 'American Stout',\n",
       "       'American Double / Imperial IPA', 'American Pale Wheat Ale',\n",
       "       'Vienna Lager', 'Light Lager', 'Eisbock',\n",
       "       'American Amber / Red Ale', 'Scottish Ale', 'English Strong Ale',\n",
       "       'Rauchbier', 'Bière de Garde', 'Lambic - Fruit', 'Czech Pilsener',\n",
       "       'American Pale Lager', 'Hefeweizen', 'Lambic - Unblended',\n",
       "       'Roggenbier'],\n",
       "      dtype='<U35')"
      ]
     },
     "execution_count": 105,
     "metadata": {},
     "output_type": "execute_result"
    }
   ],
   "source": [
    "group1"
   ]
  },
  {
   "cell_type": "code",
   "execution_count": 32,
   "metadata": {
    "collapsed": true
   },
   "outputs": [],
   "source": [
    "test_group = ['Happoshu','Low Alcohol Beer','Rye Beer',]"
   ]
  },
  {
   "cell_type": "code",
   "execution_count": null,
   "metadata": {
    "collapsed": true
   },
   "outputs": [],
   "source": [
    "### Dafuq is wrong with Beer 30 Light????"
   ]
  },
  {
   "cell_type": "markdown",
   "metadata": {},
   "source": [
    "## Need to figure out a way to increment pages better.\n",
    "\n",
    "Maybe instead of using a while loop.  I replace the return value when the number of reviews is less than 100 so that that breaks the scraping for that beer.\n",
    "\n",
    "```python\n",
    "if number_reviews > 100:\n",
    "    return\n",
    "else:\n",
    "     if scrape(beer_pages) == False:\n",
    "        return\n",
    "    \n",
    "```    "
   ]
  },
  {
   "cell_type": "code",
   "execution_count": 80,
   "metadata": {},
   "outputs": [
    {
     "name": "stdout",
     "output_type": "stream",
     "text": [
      "Current Beer :  Coedo Beniaka  --- Pages Scraped :  0  --- Quality Reviews :  0\n",
      "https://www.beeradvocate.com/beer/profile/3551/58111/?sort=topr&start=0\n",
      "Current Beer :  Coedo Beniaka  --- Pages Scraped :  1  --- Quality Reviews :  18\n",
      "https://www.beeradvocate.com/beer/profile/3551/58111/?sort=topr&start=25\n",
      "Current Beer :  O'Doul's  --- Pages Scraped :  0  --- Quality Reviews :  0\n",
      "https://www.beeradvocate.com/beer/profile/29/5727/?sort=topr&start=0\n",
      "Current Beer :  O'Doul's  --- Pages Scraped :  1  --- Quality Reviews :  13\n",
      "https://www.beeradvocate.com/beer/profile/29/5727/?sort=topr&start=25\n",
      "Current Beer :  O'Doul's Amber  --- Pages Scraped :  0  --- Quality Reviews :  0\n",
      "https://www.beeradvocate.com/beer/profile/29/5728/?sort=topr&start=0\n",
      "Current Beer :  O'Doul's Amber  --- Pages Scraped :  1  --- Quality Reviews :  16\n",
      "https://www.beeradvocate.com/beer/profile/29/5728/?sort=topr&start=25\n",
      "Current Beer :  Kaliber  --- Pages Scraped :  0  --- Quality Reviews :  0\n",
      "https://www.beeradvocate.com/beer/profile/209/5333/?sort=topr&start=0\n",
      "Current Beer :  Kaliber  --- Pages Scraped :  1  --- Quality Reviews :  15\n",
      "https://www.beeradvocate.com/beer/profile/209/5333/?sort=topr&start=25\n",
      "Current Beer :  Sharp's  --- Pages Scraped :  0  --- Quality Reviews :  0\n",
      "https://www.beeradvocate.com/beer/profile/105/5747/?sort=topr&start=0\n",
      "Current Beer :  Sharp's  --- Pages Scraped :  1  --- Quality Reviews :  13\n",
      "https://www.beeradvocate.com/beer/profile/105/5747/?sort=topr&start=25\n",
      "Current Beer :  Sharp's  --- Pages Scraped :  2  --- Quality Reviews :  19\n",
      "https://www.beeradvocate.com/beer/profile/105/5747/?sort=topr&start=50\n",
      "Current Beer :  Buckler Non-Alcoholic Brew  --- Pages Scraped :  0  --- Quality Reviews :  0\n",
      "https://www.beeradvocate.com/beer/profile/81/5636/?sort=topr&start=0\n",
      "Current Beer :  Buckler Non-Alcoholic Brew  --- Pages Scraped :  1  --- Quality Reviews :  17\n",
      "https://www.beeradvocate.com/beer/profile/81/5636/?sort=topr&start=25\n",
      "Current Beer :  St. Pauli N. A.  --- Pages Scraped :  0  --- Quality Reviews :  0\n",
      "https://www.beeradvocate.com/beer/profile/224/826/?sort=topr&start=0\n",
      "Current Beer :  St. Pauli N. A.  --- Pages Scraped :  1  --- Quality Reviews :  18\n",
      "https://www.beeradvocate.com/beer/profile/224/826/?sort=topr&start=25\n",
      "Current Beer :  Clausthaler Premium (Non-Alcoholic/Alkoholfrei)  --- Pages Scraped :  0  --- Quality Reviews :  0\n",
      "https://www.beeradvocate.com/beer/profile/290/6906/?sort=topr&start=0\n",
      "Current Beer :  Clausthaler Premium (Non-Alcoholic/Alkoholfrei)  --- Pages Scraped :  1  --- Quality Reviews :  20\n",
      "https://www.beeradvocate.com/beer/profile/290/6906/?sort=topr&start=25\n",
      "Current Beer :  Erdinger Weissbier Alkoholfrei (Non-Alcoholic)  --- Pages Scraped :  0  --- Quality Reviews :  0\n",
      "https://www.beeradvocate.com/beer/profile/703/7211/?sort=topr&start=0\n",
      "Current Beer :  Erdinger Weissbier Alkoholfrei (Non-Alcoholic)  --- Pages Scraped :  1  --- Quality Reviews :  16\n",
      "https://www.beeradvocate.com/beer/profile/703/7211/?sort=topr&start=25\n",
      "Current Beer :  Nanny State  --- Pages Scraped :  0  --- Quality Reviews :  0\n",
      "https://www.beeradvocate.com/beer/profile/16315/53885/?sort=topr&start=0\n",
      "Current Beer :  Nanny State  --- Pages Scraped :  1  --- Quality Reviews :  18\n",
      "https://www.beeradvocate.com/beer/profile/16315/53885/?sort=topr&start=25\n",
      "Current Beer :  Founders Red's Rye IPA  --- Pages Scraped :  0  --- Quality Reviews :  0\n",
      "https://www.beeradvocate.com/beer/profile/1199/16074/?sort=topr&start=0\n",
      "Current Beer :  Founders Red's Rye IPA  --- Pages Scraped :  1  --- Quality Reviews :  16\n",
      "https://www.beeradvocate.com/beer/profile/1199/16074/?sort=topr&start=25\n",
      "Current Beer :  Smitten Golden Rye Ale  --- Pages Scraped :  0  --- Quality Reviews :  0\n",
      "https://www.beeradvocate.com/beer/profile/287/43223/?sort=topr&start=0\n",
      "Current Beer :  Smitten Golden Rye Ale  --- Pages Scraped :  1  --- Quality Reviews :  14\n",
      "https://www.beeradvocate.com/beer/profile/287/43223/?sort=topr&start=25\n",
      "Current Beer :  Smitten Golden Rye Ale  --- Pages Scraped :  2  --- Quality Reviews :  24\n",
      "https://www.beeradvocate.com/beer/profile/287/43223/?sort=topr&start=50\n",
      "Current Beer :  Cane And Ebel  --- Pages Scraped :  0  --- Quality Reviews :  0\n",
      "https://www.beeradvocate.com/beer/profile/689/30502/?sort=topr&start=0\n",
      "Current Beer :  Cane And Ebel  --- Pages Scraped :  1  --- Quality Reviews :  16\n",
      "https://www.beeradvocate.com/beer/profile/689/30502/?sort=topr&start=25\n",
      "Current Beer :  Founders Black Rye  --- Pages Scraped :  0  --- Quality Reviews :  0\n",
      "https://www.beeradvocate.com/beer/profile/1199/16115/?sort=topr&start=0\n",
      "Current Beer :  Founders Black Rye  --- Pages Scraped :  1  --- Quality Reviews :  11\n",
      "https://www.beeradvocate.com/beer/profile/1199/16115/?sort=topr&start=25\n",
      "Current Beer :  Founders Black Rye  --- Pages Scraped :  2  --- Quality Reviews :  20\n",
      "https://www.beeradvocate.com/beer/profile/1199/16115/?sort=topr&start=50\n",
      "Current Beer :  Righteous Ale  --- Pages Scraped :  0  --- Quality Reviews :  0\n",
      "https://www.beeradvocate.com/beer/profile/10607/23453/?sort=topr&start=0\n",
      "Current Beer :  Righteous Ale  --- Pages Scraped :  1  --- Quality Reviews :  14\n",
      "https://www.beeradvocate.com/beer/profile/10607/23453/?sort=topr&start=25\n",
      "Current Beer :  Harpoon Rich & Dan's Rye IPA  --- Pages Scraped :  0  --- Quality Reviews :  0\n",
      "https://www.beeradvocate.com/beer/profile/98/68895/?sort=topr&start=0\n",
      "Current Beer :  Harpoon Rich & Dan's Rye IPA  --- Pages Scraped :  1  --- Quality Reviews :  13\n",
      "https://www.beeradvocate.com/beer/profile/98/68895/?sort=topr&start=25\n",
      "Current Beer :  Kind Ryed IPA  --- Pages Scraped :  0  --- Quality Reviews :  0\n",
      "https://www.beeradvocate.com/beer/profile/119/100915/?sort=topr&start=0\n",
      "Current Beer :  Kind Ryed IPA  --- Pages Scraped :  1  --- Quality Reviews :  9\n",
      "https://www.beeradvocate.com/beer/profile/119/100915/?sort=topr&start=25\n",
      "Current Beer :  Kind Ryed IPA  --- Pages Scraped :  2  --- Quality Reviews :  19\n",
      "https://www.beeradvocate.com/beer/profile/119/100915/?sort=topr&start=50\n",
      "Current Beer :  Route Des Épices (Ale Rousse Au Poivre)  --- Pages Scraped :  0  --- Quality Reviews :  0\n",
      "https://www.beeradvocate.com/beer/profile/1141/10331/?sort=topr&start=0\n",
      "Current Beer :  Route Des Épices (Ale Rousse Au Poivre)  --- Pages Scraped :  1  --- Quality Reviews :  16\n",
      "https://www.beeradvocate.com/beer/profile/1141/10331/?sort=topr&start=25\n",
      "Current Beer :  Full Moon Pale Rye Ale  --- Pages Scraped :  0  --- Quality Reviews :  0\n",
      "https://www.beeradvocate.com/beer/profile/458/2255/?sort=topr&start=0\n",
      "Current Beer :  Full Moon Pale Rye Ale  --- Pages Scraped :  1  --- Quality Reviews :  19\n",
      "https://www.beeradvocate.com/beer/profile/458/2255/?sort=topr&start=25\n",
      "Current Beer :  Blue Point Rastafa Rye Ale  --- Pages Scraped :  0  --- Quality Reviews :  0\n",
      "https://www.beeradvocate.com/beer/profile/764/47507/?sort=topr&start=0\n",
      "Current Beer :  Blue Point Rastafa Rye Ale  --- Pages Scraped :  1  --- Quality Reviews :  14\n",
      "https://www.beeradvocate.com/beer/profile/764/47507/?sort=topr&start=25\n",
      "Current Beer :  Arcadia Sky High Rye  --- Pages Scraped :  0  --- Quality Reviews :  0\n",
      "https://www.beeradvocate.com/beer/profile/35571/47210/?sort=topr&start=0\n",
      "Current Beer :  Arcadia Sky High Rye  --- Pages Scraped :  1  --- Quality Reviews :  19\n",
      "https://www.beeradvocate.com/beer/profile/35571/47210/?sort=topr&start=25\n",
      "Current Beer :  Smuttynose Rhye IPA  --- Pages Scraped :  0  --- Quality Reviews :  0\n",
      "https://www.beeradvocate.com/beer/profile/141/98787/?sort=topr&start=0\n",
      "Current Beer :  Smuttynose Rhye IPA  --- Pages Scraped :  1  --- Quality Reviews :  13\n",
      "https://www.beeradvocate.com/beer/profile/141/98787/?sort=topr&start=25\n",
      "Current Beer :  Smuttynose Rhye IPA  --- Pages Scraped :  2  --- Quality Reviews :  23\n",
      "https://www.beeradvocate.com/beer/profile/141/98787/?sort=topr&start=50\n",
      "Current Beer :  Samuel Adams Revolutionary Rye Ale  --- Pages Scraped :  0  --- Quality Reviews :  0\n",
      "https://www.beeradvocate.com/beer/profile/35/60064/?sort=topr&start=0\n",
      "Current Beer :  Samuel Adams Revolutionary Rye Ale  --- Pages Scraped :  1  --- Quality Reviews :  20\n",
      "https://www.beeradvocate.com/beer/profile/35/60064/?sort=topr&start=25\n",
      "Current Beer :  LUX Rye Ale  --- Pages Scraped :  0  --- Quality Reviews :  0\n",
      "https://www.beeradvocate.com/beer/profile/33519/153367/?sort=topr&start=0\n"
     ]
    },
    {
     "name": "stdout",
     "output_type": "stream",
     "text": [
      "Current Beer :  LUX Rye Ale  --- Pages Scraped :  1  --- Quality Reviews :  9\n",
      "https://www.beeradvocate.com/beer/profile/33519/153367/?sort=topr&start=25\n",
      "Current Beer :  LUX Rye Ale  --- Pages Scraped :  2  --- Quality Reviews :  14\n",
      "https://www.beeradvocate.com/beer/profile/33519/153367/?sort=topr&start=50\n",
      "Current Beer :  LUX Rye Ale  --- Pages Scraped :  3  --- Quality Reviews :  18\n",
      "https://www.beeradvocate.com/beer/profile/33519/153367/?sort=topr&start=75\n",
      "Current Beer :  LUX Rye Ale  --- Pages Scraped :  4  --- Quality Reviews :  23\n",
      "https://www.beeradvocate.com/beer/profile/33519/153367/?sort=topr&start=100\n",
      "Current Beer :  Kentucky Ryed Chiquen  --- Pages Scraped :  0  --- Quality Reviews :  0\n",
      "https://www.beeradvocate.com/beer/profile/26850/78698/?sort=topr&start=0\n",
      "Current Beer :  Kentucky Ryed Chiquen  --- Pages Scraped :  1  --- Quality Reviews :  11\n",
      "https://www.beeradvocate.com/beer/profile/26850/78698/?sort=topr&start=25\n",
      "Current Beer :  Kentucky Ryed Chiquen  --- Pages Scraped :  2  --- Quality Reviews :  16\n",
      "https://www.beeradvocate.com/beer/profile/26850/78698/?sort=topr&start=50\n",
      "Current Beer :  Kentucky Ryed Chiquen  --- Pages Scraped :  3  --- Quality Reviews :  22\n",
      "https://www.beeradvocate.com/beer/profile/26850/78698/?sort=topr&start=75\n",
      "Current Beer :  Six (#6)  --- Pages Scraped :  0  --- Quality Reviews :  0\n",
      "https://www.beeradvocate.com/beer/profile/19866/50054/?sort=topr&start=0\n",
      "Current Beer :  Six (#6)  --- Pages Scraped :  1  --- Quality Reviews :  12\n",
      "https://www.beeradvocate.com/beer/profile/19866/50054/?sort=topr&start=25\n",
      "Current Beer :  Six (#6)  --- Pages Scraped :  2  --- Quality Reviews :  21\n",
      "https://www.beeradvocate.com/beer/profile/19866/50054/?sort=topr&start=50\n",
      "Current Beer :  Rye P.A. Hatter  --- Pages Scraped :  0  --- Quality Reviews :  0\n",
      "https://www.beeradvocate.com/beer/profile/335/59721/?sort=topr&start=0\n",
      "Current Beer :  Rye P.A. Hatter  --- Pages Scraped :  1  --- Quality Reviews :  16\n",
      "https://www.beeradvocate.com/beer/profile/335/59721/?sort=topr&start=25\n",
      "Current Beer :  Viva Habanera  --- Pages Scraped :  0  --- Quality Reviews :  0\n",
      "https://www.beeradvocate.com/beer/profile/28609/80887/?sort=topr&start=0\n",
      "Current Beer :  Viva Habanera  --- Pages Scraped :  1  --- Quality Reviews :  8\n",
      "https://www.beeradvocate.com/beer/profile/28609/80887/?sort=topr&start=25\n",
      "Current Beer :  Viva Habanera  --- Pages Scraped :  2  --- Quality Reviews :  14\n",
      "https://www.beeradvocate.com/beer/profile/28609/80887/?sort=topr&start=50\n",
      "Current Beer :  Viva Habanera  --- Pages Scraped :  3  --- Quality Reviews :  17\n",
      "https://www.beeradvocate.com/beer/profile/28609/80887/?sort=topr&start=75\n",
      "Current Beer :  Viva Habanera  --- Pages Scraped :  4  --- Quality Reviews :  20\n",
      "https://www.beeradvocate.com/beer/profile/28609/80887/?sort=topr&start=100\n",
      "Current Beer :  Viva Habanera  --- Pages Scraped :  5  --- Quality Reviews :  23\n",
      "https://www.beeradvocate.com/beer/profile/28609/80887/?sort=topr&start=125\n",
      "Current Beer :  Viva Habanera  --- Pages Scraped :  6  --- Quality Reviews :  23\n",
      "https://www.beeradvocate.com/beer/profile/28609/80887/?sort=topr&start=150\n",
      "Current Beer :  Viva Habanera  --- Pages Scraped :  7  --- Quality Reviews :  23\n",
      "https://www.beeradvocate.com/beer/profile/28609/80887/?sort=topr&start=175\n",
      "Current Beer :  Daymark  --- Pages Scraped :  0  --- Quality Reviews :  0\n",
      "https://www.beeradvocate.com/beer/profile/23639/68085/?sort=topr&start=0\n",
      "Current Beer :  Daymark  --- Pages Scraped :  1  --- Quality Reviews :  12\n",
      "https://www.beeradvocate.com/beer/profile/23639/68085/?sort=topr&start=25\n",
      "Current Beer :  Daymark  --- Pages Scraped :  2  --- Quality Reviews :  23\n",
      "https://www.beeradvocate.com/beer/profile/23639/68085/?sort=topr&start=50\n",
      "Current Beer :  Hop Kitchen - RyePA  --- Pages Scraped :  0  --- Quality Reviews :  0\n",
      "https://www.beeradvocate.com/beer/profile/192/114109/?sort=topr&start=0\n",
      "Current Beer :  Hop Kitchen - RyePA  --- Pages Scraped :  1  --- Quality Reviews :  11\n",
      "https://www.beeradvocate.com/beer/profile/192/114109/?sort=topr&start=25\n",
      "Current Beer :  Scarlett Red Rye  --- Pages Scraped :  0  --- Quality Reviews :  0\n",
      "https://www.beeradvocate.com/beer/profile/559/84899/?sort=topr&start=0\n",
      "Current Beer :  Scarlett Red Rye  --- Pages Scraped :  1  --- Quality Reviews :  9\n",
      "https://www.beeradvocate.com/beer/profile/559/84899/?sort=topr&start=25\n",
      "Current Beer :  Scarlett Red Rye  --- Pages Scraped :  2  --- Quality Reviews :  19\n",
      "https://www.beeradvocate.com/beer/profile/559/84899/?sort=topr&start=50\n",
      "Current Beer :  Scarlett Red Rye  --- Pages Scraped :  3  --- Quality Reviews :  24\n",
      "https://www.beeradvocate.com/beer/profile/559/84899/?sort=topr&start=75\n",
      "Current Beer :  Rye Hopper  --- Pages Scraped :  0  --- Quality Reviews :  0\n",
      "https://www.beeradvocate.com/beer/profile/2455/44968/?sort=topr&start=0\n",
      "Current Beer :  Rye Hopper  --- Pages Scraped :  1  --- Quality Reviews :  17\n",
      "https://www.beeradvocate.com/beer/profile/2455/44968/?sort=topr&start=25\n",
      "Current Beer :  Rye On Rye On Rye  --- Pages Scraped :  0  --- Quality Reviews :  0\n",
      "https://www.beeradvocate.com/beer/profile/423/213487/?sort=topr&start=0\n",
      "Current Beer :  Rye On Rye On Rye  --- Pages Scraped :  1  --- Quality Reviews :  11\n",
      "https://www.beeradvocate.com/beer/profile/423/213487/?sort=topr&start=25\n",
      "Current Beer :  Rye On Rye On Rye  --- Pages Scraped :  2  --- Quality Reviews :  17\n",
      "https://www.beeradvocate.com/beer/profile/423/213487/?sort=topr&start=50\n",
      "Current Beer :  Rye On Rye On Rye  --- Pages Scraped :  3  --- Quality Reviews :  21\n",
      "https://www.beeradvocate.com/beer/profile/423/213487/?sort=topr&start=75\n",
      "Current Beer :  Permagrin Rye Pale Ale  --- Pages Scraped :  0  --- Quality Reviews :  0\n",
      "https://www.beeradvocate.com/beer/profile/17980/54050/?sort=topr&start=0\n",
      "Current Beer :  Permagrin Rye Pale Ale  --- Pages Scraped :  1  --- Quality Reviews :  14\n",
      "https://www.beeradvocate.com/beer/profile/17980/54050/?sort=topr&start=25\n",
      "Current Beer :  Permagrin Rye Pale Ale  --- Pages Scraped :  2  --- Quality Reviews :  23\n",
      "https://www.beeradvocate.com/beer/profile/17980/54050/?sort=topr&start=50\n",
      "Current Beer :  Red Rye Returning  --- Pages Scraped :  0  --- Quality Reviews :  0\n",
      "https://www.beeradvocate.com/beer/profile/26817/79826/?sort=topr&start=0\n",
      "Current Beer :  Red Rye Returning  --- Pages Scraped :  1  --- Quality Reviews :  13\n",
      "https://www.beeradvocate.com/beer/profile/26817/79826/?sort=topr&start=25\n",
      "Current Beer :  Red Rye Returning  --- Pages Scraped :  2  --- Quality Reviews :  17\n",
      "https://www.beeradvocate.com/beer/profile/26817/79826/?sort=topr&start=50\n",
      "Current Beer :  Red Rye Returning  --- Pages Scraped :  3  --- Quality Reviews :  20\n",
      "https://www.beeradvocate.com/beer/profile/26817/79826/?sort=topr&start=75\n",
      "Current Beer :  Red Rye Returning  --- Pages Scraped :  4  --- Quality Reviews :  24\n",
      "https://www.beeradvocate.com/beer/profile/26817/79826/?sort=topr&start=100\n",
      "Current Beer :  Wakerobin  --- Pages Scraped :  0  --- Quality Reviews :  0\n",
      "https://www.beeradvocate.com/beer/profile/30654/88951/?sort=topr&start=0\n",
      "Current Beer :  Wakerobin  --- Pages Scraped :  1  --- Quality Reviews :  7\n",
      "https://www.beeradvocate.com/beer/profile/30654/88951/?sort=topr&start=25\n",
      "Current Beer :  Wakerobin  --- Pages Scraped :  2  --- Quality Reviews :  11\n",
      "https://www.beeradvocate.com/beer/profile/30654/88951/?sort=topr&start=50\n",
      "Current Beer :  Wakerobin  --- Pages Scraped :  3  --- Quality Reviews :  16\n",
      "https://www.beeradvocate.com/beer/profile/30654/88951/?sort=topr&start=75\n",
      "Current Beer :  Wakerobin  --- Pages Scraped :  4  --- Quality Reviews :  17\n",
      "https://www.beeradvocate.com/beer/profile/30654/88951/?sort=topr&start=100\n",
      "Current Beer :  Wakerobin  --- Pages Scraped :  5  --- Quality Reviews :  19\n",
      "https://www.beeradvocate.com/beer/profile/30654/88951/?sort=topr&start=125\n",
      "Current Beer :  Wakerobin  --- Pages Scraped :  6  --- Quality Reviews :  23\n",
      "https://www.beeradvocate.com/beer/profile/30654/88951/?sort=topr&start=150\n",
      "Current Beer :  Westside Rye  --- Pages Scraped :  0  --- Quality Reviews :  0\n",
      "https://www.beeradvocate.com/beer/profile/423/74206/?sort=topr&start=0\n",
      "Current Beer :  Westside Rye  --- Pages Scraped :  1  --- Quality Reviews :  11\n",
      "https://www.beeradvocate.com/beer/profile/423/74206/?sort=topr&start=25\n"
     ]
    },
    {
     "name": "stdout",
     "output_type": "stream",
     "text": [
      "Current Beer :  Westside Rye  --- Pages Scraped :  2  --- Quality Reviews :  18\n",
      "https://www.beeradvocate.com/beer/profile/423/74206/?sort=topr&start=50\n",
      "Current Beer :  India Red Rye Ale  --- Pages Scraped :  0  --- Quality Reviews :  0\n",
      "https://www.beeradvocate.com/beer/profile/34132/118988/?sort=topr&start=0\n",
      "Current Beer :  India Red Rye Ale  --- Pages Scraped :  1  --- Quality Reviews :  9\n",
      "https://www.beeradvocate.com/beer/profile/34132/118988/?sort=topr&start=25\n",
      "Current Beer :  India Red Rye Ale  --- Pages Scraped :  2  --- Quality Reviews :  11\n",
      "https://www.beeradvocate.com/beer/profile/34132/118988/?sort=topr&start=50\n",
      "Current Beer :  India Red Rye Ale  --- Pages Scraped :  3  --- Quality Reviews :  17\n",
      "https://www.beeradvocate.com/beer/profile/34132/118988/?sort=topr&start=75\n",
      "Current Beer :  India Red Rye Ale  --- Pages Scraped :  4  --- Quality Reviews :  19\n",
      "https://www.beeradvocate.com/beer/profile/34132/118988/?sort=topr&start=100\n",
      "Current Beer :  India Red Rye Ale  --- Pages Scraped :  5  --- Quality Reviews :  22\n",
      "https://www.beeradvocate.com/beer/profile/34132/118988/?sort=topr&start=125\n",
      "Current Beer :  India Red Rye Ale  --- Pages Scraped :  6  --- Quality Reviews :  23\n",
      "https://www.beeradvocate.com/beer/profile/34132/118988/?sort=topr&start=150\n",
      "Current Beer :  Guinness Rye Pale Ale  --- Pages Scraped :  0  --- Quality Reviews :  0\n",
      "https://www.beeradvocate.com/beer/profile/209/250380/?sort=topr&start=0\n",
      "Current Beer :  Guinness Rye Pale Ale  --- Pages Scraped :  1  --- Quality Reviews :  11\n",
      "https://www.beeradvocate.com/beer/profile/209/250380/?sort=topr&start=25\n",
      "Current Beer :  Guinness Rye Pale Ale  --- Pages Scraped :  2  --- Quality Reviews :  22\n",
      "https://www.beeradvocate.com/beer/profile/209/250380/?sort=topr&start=50\n",
      "Current Beer :  Mayflower Summer Rye  --- Pages Scraped :  0  --- Quality Reviews :  0\n",
      "https://www.beeradvocate.com/beer/profile/16105/50693/?sort=topr&start=0\n",
      "Current Beer :  Mayflower Summer Rye  --- Pages Scraped :  1  --- Quality Reviews :  15\n",
      "https://www.beeradvocate.com/beer/profile/16105/50693/?sort=topr&start=25\n",
      "Current Beer :  Aurora  --- Pages Scraped :  0  --- Quality Reviews :  0\n",
      "https://www.beeradvocate.com/beer/profile/31987/139413/?sort=topr&start=0\n",
      "Current Beer :  Aurora  --- Pages Scraped :  1  --- Quality Reviews :  8\n",
      "https://www.beeradvocate.com/beer/profile/31987/139413/?sort=topr&start=25\n",
      "Current Beer :  Aurora  --- Pages Scraped :  2  --- Quality Reviews :  13\n",
      "https://www.beeradvocate.com/beer/profile/31987/139413/?sort=topr&start=50\n",
      "Current Beer :  Aurora  --- Pages Scraped :  3  --- Quality Reviews :  20\n",
      "https://www.beeradvocate.com/beer/profile/31987/139413/?sort=topr&start=75\n",
      "Current Beer :  Aurora  --- Pages Scraped :  4  --- Quality Reviews :  24\n",
      "https://www.beeradvocate.com/beer/profile/31987/139413/?sort=topr&start=100\n",
      "Current Beer :  Hayride Autumn Ale  --- Pages Scraped :  0  --- Quality Reviews :  0\n",
      "https://www.beeradvocate.com/beer/profile/23922/85191/?sort=topr&start=0\n",
      "Current Beer :  Hayride Autumn Ale  --- Pages Scraped :  1  --- Quality Reviews :  16\n",
      "https://www.beeradvocate.com/beer/profile/23922/85191/?sort=topr&start=25\n",
      "Current Beer :  Dock Street Rye IPA  --- Pages Scraped :  0  --- Quality Reviews :  0\n",
      "https://www.beeradvocate.com/beer/profile/15834/39877/?sort=topr&start=0\n",
      "Current Beer :  Dock Street Rye IPA  --- Pages Scraped :  1  --- Quality Reviews :  13\n",
      "https://www.beeradvocate.com/beer/profile/15834/39877/?sort=topr&start=25\n",
      "Current Beer :  Dock Street Rye IPA  --- Pages Scraped :  2  --- Quality Reviews :  24\n",
      "https://www.beeradvocate.com/beer/profile/15834/39877/?sort=topr&start=50\n",
      "Current Beer :  Leo V Ursus: Inferos  --- Pages Scraped :  0  --- Quality Reviews :  0\n",
      "https://www.beeradvocate.com/beer/profile/2210/303044/?sort=topr&start=0\n",
      "Current Beer :  Leo V Ursus: Inferos  --- Pages Scraped :  1  --- Quality Reviews :  10\n",
      "https://www.beeradvocate.com/beer/profile/2210/303044/?sort=topr&start=25\n",
      "Current Beer :  Leo V Ursus: Inferos  --- Pages Scraped :  2  --- Quality Reviews :  18\n",
      "https://www.beeradvocate.com/beer/profile/2210/303044/?sort=topr&start=50\n",
      "Current Beer :  Rowdy Hop-Forward Rye Ale  --- Pages Scraped :  0  --- Quality Reviews :  0\n",
      "https://www.beeradvocate.com/beer/profile/31212/99052/?sort=topr&start=0\n",
      "Current Beer :  Rowdy Hop-Forward Rye Ale  --- Pages Scraped :  1  --- Quality Reviews :  11\n",
      "https://www.beeradvocate.com/beer/profile/31212/99052/?sort=topr&start=25\n",
      "Current Beer :  Rowdy Hop-Forward Rye Ale  --- Pages Scraped :  2  --- Quality Reviews :  16\n",
      "https://www.beeradvocate.com/beer/profile/31212/99052/?sort=topr&start=50\n",
      "Current Beer :  Rowdy Hop-Forward Rye Ale  --- Pages Scraped :  3  --- Quality Reviews :  23\n",
      "https://www.beeradvocate.com/beer/profile/31212/99052/?sort=topr&start=75\n",
      "Current Beer :  Old Habit  --- Pages Scraped :  0  --- Quality Reviews :  0\n",
      "https://www.beeradvocate.com/beer/profile/651/37156/?sort=topr&start=0\n",
      "Current Beer :  Old Habit  --- Pages Scraped :  1  --- Quality Reviews :  19\n",
      "https://www.beeradvocate.com/beer/profile/651/37156/?sort=topr&start=25\n",
      "Current Beer :  Hustle  --- Pages Scraped :  0  --- Quality Reviews :  0\n",
      "https://www.beeradvocate.com/beer/profile/31995/117212/?sort=topr&start=0\n",
      "Current Beer :  Hustle  --- Pages Scraped :  1  --- Quality Reviews :  10\n",
      "https://www.beeradvocate.com/beer/profile/31995/117212/?sort=topr&start=25\n",
      "Current Beer :  Hustle  --- Pages Scraped :  2  --- Quality Reviews :  15\n",
      "https://www.beeradvocate.com/beer/profile/31995/117212/?sort=topr&start=50\n",
      "Current Beer :  Hustle  --- Pages Scraped :  3  --- Quality Reviews :  20\n",
      "https://www.beeradvocate.com/beer/profile/31995/117212/?sort=topr&start=75\n",
      "Current Beer :  Hustle  --- Pages Scraped :  4  --- Quality Reviews :  23\n",
      "https://www.beeradvocate.com/beer/profile/31995/117212/?sort=topr&start=100\n",
      "Current Beer :  Riot Rye  --- Pages Scraped :  0  --- Quality Reviews :  0\n",
      "https://www.beeradvocate.com/beer/profile/30813/89722/?sort=topr&start=0\n",
      "Current Beer :  Riot Rye  --- Pages Scraped :  1  --- Quality Reviews :  12\n",
      "https://www.beeradvocate.com/beer/profile/30813/89722/?sort=topr&start=25\n",
      "Current Beer :  Riot Rye  --- Pages Scraped :  2  --- Quality Reviews :  19\n",
      "https://www.beeradvocate.com/beer/profile/30813/89722/?sort=topr&start=50\n",
      "Current Beer :  Riot Rye  --- Pages Scraped :  3  --- Quality Reviews :  23\n",
      "https://www.beeradvocate.com/beer/profile/30813/89722/?sort=topr&start=75\n",
      "Current Beer :  Rye IPA  --- Pages Scraped :  0  --- Quality Reviews :  0\n",
      "https://www.beeradvocate.com/beer/profile/17281/65468/?sort=topr&start=0\n",
      "Current Beer :  Rye IPA  --- Pages Scraped :  1  --- Quality Reviews :  15\n",
      "https://www.beeradvocate.com/beer/profile/17281/65468/?sort=topr&start=25\n",
      "Current Beer :  Salmon Fly Honey Rye  --- Pages Scraped :  0  --- Quality Reviews :  0\n",
      "https://www.beeradvocate.com/beer/profile/11972/25162/?sort=topr&start=0\n",
      "Current Beer :  Salmon Fly Honey Rye  --- Pages Scraped :  1  --- Quality Reviews :  18\n",
      "https://www.beeradvocate.com/beer/profile/11972/25162/?sort=topr&start=25\n",
      "Current Beer :  Salmon Fly Honey Rye  --- Pages Scraped :  2  --- Quality Reviews :  24\n",
      "https://www.beeradvocate.com/beer/profile/11972/25162/?sort=topr&start=50\n",
      "Current Beer :  Bell's Kal-Haven Ale  --- Pages Scraped :  0  --- Quality Reviews :  0\n",
      "https://www.beeradvocate.com/beer/profile/287/51289/?sort=topr&start=0\n",
      "Current Beer :  Bell's Kal-Haven Ale  --- Pages Scraped :  1  --- Quality Reviews :  6\n",
      "https://www.beeradvocate.com/beer/profile/287/51289/?sort=topr&start=25\n",
      "Current Beer :  Bell's Kal-Haven Ale  --- Pages Scraped :  2  --- Quality Reviews :  13\n",
      "https://www.beeradvocate.com/beer/profile/287/51289/?sort=topr&start=50\n",
      "Current Beer :  Bell's Kal-Haven Ale  --- Pages Scraped :  3  --- Quality Reviews :  15\n",
      "https://www.beeradvocate.com/beer/profile/287/51289/?sort=topr&start=75\n",
      "Current Beer :  Bell's Kal-Haven Ale  --- Pages Scraped :  4  --- Quality Reviews :  18\n",
      "https://www.beeradvocate.com/beer/profile/287/51289/?sort=topr&start=100\n",
      "Current Beer :  Bell's Kal-Haven Ale  --- Pages Scraped :  5  --- Quality Reviews :  23\n",
      "https://www.beeradvocate.com/beer/profile/287/51289/?sort=topr&start=125\n",
      "Current Beer :  Red Ryeot  --- Pages Scraped :  0  --- Quality Reviews :  0\n",
      "https://www.beeradvocate.com/beer/profile/24659/112724/?sort=topr&start=0\n"
     ]
    },
    {
     "name": "stdout",
     "output_type": "stream",
     "text": [
      "Current Beer :  Red Ryeot  --- Pages Scraped :  1  --- Quality Reviews :  12\n",
      "https://www.beeradvocate.com/beer/profile/24659/112724/?sort=topr&start=25\n",
      "Current Beer :  Red Ryeot  --- Pages Scraped :  2  --- Quality Reviews :  17\n",
      "https://www.beeradvocate.com/beer/profile/24659/112724/?sort=topr&start=50\n",
      "Current Beer :  Red Ryeot  --- Pages Scraped :  3  --- Quality Reviews :  21\n",
      "https://www.beeradvocate.com/beer/profile/24659/112724/?sort=topr&start=75\n",
      "Current Beer :  RPA (Rye Pale Ale)  --- Pages Scraped :  0  --- Quality Reviews :  0\n",
      "https://www.beeradvocate.com/beer/profile/3912/80032/?sort=topr&start=0\n",
      "Current Beer :  RPA (Rye Pale Ale)  --- Pages Scraped :  1  --- Quality Reviews :  18\n",
      "https://www.beeradvocate.com/beer/profile/3912/80032/?sort=topr&start=25\n",
      "Current Beer :  Lakefire Rye Pale Ale  --- Pages Scraped :  0  --- Quality Reviews :  0\n",
      "https://www.beeradvocate.com/beer/profile/33438/106821/?sort=topr&start=0\n",
      "Current Beer :  Lakefire Rye Pale Ale  --- Pages Scraped :  1  --- Quality Reviews :  8\n",
      "https://www.beeradvocate.com/beer/profile/33438/106821/?sort=topr&start=25\n",
      "Current Beer :  Lakefire Rye Pale Ale  --- Pages Scraped :  2  --- Quality Reviews :  11\n",
      "https://www.beeradvocate.com/beer/profile/33438/106821/?sort=topr&start=50\n",
      "Current Beer :  Lakefire Rye Pale Ale  --- Pages Scraped :  3  --- Quality Reviews :  18\n",
      "https://www.beeradvocate.com/beer/profile/33438/106821/?sort=topr&start=75\n",
      "Current Beer :  Lakefire Rye Pale Ale  --- Pages Scraped :  4  --- Quality Reviews :  21\n",
      "https://www.beeradvocate.com/beer/profile/33438/106821/?sort=topr&start=100\n",
      "Current Beer :  Lakefire Rye Pale Ale  --- Pages Scraped :  5  --- Quality Reviews :  23\n",
      "https://www.beeradvocate.com/beer/profile/33438/106821/?sort=topr&start=125\n",
      "Current Beer :  River Ryed  --- Pages Scraped :  0  --- Quality Reviews :  0\n",
      "https://www.beeradvocate.com/beer/profile/140/156138/?sort=topr&start=0\n",
      "Current Beer :  River Ryed  --- Pages Scraped :  1  --- Quality Reviews :  14\n",
      "https://www.beeradvocate.com/beer/profile/140/156138/?sort=topr&start=25\n",
      "Current Beer :  Local Buzz  --- Pages Scraped :  0  --- Quality Reviews :  0\n",
      "https://www.beeradvocate.com/beer/profile/30364/99042/?sort=topr&start=0\n",
      "Current Beer :  Local Buzz  --- Pages Scraped :  1  --- Quality Reviews :  5\n",
      "https://www.beeradvocate.com/beer/profile/30364/99042/?sort=topr&start=25\n",
      "Current Beer :  Local Buzz  --- Pages Scraped :  2  --- Quality Reviews :  6\n",
      "https://www.beeradvocate.com/beer/profile/30364/99042/?sort=topr&start=50\n",
      "Current Beer :  Local Buzz  --- Pages Scraped :  3  --- Quality Reviews :  8\n",
      "https://www.beeradvocate.com/beer/profile/30364/99042/?sort=topr&start=75\n",
      "Current Beer :  Local Buzz  --- Pages Scraped :  4  --- Quality Reviews :  14\n",
      "https://www.beeradvocate.com/beer/profile/30364/99042/?sort=topr&start=100\n",
      "Current Beer :  Local Buzz  --- Pages Scraped :  5  --- Quality Reviews :  20\n",
      "https://www.beeradvocate.com/beer/profile/30364/99042/?sort=topr&start=125\n",
      "Current Beer :  Local Buzz  --- Pages Scraped :  6  --- Quality Reviews :  21\n",
      "https://www.beeradvocate.com/beer/profile/30364/99042/?sort=topr&start=150\n",
      "Current Beer :  Local Buzz  --- Pages Scraped :  7  --- Quality Reviews :  21\n",
      "https://www.beeradvocate.com/beer/profile/30364/99042/?sort=topr&start=175\n",
      "Current Beer :  Local Buzz  --- Pages Scraped :  8  --- Quality Reviews :  21\n",
      "https://www.beeradvocate.com/beer/profile/30364/99042/?sort=topr&start=200\n",
      "Current Beer :  Local Buzz  --- Pages Scraped :  9  --- Quality Reviews :  21\n",
      "https://www.beeradvocate.com/beer/profile/30364/99042/?sort=topr&start=225\n",
      "Current Beer :  Local Buzz  --- Pages Scraped :  10  --- Quality Reviews :  21\n",
      "https://www.beeradvocate.com/beer/profile/30364/99042/?sort=topr&start=250\n",
      "Current Beer :  Local Buzz  --- Pages Scraped :  11  --- Quality Reviews :  21\n",
      "https://www.beeradvocate.com/beer/profile/30364/99042/?sort=topr&start=275\n",
      "Current Beer :  Local Buzz  --- Pages Scraped :  12  --- Quality Reviews :  21\n",
      "https://www.beeradvocate.com/beer/profile/30364/99042/?sort=topr&start=300\n",
      "Current Beer :  Local Buzz  --- Pages Scraped :  13  --- Quality Reviews :  21\n",
      "https://www.beeradvocate.com/beer/profile/30364/99042/?sort=topr&start=325\n",
      "Current Beer :  Local Buzz  --- Pages Scraped :  14  --- Quality Reviews :  21\n",
      "https://www.beeradvocate.com/beer/profile/30364/99042/?sort=topr&start=350\n",
      "Current Beer :  Local Buzz  --- Pages Scraped :  15  --- Quality Reviews :  21\n",
      "https://www.beeradvocate.com/beer/profile/30364/99042/?sort=topr&start=375\n",
      "Current Beer :  Local Buzz  --- Pages Scraped :  16  --- Quality Reviews :  21\n",
      "https://www.beeradvocate.com/beer/profile/30364/99042/?sort=topr&start=400\n",
      "Current Beer :  Local Buzz  --- Pages Scraped :  17  --- Quality Reviews :  21\n",
      "https://www.beeradvocate.com/beer/profile/30364/99042/?sort=topr&start=425\n",
      "Current Beer :  Local Buzz  --- Pages Scraped :  18  --- Quality Reviews :  21\n",
      "https://www.beeradvocate.com/beer/profile/30364/99042/?sort=topr&start=450\n",
      "Current Beer :  Local Buzz  --- Pages Scraped :  19  --- Quality Reviews :  21\n",
      "https://www.beeradvocate.com/beer/profile/30364/99042/?sort=topr&start=475\n",
      "Current Beer :  Local Buzz  --- Pages Scraped :  20  --- Quality Reviews :  21\n",
      "https://www.beeradvocate.com/beer/profile/30364/99042/?sort=topr&start=500\n",
      "Current Beer :  Local Buzz  --- Pages Scraped :  21  --- Quality Reviews :  21\n",
      "https://www.beeradvocate.com/beer/profile/30364/99042/?sort=topr&start=525\n",
      "Current Beer :  Local Buzz  --- Pages Scraped :  22  --- Quality Reviews :  21\n",
      "https://www.beeradvocate.com/beer/profile/30364/99042/?sort=topr&start=550\n",
      "Current Beer :  Local Buzz  --- Pages Scraped :  23  --- Quality Reviews :  21\n",
      "https://www.beeradvocate.com/beer/profile/30364/99042/?sort=topr&start=575\n",
      "Current Beer :  Local Buzz  --- Pages Scraped :  24  --- Quality Reviews :  21\n",
      "https://www.beeradvocate.com/beer/profile/30364/99042/?sort=topr&start=600\n",
      "Current Beer :  Local Buzz  --- Pages Scraped :  25  --- Quality Reviews :  21\n",
      "https://www.beeradvocate.com/beer/profile/30364/99042/?sort=topr&start=625\n",
      "Current Beer :  Local Buzz  --- Pages Scraped :  26  --- Quality Reviews :  21\n",
      "https://www.beeradvocate.com/beer/profile/30364/99042/?sort=topr&start=650\n",
      "Current Beer :  Local Buzz  --- Pages Scraped :  27  --- Quality Reviews :  21\n",
      "https://www.beeradvocate.com/beer/profile/30364/99042/?sort=topr&start=675\n",
      "Current Beer :  Local Buzz  --- Pages Scraped :  28  --- Quality Reviews :  21\n",
      "https://www.beeradvocate.com/beer/profile/30364/99042/?sort=topr&start=700\n",
      "Current Beer :  Local Buzz  --- Pages Scraped :  29  --- Quality Reviews :  21\n",
      "https://www.beeradvocate.com/beer/profile/30364/99042/?sort=topr&start=725\n",
      "Current Beer :  Local Buzz  --- Pages Scraped :  30  --- Quality Reviews :  21\n",
      "https://www.beeradvocate.com/beer/profile/30364/99042/?sort=topr&start=750\n",
      "Current Beer :  Local Buzz  --- Pages Scraped :  31  --- Quality Reviews :  21\n",
      "https://www.beeradvocate.com/beer/profile/30364/99042/?sort=topr&start=775\n",
      "Current Beer :  Local Buzz  --- Pages Scraped :  32  --- Quality Reviews :  21\n",
      "https://www.beeradvocate.com/beer/profile/30364/99042/?sort=topr&start=800\n",
      "Current Beer :  Local Buzz  --- Pages Scraped :  33  --- Quality Reviews :  21\n",
      "https://www.beeradvocate.com/beer/profile/30364/99042/?sort=topr&start=825\n",
      "Current Beer :  Local Buzz  --- Pages Scraped :  34  --- Quality Reviews :  21\n",
      "https://www.beeradvocate.com/beer/profile/30364/99042/?sort=topr&start=850\n",
      "Current Beer :  Local Buzz  --- Pages Scraped :  35  --- Quality Reviews :  21\n",
      "https://www.beeradvocate.com/beer/profile/30364/99042/?sort=topr&start=875\n",
      "Current Beer :  Local Buzz  --- Pages Scraped :  36  --- Quality Reviews :  21\n",
      "https://www.beeradvocate.com/beer/profile/30364/99042/?sort=topr&start=900\n",
      "Current Beer :  Local Buzz  --- Pages Scraped :  37  --- Quality Reviews :  21\n",
      "https://www.beeradvocate.com/beer/profile/30364/99042/?sort=topr&start=925\n",
      "Current Beer :  Local Buzz  --- Pages Scraped :  38  --- Quality Reviews :  21\n",
      "https://www.beeradvocate.com/beer/profile/30364/99042/?sort=topr&start=950\n",
      "Current Beer :  Local Buzz  --- Pages Scraped :  39  --- Quality Reviews :  21\n",
      "https://www.beeradvocate.com/beer/profile/30364/99042/?sort=topr&start=975\n"
     ]
    },
    {
     "name": "stdout",
     "output_type": "stream",
     "text": [
      "Current Beer :  Samuel Adams Honey Rye Pale Ale  --- Pages Scraped :  0  --- Quality Reviews :  0\n",
      "https://www.beeradvocate.com/beer/profile/35/279354/?sort=topr&start=0\n",
      "Current Beer :  Samuel Adams Honey Rye Pale Ale  --- Pages Scraped :  1  --- Quality Reviews :  15\n",
      "https://www.beeradvocate.com/beer/profile/35/279354/?sort=topr&start=25\n",
      "Current Beer :  Samuel Adams Honey Rye Pale Ale  --- Pages Scraped :  2  --- Quality Reviews :  23\n",
      "https://www.beeradvocate.com/beer/profile/35/279354/?sort=topr&start=50\n",
      "Current Beer :  Stickin' In My IPA  --- Pages Scraped :  0  --- Quality Reviews :  0\n",
      "https://www.beeradvocate.com/beer/profile/30405/114302/?sort=topr&start=0\n",
      "Current Beer :  Stickin' In My IPA  --- Pages Scraped :  1  --- Quality Reviews :  10\n",
      "https://www.beeradvocate.com/beer/profile/30405/114302/?sort=topr&start=25\n",
      "Current Beer :  Stickin' In My IPA  --- Pages Scraped :  2  --- Quality Reviews :  15\n",
      "https://www.beeradvocate.com/beer/profile/30405/114302/?sort=topr&start=50\n",
      "Current Beer :  Stickin' In My IPA  --- Pages Scraped :  3  --- Quality Reviews :  19\n",
      "https://www.beeradvocate.com/beer/profile/30405/114302/?sort=topr&start=75\n",
      "Current Beer :  Stickin' In My IPA  --- Pages Scraped :  4  --- Quality Reviews :  20\n",
      "https://www.beeradvocate.com/beer/profile/30405/114302/?sort=topr&start=100\n",
      "Current Beer :  Stickin' In My IPA  --- Pages Scraped :  5  --- Quality Reviews :  23\n",
      "https://www.beeradvocate.com/beer/profile/30405/114302/?sort=topr&start=125\n",
      "Current Beer :  Light In The Window  --- Pages Scraped :  0  --- Quality Reviews :  0\n",
      "https://www.beeradvocate.com/beer/profile/33136/163978/?sort=topr&start=0\n",
      "Current Beer :  Light In The Window  --- Pages Scraped :  1  --- Quality Reviews :  10\n",
      "https://www.beeradvocate.com/beer/profile/33136/163978/?sort=topr&start=25\n",
      "Current Beer :  Light In The Window  --- Pages Scraped :  2  --- Quality Reviews :  15\n",
      "https://www.beeradvocate.com/beer/profile/33136/163978/?sort=topr&start=50\n",
      "Current Beer :  Light In The Window  --- Pages Scraped :  3  --- Quality Reviews :  22\n",
      "https://www.beeradvocate.com/beer/profile/33136/163978/?sort=topr&start=75\n",
      "Current Beer :  RIPA  --- Pages Scraped :  0  --- Quality Reviews :  0\n",
      "https://www.beeradvocate.com/beer/profile/31372/102809/?sort=topr&start=0\n",
      "Current Beer :  RIPA  --- Pages Scraped :  1  --- Quality Reviews :  12\n",
      "https://www.beeradvocate.com/beer/profile/31372/102809/?sort=topr&start=25\n",
      "Current Beer :  RIPA  --- Pages Scraped :  2  --- Quality Reviews :  15\n",
      "https://www.beeradvocate.com/beer/profile/31372/102809/?sort=topr&start=50\n",
      "Current Beer :  RIPA  --- Pages Scraped :  3  --- Quality Reviews :  17\n",
      "https://www.beeradvocate.com/beer/profile/31372/102809/?sort=topr&start=75\n",
      "Current Beer :  RIPA  --- Pages Scraped :  4  --- Quality Reviews :  20\n",
      "https://www.beeradvocate.com/beer/profile/31372/102809/?sort=topr&start=100\n",
      "Current Beer :  RIPA  --- Pages Scraped :  5  --- Quality Reviews :  21\n",
      "https://www.beeradvocate.com/beer/profile/31372/102809/?sort=topr&start=125\n",
      "Current Beer :  RIPA  --- Pages Scraped :  6  --- Quality Reviews :  22\n",
      "https://www.beeradvocate.com/beer/profile/31372/102809/?sort=topr&start=150\n",
      "Current Beer :  RIPA  --- Pages Scraped :  7  --- Quality Reviews :  22\n",
      "https://www.beeradvocate.com/beer/profile/31372/102809/?sort=topr&start=175\n",
      "Current Beer :  RIPA  --- Pages Scraped :  8  --- Quality Reviews :  22\n",
      "https://www.beeradvocate.com/beer/profile/31372/102809/?sort=topr&start=200\n",
      "Current Beer :  RIPA  --- Pages Scraped :  9  --- Quality Reviews :  22\n",
      "https://www.beeradvocate.com/beer/profile/31372/102809/?sort=topr&start=225\n",
      "Current Beer :  RIPA  --- Pages Scraped :  10  --- Quality Reviews :  22\n",
      "https://www.beeradvocate.com/beer/profile/31372/102809/?sort=topr&start=250\n",
      "Current Beer :  RIPA  --- Pages Scraped :  11  --- Quality Reviews :  22\n",
      "https://www.beeradvocate.com/beer/profile/31372/102809/?sort=topr&start=275\n",
      "Current Beer :  RIPA  --- Pages Scraped :  12  --- Quality Reviews :  22\n",
      "https://www.beeradvocate.com/beer/profile/31372/102809/?sort=topr&start=300\n",
      "Current Beer :  RIPA  --- Pages Scraped :  13  --- Quality Reviews :  22\n",
      "https://www.beeradvocate.com/beer/profile/31372/102809/?sort=topr&start=325\n",
      "Current Beer :  RIPA  --- Pages Scraped :  14  --- Quality Reviews :  22\n",
      "https://www.beeradvocate.com/beer/profile/31372/102809/?sort=topr&start=350\n",
      "Current Beer :  RIPA  --- Pages Scraped :  15  --- Quality Reviews :  22\n",
      "https://www.beeradvocate.com/beer/profile/31372/102809/?sort=topr&start=375\n",
      "Current Beer :  RIPA  --- Pages Scraped :  16  --- Quality Reviews :  22\n",
      "https://www.beeradvocate.com/beer/profile/31372/102809/?sort=topr&start=400\n",
      "Current Beer :  RIPA  --- Pages Scraped :  17  --- Quality Reviews :  22\n",
      "https://www.beeradvocate.com/beer/profile/31372/102809/?sort=topr&start=425\n",
      "Current Beer :  RIPA  --- Pages Scraped :  18  --- Quality Reviews :  22\n",
      "https://www.beeradvocate.com/beer/profile/31372/102809/?sort=topr&start=450\n",
      "Current Beer :  RIPA  --- Pages Scraped :  19  --- Quality Reviews :  22\n",
      "https://www.beeradvocate.com/beer/profile/31372/102809/?sort=topr&start=475\n",
      "Current Beer :  RIPA  --- Pages Scraped :  20  --- Quality Reviews :  22\n",
      "https://www.beeradvocate.com/beer/profile/31372/102809/?sort=topr&start=500\n",
      "Current Beer :  RIPA  --- Pages Scraped :  21  --- Quality Reviews :  22\n",
      "https://www.beeradvocate.com/beer/profile/31372/102809/?sort=topr&start=525\n",
      "Current Beer :  RIPA  --- Pages Scraped :  22  --- Quality Reviews :  22\n",
      "https://www.beeradvocate.com/beer/profile/31372/102809/?sort=topr&start=550\n",
      "Current Beer :  RIPA  --- Pages Scraped :  23  --- Quality Reviews :  22\n",
      "https://www.beeradvocate.com/beer/profile/31372/102809/?sort=topr&start=575\n",
      "Current Beer :  RIPA  --- Pages Scraped :  24  --- Quality Reviews :  22\n",
      "https://www.beeradvocate.com/beer/profile/31372/102809/?sort=topr&start=600\n",
      "Current Beer :  RIPA  --- Pages Scraped :  25  --- Quality Reviews :  22\n",
      "https://www.beeradvocate.com/beer/profile/31372/102809/?sort=topr&start=625\n",
      "Current Beer :  RIPA  --- Pages Scraped :  26  --- Quality Reviews :  22\n",
      "https://www.beeradvocate.com/beer/profile/31372/102809/?sort=topr&start=650\n",
      "Current Beer :  RIPA  --- Pages Scraped :  27  --- Quality Reviews :  22\n",
      "https://www.beeradvocate.com/beer/profile/31372/102809/?sort=topr&start=675\n",
      "Current Beer :  RIPA  --- Pages Scraped :  28  --- Quality Reviews :  22\n",
      "https://www.beeradvocate.com/beer/profile/31372/102809/?sort=topr&start=700\n",
      "Current Beer :  RIPA  --- Pages Scraped :  29  --- Quality Reviews :  22\n",
      "https://www.beeradvocate.com/beer/profile/31372/102809/?sort=topr&start=725\n",
      "Current Beer :  RIPA  --- Pages Scraped :  30  --- Quality Reviews :  22\n",
      "https://www.beeradvocate.com/beer/profile/31372/102809/?sort=topr&start=750\n",
      "Current Beer :  RIPA  --- Pages Scraped :  31  --- Quality Reviews :  22\n",
      "https://www.beeradvocate.com/beer/profile/31372/102809/?sort=topr&start=775\n",
      "Current Beer :  RIPA  --- Pages Scraped :  32  --- Quality Reviews :  22\n",
      "https://www.beeradvocate.com/beer/profile/31372/102809/?sort=topr&start=800\n",
      "Current Beer :  RIPA  --- Pages Scraped :  33  --- Quality Reviews :  22\n",
      "https://www.beeradvocate.com/beer/profile/31372/102809/?sort=topr&start=825\n",
      "Current Beer :  RIPA  --- Pages Scraped :  34  --- Quality Reviews :  22\n",
      "https://www.beeradvocate.com/beer/profile/31372/102809/?sort=topr&start=850\n",
      "Current Beer :  RIPA  --- Pages Scraped :  35  --- Quality Reviews :  22\n",
      "https://www.beeradvocate.com/beer/profile/31372/102809/?sort=topr&start=875\n",
      "Current Beer :  RIPA  --- Pages Scraped :  36  --- Quality Reviews :  22\n",
      "https://www.beeradvocate.com/beer/profile/31372/102809/?sort=topr&start=900\n",
      "Current Beer :  RIPA  --- Pages Scraped :  37  --- Quality Reviews :  22\n",
      "https://www.beeradvocate.com/beer/profile/31372/102809/?sort=topr&start=925\n",
      "Current Beer :  RIPA  --- Pages Scraped :  38  --- Quality Reviews :  22\n",
      "https://www.beeradvocate.com/beer/profile/31372/102809/?sort=topr&start=950\n",
      "Current Beer :  RIPA  --- Pages Scraped :  39  --- Quality Reviews :  22\n",
      "https://www.beeradvocate.com/beer/profile/31372/102809/?sort=topr&start=975\n",
      "Current Beer :  Bonfire Rye  --- Pages Scraped :  0  --- Quality Reviews :  0\n",
      "https://www.beeradvocate.com/beer/profile/23973/97928/?sort=topr&start=0\n"
     ]
    },
    {
     "name": "stdout",
     "output_type": "stream",
     "text": [
      "Current Beer :  Bonfire Rye  --- Pages Scraped :  1  --- Quality Reviews :  14\n",
      "https://www.beeradvocate.com/beer/profile/23973/97928/?sort=topr&start=25\n",
      "Current Beer :  Bonfire Rye  --- Pages Scraped :  2  --- Quality Reviews :  19\n",
      "https://www.beeradvocate.com/beer/profile/23973/97928/?sort=topr&start=50\n",
      "Current Beer :  Bonfire Rye  --- Pages Scraped :  3  --- Quality Reviews :  21\n",
      "https://www.beeradvocate.com/beer/profile/23973/97928/?sort=topr&start=75\n",
      "Current Beer :  Bronx Rye Pale Ale  --- Pages Scraped :  0  --- Quality Reviews :  0\n",
      "https://www.beeradvocate.com/beer/profile/27035/84754/?sort=topr&start=0\n",
      "Current Beer :  Bronx Rye Pale Ale  --- Pages Scraped :  1  --- Quality Reviews :  14\n",
      "https://www.beeradvocate.com/beer/profile/27035/84754/?sort=topr&start=25\n",
      "Current Beer :  Bronx Rye Pale Ale  --- Pages Scraped :  2  --- Quality Reviews :  21\n",
      "https://www.beeradvocate.com/beer/profile/27035/84754/?sort=topr&start=50\n",
      "Current Beer :  Bridal Veil Rye Pale Ale  --- Pages Scraped :  0  --- Quality Reviews :  0\n",
      "https://www.beeradvocate.com/beer/profile/27645/77281/?sort=topr&start=0\n",
      "Current Beer :  Bridal Veil Rye Pale Ale  --- Pages Scraped :  1  --- Quality Reviews :  12\n",
      "https://www.beeradvocate.com/beer/profile/27645/77281/?sort=topr&start=25\n",
      "Current Beer :  Bridal Veil Rye Pale Ale  --- Pages Scraped :  2  --- Quality Reviews :  18\n",
      "https://www.beeradvocate.com/beer/profile/27645/77281/?sort=topr&start=50\n",
      "Current Beer :  Bridal Veil Rye Pale Ale  --- Pages Scraped :  3  --- Quality Reviews :  21\n",
      "https://www.beeradvocate.com/beer/profile/27645/77281/?sort=topr&start=75\n",
      "Current Beer :  Bridal Veil Rye Pale Ale  --- Pages Scraped :  4  --- Quality Reviews :  24\n",
      "https://www.beeradvocate.com/beer/profile/27645/77281/?sort=topr&start=100\n",
      "Current Beer :  Ryeway To Heaven  --- Pages Scraped :  0  --- Quality Reviews :  0\n",
      "https://www.beeradvocate.com/beer/profile/22072/189995/?sort=topr&start=0\n",
      "Current Beer :  Ryeway To Heaven  --- Pages Scraped :  1  --- Quality Reviews :  6\n",
      "https://www.beeradvocate.com/beer/profile/22072/189995/?sort=topr&start=25\n",
      "Current Beer :  Ryeway To Heaven  --- Pages Scraped :  2  --- Quality Reviews :  10\n",
      "https://www.beeradvocate.com/beer/profile/22072/189995/?sort=topr&start=50\n",
      "Current Beer :  Ryeway To Heaven  --- Pages Scraped :  3  --- Quality Reviews :  15\n",
      "https://www.beeradvocate.com/beer/profile/22072/189995/?sort=topr&start=75\n",
      "Current Beer :  Ryeway To Heaven  --- Pages Scraped :  4  --- Quality Reviews :  20\n",
      "https://www.beeradvocate.com/beer/profile/22072/189995/?sort=topr&start=100\n",
      "Current Beer :  Ryeway To Heaven  --- Pages Scraped :  5  --- Quality Reviews :  23\n",
      "https://www.beeradvocate.com/beer/profile/22072/189995/?sort=topr&start=125\n",
      "Current Beer :  Ryeway To Heaven  --- Pages Scraped :  6  --- Quality Reviews :  23\n",
      "https://www.beeradvocate.com/beer/profile/22072/189995/?sort=topr&start=150\n",
      "Current Beer :  Ryeway To Heaven  --- Pages Scraped :  7  --- Quality Reviews :  23\n",
      "https://www.beeradvocate.com/beer/profile/22072/189995/?sort=topr&start=175\n",
      "Current Beer :  Ryeway To Heaven  --- Pages Scraped :  8  --- Quality Reviews :  23\n",
      "https://www.beeradvocate.com/beer/profile/22072/189995/?sort=topr&start=200\n",
      "Current Beer :  Ryeway To Heaven  --- Pages Scraped :  9  --- Quality Reviews :  23\n",
      "https://www.beeradvocate.com/beer/profile/22072/189995/?sort=topr&start=225\n",
      "Current Beer :  Ryeway To Heaven  --- Pages Scraped :  10  --- Quality Reviews :  23\n",
      "https://www.beeradvocate.com/beer/profile/22072/189995/?sort=topr&start=250\n",
      "Current Beer :  Ryeway To Heaven  --- Pages Scraped :  11  --- Quality Reviews :  23\n",
      "https://www.beeradvocate.com/beer/profile/22072/189995/?sort=topr&start=275\n",
      "Current Beer :  Ryeway To Heaven  --- Pages Scraped :  12  --- Quality Reviews :  23\n",
      "https://www.beeradvocate.com/beer/profile/22072/189995/?sort=topr&start=300\n",
      "Current Beer :  Ryeway To Heaven  --- Pages Scraped :  13  --- Quality Reviews :  23\n",
      "https://www.beeradvocate.com/beer/profile/22072/189995/?sort=topr&start=325\n",
      "Current Beer :  Ryeway To Heaven  --- Pages Scraped :  14  --- Quality Reviews :  23\n",
      "https://www.beeradvocate.com/beer/profile/22072/189995/?sort=topr&start=350\n",
      "Current Beer :  Ryeway To Heaven  --- Pages Scraped :  15  --- Quality Reviews :  23\n",
      "https://www.beeradvocate.com/beer/profile/22072/189995/?sort=topr&start=375\n",
      "Current Beer :  Ryeway To Heaven  --- Pages Scraped :  16  --- Quality Reviews :  23\n",
      "https://www.beeradvocate.com/beer/profile/22072/189995/?sort=topr&start=400\n",
      "Current Beer :  Ryeway To Heaven  --- Pages Scraped :  17  --- Quality Reviews :  23\n",
      "https://www.beeradvocate.com/beer/profile/22072/189995/?sort=topr&start=425\n",
      "Current Beer :  Ryeway To Heaven  --- Pages Scraped :  18  --- Quality Reviews :  23\n",
      "https://www.beeradvocate.com/beer/profile/22072/189995/?sort=topr&start=450\n",
      "Current Beer :  Ryeway To Heaven  --- Pages Scraped :  19  --- Quality Reviews :  23\n",
      "https://www.beeradvocate.com/beer/profile/22072/189995/?sort=topr&start=475\n",
      "Current Beer :  Ryeway To Heaven  --- Pages Scraped :  20  --- Quality Reviews :  23\n",
      "https://www.beeradvocate.com/beer/profile/22072/189995/?sort=topr&start=500\n",
      "Current Beer :  Ryeway To Heaven  --- Pages Scraped :  21  --- Quality Reviews :  23\n",
      "https://www.beeradvocate.com/beer/profile/22072/189995/?sort=topr&start=525\n",
      "Current Beer :  Ryeway To Heaven  --- Pages Scraped :  22  --- Quality Reviews :  23\n",
      "https://www.beeradvocate.com/beer/profile/22072/189995/?sort=topr&start=550\n",
      "Current Beer :  Ryeway To Heaven  --- Pages Scraped :  23  --- Quality Reviews :  23\n",
      "https://www.beeradvocate.com/beer/profile/22072/189995/?sort=topr&start=575\n",
      "Current Beer :  Ryeway To Heaven  --- Pages Scraped :  24  --- Quality Reviews :  23\n",
      "https://www.beeradvocate.com/beer/profile/22072/189995/?sort=topr&start=600\n",
      "Current Beer :  Ryeway To Heaven  --- Pages Scraped :  25  --- Quality Reviews :  23\n",
      "https://www.beeradvocate.com/beer/profile/22072/189995/?sort=topr&start=625\n",
      "Current Beer :  Ryeway To Heaven  --- Pages Scraped :  26  --- Quality Reviews :  23\n",
      "https://www.beeradvocate.com/beer/profile/22072/189995/?sort=topr&start=650\n",
      "Current Beer :  Ryeway To Heaven  --- Pages Scraped :  27  --- Quality Reviews :  23\n",
      "https://www.beeradvocate.com/beer/profile/22072/189995/?sort=topr&start=675\n",
      "Current Beer :  Ryeway To Heaven  --- Pages Scraped :  28  --- Quality Reviews :  23\n",
      "https://www.beeradvocate.com/beer/profile/22072/189995/?sort=topr&start=700\n",
      "Current Beer :  Ryeway To Heaven  --- Pages Scraped :  29  --- Quality Reviews :  23\n",
      "https://www.beeradvocate.com/beer/profile/22072/189995/?sort=topr&start=725\n",
      "Current Beer :  Ryeway To Heaven  --- Pages Scraped :  30  --- Quality Reviews :  23\n",
      "https://www.beeradvocate.com/beer/profile/22072/189995/?sort=topr&start=750\n",
      "Current Beer :  Ryeway To Heaven  --- Pages Scraped :  31  --- Quality Reviews :  23\n",
      "https://www.beeradvocate.com/beer/profile/22072/189995/?sort=topr&start=775\n",
      "Current Beer :  Ryeway To Heaven  --- Pages Scraped :  32  --- Quality Reviews :  23\n",
      "https://www.beeradvocate.com/beer/profile/22072/189995/?sort=topr&start=800\n",
      "Current Beer :  Ryeway To Heaven  --- Pages Scraped :  33  --- Quality Reviews :  23\n",
      "https://www.beeradvocate.com/beer/profile/22072/189995/?sort=topr&start=825\n",
      "Current Beer :  Ryeway To Heaven  --- Pages Scraped :  34  --- Quality Reviews :  23\n",
      "https://www.beeradvocate.com/beer/profile/22072/189995/?sort=topr&start=850\n",
      "Current Beer :  Ryeway To Heaven  --- Pages Scraped :  35  --- Quality Reviews :  23\n",
      "https://www.beeradvocate.com/beer/profile/22072/189995/?sort=topr&start=875\n",
      "Current Beer :  Ryeway To Heaven  --- Pages Scraped :  36  --- Quality Reviews :  23\n",
      "https://www.beeradvocate.com/beer/profile/22072/189995/?sort=topr&start=900\n",
      "Current Beer :  Ryeway To Heaven  --- Pages Scraped :  37  --- Quality Reviews :  23\n",
      "https://www.beeradvocate.com/beer/profile/22072/189995/?sort=topr&start=925\n",
      "Current Beer :  Ryeway To Heaven  --- Pages Scraped :  38  --- Quality Reviews :  23\n",
      "https://www.beeradvocate.com/beer/profile/22072/189995/?sort=topr&start=950\n",
      "Current Beer :  Ryeway To Heaven  --- Pages Scraped :  39  --- Quality Reviews :  23\n",
      "https://www.beeradvocate.com/beer/profile/22072/189995/?sort=topr&start=975\n",
      "Current Beer :  Improved Old Fashioned  --- Pages Scraped :  0  --- Quality Reviews :  0\n",
      "https://www.beeradvocate.com/beer/profile/45/206953/?sort=topr&start=0\n"
     ]
    },
    {
     "name": "stdout",
     "output_type": "stream",
     "text": [
      "Current Beer :  Improved Old Fashioned  --- Pages Scraped :  1  --- Quality Reviews :  13\n",
      "https://www.beeradvocate.com/beer/profile/45/206953/?sort=topr&start=25\n",
      "Current Beer :  Improved Old Fashioned  --- Pages Scraped :  2  --- Quality Reviews :  20\n",
      "https://www.beeradvocate.com/beer/profile/45/206953/?sort=topr&start=50\n",
      "Current Beer :  Witicus Double Rye Wit  --- Pages Scraped :  0  --- Quality Reviews :  0\n",
      "https://www.beeradvocate.com/beer/profile/18823/54431/?sort=topr&start=0\n",
      "Current Beer :  Witicus Double Rye Wit  --- Pages Scraped :  1  --- Quality Reviews :  10\n",
      "https://www.beeradvocate.com/beer/profile/18823/54431/?sort=topr&start=25\n",
      "Current Beer :  Witicus Double Rye Wit  --- Pages Scraped :  2  --- Quality Reviews :  19\n",
      "https://www.beeradvocate.com/beer/profile/18823/54431/?sort=topr&start=50\n",
      "Current Beer :  Witicus Double Rye Wit  --- Pages Scraped :  3  --- Quality Reviews :  24\n",
      "https://www.beeradvocate.com/beer/profile/18823/54431/?sort=topr&start=75\n",
      "Current Beer :  Gramarye  --- Pages Scraped :  0  --- Quality Reviews :  0\n",
      "https://www.beeradvocate.com/beer/profile/25960/84755/?sort=topr&start=0\n",
      "Current Beer :  Gramarye  --- Pages Scraped :  1  --- Quality Reviews :  16\n",
      "https://www.beeradvocate.com/beer/profile/25960/84755/?sort=topr&start=25\n",
      "Current Beer :  Saucy Intruder Rye IPA  --- Pages Scraped :  0  --- Quality Reviews :  0\n",
      "https://www.beeradvocate.com/beer/profile/26934/100266/?sort=topr&start=0\n",
      "Current Beer :  Saucy Intruder Rye IPA  --- Pages Scraped :  1  --- Quality Reviews :  9\n",
      "https://www.beeradvocate.com/beer/profile/26934/100266/?sort=topr&start=25\n",
      "Current Beer :  Saucy Intruder Rye IPA  --- Pages Scraped :  2  --- Quality Reviews :  10\n",
      "https://www.beeradvocate.com/beer/profile/26934/100266/?sort=topr&start=50\n",
      "Current Beer :  Saucy Intruder Rye IPA  --- Pages Scraped :  3  --- Quality Reviews :  14\n",
      "https://www.beeradvocate.com/beer/profile/26934/100266/?sort=topr&start=75\n",
      "Current Beer :  Saucy Intruder Rye IPA  --- Pages Scraped :  4  --- Quality Reviews :  19\n",
      "https://www.beeradvocate.com/beer/profile/26934/100266/?sort=topr&start=100\n",
      "Current Beer :  Saucy Intruder Rye IPA  --- Pages Scraped :  5  --- Quality Reviews :  23\n",
      "https://www.beeradvocate.com/beer/profile/26934/100266/?sort=topr&start=125\n",
      "Current Beer :  Saucy Intruder Rye IPA  --- Pages Scraped :  6  --- Quality Reviews :  23\n",
      "https://www.beeradvocate.com/beer/profile/26934/100266/?sort=topr&start=150\n",
      "Current Beer :  Saucy Intruder Rye IPA  --- Pages Scraped :  7  --- Quality Reviews :  23\n",
      "https://www.beeradvocate.com/beer/profile/26934/100266/?sort=topr&start=175\n",
      "Current Beer :  Saucy Intruder Rye IPA  --- Pages Scraped :  8  --- Quality Reviews :  23\n",
      "https://www.beeradvocate.com/beer/profile/26934/100266/?sort=topr&start=200\n",
      "Current Beer :  Saucy Intruder Rye IPA  --- Pages Scraped :  9  --- Quality Reviews :  23\n",
      "https://www.beeradvocate.com/beer/profile/26934/100266/?sort=topr&start=225\n",
      "Current Beer :  Saucy Intruder Rye IPA  --- Pages Scraped :  10  --- Quality Reviews :  23\n",
      "https://www.beeradvocate.com/beer/profile/26934/100266/?sort=topr&start=250\n",
      "Current Beer :  Saucy Intruder Rye IPA  --- Pages Scraped :  11  --- Quality Reviews :  23\n",
      "https://www.beeradvocate.com/beer/profile/26934/100266/?sort=topr&start=275\n",
      "Current Beer :  Saucy Intruder Rye IPA  --- Pages Scraped :  12  --- Quality Reviews :  23\n",
      "https://www.beeradvocate.com/beer/profile/26934/100266/?sort=topr&start=300\n",
      "Current Beer :  Saucy Intruder Rye IPA  --- Pages Scraped :  13  --- Quality Reviews :  23\n",
      "https://www.beeradvocate.com/beer/profile/26934/100266/?sort=topr&start=325\n",
      "Current Beer :  Saucy Intruder Rye IPA  --- Pages Scraped :  14  --- Quality Reviews :  23\n",
      "https://www.beeradvocate.com/beer/profile/26934/100266/?sort=topr&start=350\n",
      "Current Beer :  Saucy Intruder Rye IPA  --- Pages Scraped :  15  --- Quality Reviews :  23\n",
      "https://www.beeradvocate.com/beer/profile/26934/100266/?sort=topr&start=375\n",
      "Current Beer :  Saucy Intruder Rye IPA  --- Pages Scraped :  16  --- Quality Reviews :  23\n",
      "https://www.beeradvocate.com/beer/profile/26934/100266/?sort=topr&start=400\n",
      "Current Beer :  Saucy Intruder Rye IPA  --- Pages Scraped :  17  --- Quality Reviews :  23\n",
      "https://www.beeradvocate.com/beer/profile/26934/100266/?sort=topr&start=425\n",
      "Current Beer :  Saucy Intruder Rye IPA  --- Pages Scraped :  18  --- Quality Reviews :  23\n",
      "https://www.beeradvocate.com/beer/profile/26934/100266/?sort=topr&start=450\n",
      "Current Beer :  Saucy Intruder Rye IPA  --- Pages Scraped :  19  --- Quality Reviews :  23\n",
      "https://www.beeradvocate.com/beer/profile/26934/100266/?sort=topr&start=475\n",
      "Current Beer :  Saucy Intruder Rye IPA  --- Pages Scraped :  20  --- Quality Reviews :  23\n",
      "https://www.beeradvocate.com/beer/profile/26934/100266/?sort=topr&start=500\n",
      "Current Beer :  Saucy Intruder Rye IPA  --- Pages Scraped :  21  --- Quality Reviews :  23\n",
      "https://www.beeradvocate.com/beer/profile/26934/100266/?sort=topr&start=525\n",
      "Current Beer :  Saucy Intruder Rye IPA  --- Pages Scraped :  22  --- Quality Reviews :  23\n",
      "https://www.beeradvocate.com/beer/profile/26934/100266/?sort=topr&start=550\n",
      "Current Beer :  Saucy Intruder Rye IPA  --- Pages Scraped :  23  --- Quality Reviews :  23\n",
      "https://www.beeradvocate.com/beer/profile/26934/100266/?sort=topr&start=575\n",
      "Current Beer :  Saucy Intruder Rye IPA  --- Pages Scraped :  24  --- Quality Reviews :  23\n",
      "https://www.beeradvocate.com/beer/profile/26934/100266/?sort=topr&start=600\n",
      "Current Beer :  Saucy Intruder Rye IPA  --- Pages Scraped :  25  --- Quality Reviews :  23\n",
      "https://www.beeradvocate.com/beer/profile/26934/100266/?sort=topr&start=625\n",
      "Current Beer :  Saucy Intruder Rye IPA  --- Pages Scraped :  26  --- Quality Reviews :  23\n",
      "https://www.beeradvocate.com/beer/profile/26934/100266/?sort=topr&start=650\n",
      "Current Beer :  Saucy Intruder Rye IPA  --- Pages Scraped :  27  --- Quality Reviews :  23\n",
      "https://www.beeradvocate.com/beer/profile/26934/100266/?sort=topr&start=675\n",
      "Current Beer :  Saucy Intruder Rye IPA  --- Pages Scraped :  28  --- Quality Reviews :  23\n",
      "https://www.beeradvocate.com/beer/profile/26934/100266/?sort=topr&start=700\n",
      "Current Beer :  Saucy Intruder Rye IPA  --- Pages Scraped :  29  --- Quality Reviews :  23\n",
      "https://www.beeradvocate.com/beer/profile/26934/100266/?sort=topr&start=725\n",
      "Current Beer :  Saucy Intruder Rye IPA  --- Pages Scraped :  30  --- Quality Reviews :  23\n",
      "https://www.beeradvocate.com/beer/profile/26934/100266/?sort=topr&start=750\n",
      "Current Beer :  Saucy Intruder Rye IPA  --- Pages Scraped :  31  --- Quality Reviews :  23\n",
      "https://www.beeradvocate.com/beer/profile/26934/100266/?sort=topr&start=775\n",
      "Current Beer :  Saucy Intruder Rye IPA  --- Pages Scraped :  32  --- Quality Reviews :  23\n",
      "https://www.beeradvocate.com/beer/profile/26934/100266/?sort=topr&start=800\n",
      "Current Beer :  Saucy Intruder Rye IPA  --- Pages Scraped :  33  --- Quality Reviews :  23\n",
      "https://www.beeradvocate.com/beer/profile/26934/100266/?sort=topr&start=825\n",
      "Current Beer :  Saucy Intruder Rye IPA  --- Pages Scraped :  34  --- Quality Reviews :  23\n",
      "https://www.beeradvocate.com/beer/profile/26934/100266/?sort=topr&start=850\n",
      "Current Beer :  Saucy Intruder Rye IPA  --- Pages Scraped :  35  --- Quality Reviews :  23\n",
      "https://www.beeradvocate.com/beer/profile/26934/100266/?sort=topr&start=875\n",
      "Current Beer :  Saucy Intruder Rye IPA  --- Pages Scraped :  36  --- Quality Reviews :  23\n",
      "https://www.beeradvocate.com/beer/profile/26934/100266/?sort=topr&start=900\n",
      "Current Beer :  Saucy Intruder Rye IPA  --- Pages Scraped :  37  --- Quality Reviews :  23\n",
      "https://www.beeradvocate.com/beer/profile/26934/100266/?sort=topr&start=925\n",
      "Current Beer :  Saucy Intruder Rye IPA  --- Pages Scraped :  38  --- Quality Reviews :  23\n",
      "https://www.beeradvocate.com/beer/profile/26934/100266/?sort=topr&start=950\n",
      "Current Beer :  Saucy Intruder Rye IPA  --- Pages Scraped :  39  --- Quality Reviews :  23\n",
      "https://www.beeradvocate.com/beer/profile/26934/100266/?sort=topr&start=975\n",
      "Current Beer :  Rich's Rye  --- Pages Scraped :  0  --- Quality Reviews :  0\n",
      "https://www.beeradvocate.com/beer/profile/9629/50559/?sort=topr&start=0\n",
      "Current Beer :  Rich's Rye  --- Pages Scraped :  1  --- Quality Reviews :  23\n",
      "https://www.beeradvocate.com/beer/profile/9629/50559/?sort=topr&start=25\n"
     ]
    },
    {
     "name": "stdout",
     "output_type": "stream",
     "text": [
      "Current Beer :  Fire In The Rye  --- Pages Scraped :  0  --- Quality Reviews :  0\n",
      "https://www.beeradvocate.com/beer/profile/28433/107275/?sort=topr&start=0\n",
      "Current Beer :  Fire In The Rye  --- Pages Scraped :  1  --- Quality Reviews :  15\n",
      "https://www.beeradvocate.com/beer/profile/28433/107275/?sort=topr&start=25\n",
      "Current Beer :  Fire In The Rye  --- Pages Scraped :  2  --- Quality Reviews :  20\n",
      "https://www.beeradvocate.com/beer/profile/28433/107275/?sort=topr&start=50\n",
      "Current Beer :  Fire In The Rye  --- Pages Scraped :  3  --- Quality Reviews :  23\n",
      "https://www.beeradvocate.com/beer/profile/28433/107275/?sort=topr&start=75\n",
      "Current Beer :  Hop*A*Potamus  --- Pages Scraped :  0  --- Quality Reviews :  0\n",
      "https://www.beeradvocate.com/beer/profile/23052/76681/?sort=topr&start=0\n",
      "Current Beer :  Hop*A*Potamus  --- Pages Scraped :  1  --- Quality Reviews :  15\n",
      "https://www.beeradvocate.com/beer/profile/23052/76681/?sort=topr&start=25\n",
      "Current Beer :  Hop*A*Potamus  --- Pages Scraped :  2  --- Quality Reviews :  22\n",
      "https://www.beeradvocate.com/beer/profile/23052/76681/?sort=topr&start=50\n"
     ]
    }
   ],
   "source": [
    "#for each beer in sublist\n",
    "for individual_style in test_group: #random style list\n",
    "    base_beer_style_url = beer_styles[individual_style]+'?sort=revsD&start=' # base type url\n",
    "    page_count_value = 0\n",
    "    break_light = False\n",
    "    \n",
    "    #while we can still get access\n",
    "    while requests.get(base_beer_style_url+str(page_count_value)).status_code == 200 and break_light == False:\n",
    "        \n",
    "        # use individual style as our key to get the appropriate url & soup that shit\n",
    "        beer_style_table = BeautifulSoup(requests.get(base_beer_style_url+str(page_count_value)).content, 'html5lib')\n",
    "\n",
    "        # Loops through each row in the table on a page\n",
    "        for table_row in beer_style_table.find(name ='table', attrs = {'width':'100%'}).find_all('tr')[3:53]:\n",
    "            \n",
    "            if int(table_row.find_all('td')[3].text.replace(',','')) < 100:\n",
    "                break_light = True\n",
    "                break\n",
    "\n",
    "                \n",
    "            # perform that action, if it returns false, because we met the criteria\n",
    "            beer_table_scrape(table_row)  #if the table scrape ends because of reviews being too low\n",
    "            \n",
    "                 # increment the page count\n",
    "        page_count_value += 50\n",
    "\n",
    "\n",
    "\n",
    "\n",
    "\n",
    "\n",
    "\n"
   ]
  },
  {
   "cell_type": "code",
   "execution_count": 119,
   "metadata": {},
   "outputs": [
    {
     "name": "stdout",
     "output_type": "stream",
     "text": [
      "https://www.beeradvocate.com/beer/style/158/\n",
      "https://www.beeradvocate.com/beer/style/89/\n",
      "https://www.beeradvocate.com/beer/style/39/\n"
     ]
    }
   ],
   "source": [
    "for item in test_group:\n",
    "    print(beer_styles[item])"
   ]
  },
  {
   "cell_type": "code",
   "execution_count": 120,
   "metadata": {},
   "outputs": [
    {
     "data": {
      "text/plain": [
       "{'Altbier': 'https://www.beeradvocate.com/beer/style/86/',\n",
       " 'American Adjunct Lager': 'https://www.beeradvocate.com/beer/style/38/',\n",
       " 'American Amber / Red Ale': 'https://www.beeradvocate.com/beer/style/128/',\n",
       " 'American Amber / Red Lager': 'https://www.beeradvocate.com/beer/style/147/',\n",
       " 'American Barleywine': 'https://www.beeradvocate.com/beer/style/19/',\n",
       " 'American Black Ale': 'https://www.beeradvocate.com/beer/style/175/',\n",
       " 'American Blonde Ale': 'https://www.beeradvocate.com/beer/style/99/',\n",
       " 'American Brown Ale': 'https://www.beeradvocate.com/beer/style/73/',\n",
       " 'American Dark Wheat Ale': 'https://www.beeradvocate.com/beer/style/94/',\n",
       " 'American Double / Imperial IPA': 'https://www.beeradvocate.com/beer/style/140/',\n",
       " 'American Double / Imperial Pilsner': 'https://www.beeradvocate.com/beer/style/164/',\n",
       " 'American Double / Imperial Stout': 'https://www.beeradvocate.com/beer/style/157/',\n",
       " 'American IPA': 'https://www.beeradvocate.com/beer/style/116/',\n",
       " 'American Malt Liquor': 'https://www.beeradvocate.com/beer/style/42/',\n",
       " 'American Pale Ale (APA)': 'https://www.beeradvocate.com/beer/style/97/',\n",
       " 'American Pale Lager': 'https://www.beeradvocate.com/beer/style/155/',\n",
       " 'American Pale Wheat Ale': 'https://www.beeradvocate.com/beer/style/93/',\n",
       " 'American Porter': 'https://www.beeradvocate.com/beer/style/159/',\n",
       " 'American Stout': 'https://www.beeradvocate.com/beer/style/158/',\n",
       " 'American Strong Ale': 'https://www.beeradvocate.com/beer/style/78/',\n",
       " 'American Wild Ale': 'https://www.beeradvocate.com/beer/style/171/',\n",
       " 'Baltic Porter': 'https://www.beeradvocate.com/beer/style/80/',\n",
       " 'Belgian Dark Ale': 'https://www.beeradvocate.com/beer/style/119/',\n",
       " 'Belgian IPA': 'https://www.beeradvocate.com/beer/style/174/',\n",
       " 'Belgian Pale Ale': 'https://www.beeradvocate.com/beer/style/54/',\n",
       " 'Belgian Strong Dark Ale': 'https://www.beeradvocate.com/beer/style/56/',\n",
       " 'Belgian Strong Pale Ale': 'https://www.beeradvocate.com/beer/style/55/',\n",
       " 'Berliner Weissbier': 'https://www.beeradvocate.com/beer/style/87/',\n",
       " 'Bière de Champagne / Bière Brut': 'https://www.beeradvocate.com/beer/style/141/',\n",
       " 'Bière de Garde': 'https://www.beeradvocate.com/beer/style/127/',\n",
       " 'Black & Tan': 'https://www.beeradvocate.com/beer/style/130/',\n",
       " 'Bock': 'https://www.beeradvocate.com/beer/style/32/',\n",
       " 'Braggot': 'https://www.beeradvocate.com/beer/style/114/',\n",
       " 'California Common / Steam Beer': 'https://www.beeradvocate.com/beer/style/132/',\n",
       " 'Chile Beer': 'https://www.beeradvocate.com/beer/style/163/',\n",
       " 'Cream Ale': 'https://www.beeradvocate.com/beer/style/6/',\n",
       " 'Czech Pilsener': 'https://www.beeradvocate.com/beer/style/40/',\n",
       " 'Doppelbock': 'https://www.beeradvocate.com/beer/style/35/',\n",
       " 'Dortmunder / Export Lager': 'https://www.beeradvocate.com/beer/style/20/',\n",
       " 'Dubbel': 'https://www.beeradvocate.com/beer/style/57/',\n",
       " 'Dunkelweizen': 'https://www.beeradvocate.com/beer/style/91/',\n",
       " 'Eisbock': 'https://www.beeradvocate.com/beer/style/36/',\n",
       " 'English Barleywine': 'https://www.beeradvocate.com/beer/style/152/',\n",
       " 'English Bitter': 'https://www.beeradvocate.com/beer/style/98/',\n",
       " 'English Brown Ale': 'https://www.beeradvocate.com/beer/style/74/',\n",
       " 'English Dark Mild Ale': 'https://www.beeradvocate.com/beer/style/75/',\n",
       " 'English India Pale Ale (IPA)': 'https://www.beeradvocate.com/beer/style/150/',\n",
       " 'English Pale Ale': 'https://www.beeradvocate.com/beer/style/154/',\n",
       " 'English Pale Mild Ale': 'https://www.beeradvocate.com/beer/style/76/',\n",
       " 'English Porter': 'https://www.beeradvocate.com/beer/style/101/',\n",
       " 'English Stout': 'https://www.beeradvocate.com/beer/style/13/',\n",
       " 'English Strong Ale': 'https://www.beeradvocate.com/beer/style/165/',\n",
       " 'Euro Dark Lager': 'https://www.beeradvocate.com/beer/style/149/',\n",
       " 'Euro Pale Lager': 'https://www.beeradvocate.com/beer/style/37/',\n",
       " 'Euro Strong Lager': 'https://www.beeradvocate.com/beer/style/43/',\n",
       " 'Extra Special / Strong Bitter (ESB)': 'https://www.beeradvocate.com/beer/style/66/',\n",
       " 'Faro': 'https://www.beeradvocate.com/beer/style/15/',\n",
       " 'Flanders Oud Bruin': 'https://www.beeradvocate.com/beer/style/52/',\n",
       " 'Flanders Red Ale': 'https://www.beeradvocate.com/beer/style/53/',\n",
       " 'Foreign / Export Stout': 'https://www.beeradvocate.com/beer/style/95/',\n",
       " 'Fruit / Vegetable Beer': 'https://www.beeradvocate.com/beer/style/9/',\n",
       " 'German Pilsener': 'https://www.beeradvocate.com/beer/style/41/',\n",
       " 'Gose': 'https://www.beeradvocate.com/beer/style/16/',\n",
       " 'Gueuze': 'https://www.beeradvocate.com/beer/style/14/',\n",
       " 'Happoshu': 'https://www.beeradvocate.com/beer/style/168/',\n",
       " 'Hefeweizen': 'https://www.beeradvocate.com/beer/style/89/',\n",
       " 'Herbed / Spiced Beer': 'https://www.beeradvocate.com/beer/style/8/',\n",
       " 'Irish Dry Stout': 'https://www.beeradvocate.com/beer/style/162/',\n",
       " 'Irish Red Ale': 'https://www.beeradvocate.com/beer/style/161/',\n",
       " 'Japanese Rice Lager': 'https://www.beeradvocate.com/beer/style/169/',\n",
       " 'Kellerbier / Zwickelbier': 'https://www.beeradvocate.com/beer/style/131/',\n",
       " 'Kristalweizen': 'https://www.beeradvocate.com/beer/style/90/',\n",
       " 'Kvass': 'https://www.beeradvocate.com/beer/style/173/',\n",
       " 'Kölsch': 'https://www.beeradvocate.com/beer/style/85/',\n",
       " 'Lambic - Fruit': 'https://www.beeradvocate.com/beer/style/10/',\n",
       " 'Lambic - Unblended': 'https://www.beeradvocate.com/beer/style/50/',\n",
       " 'Light Lager': 'https://www.beeradvocate.com/beer/style/39/',\n",
       " 'Low Alcohol Beer': 'https://www.beeradvocate.com/beer/style/5/',\n",
       " 'Maibock / Helles Bock': 'https://www.beeradvocate.com/beer/style/33/',\n",
       " 'Milk / Sweet Stout': 'https://www.beeradvocate.com/beer/style/82/',\n",
       " 'Munich Dunkel Lager': 'https://www.beeradvocate.com/beer/style/46/',\n",
       " 'Munich Helles Lager': 'https://www.beeradvocate.com/beer/style/21/',\n",
       " 'Märzen / Oktoberfest': 'https://www.beeradvocate.com/beer/style/29/',\n",
       " 'Oatmeal Stout': 'https://www.beeradvocate.com/beer/style/69/',\n",
       " 'Old Ale': 'https://www.beeradvocate.com/beer/style/79/',\n",
       " 'Pumpkin Ale': 'https://www.beeradvocate.com/beer/style/72/',\n",
       " 'Quadrupel (Quad)': 'https://www.beeradvocate.com/beer/style/142/',\n",
       " 'Rauchbier': 'https://www.beeradvocate.com/beer/style/7/',\n",
       " 'Roggenbier': 'https://www.beeradvocate.com/beer/style/18/',\n",
       " 'Russian Imperial Stout': 'https://www.beeradvocate.com/beer/style/84/',\n",
       " 'Rye Beer': 'https://www.beeradvocate.com/beer/style/12/',\n",
       " 'Sahti': 'https://www.beeradvocate.com/beer/style/148/',\n",
       " 'Saison / Farmhouse Ale': 'https://www.beeradvocate.com/beer/style/129/',\n",
       " 'Schwarzbier': 'https://www.beeradvocate.com/beer/style/31/',\n",
       " 'Scotch Ale / Wee Heavy': 'https://www.beeradvocate.com/beer/style/77/',\n",
       " 'Scottish Ale': 'https://www.beeradvocate.com/beer/style/68/',\n",
       " 'Scottish Gruit / Ancient Herbed Ale': 'https://www.beeradvocate.com/beer/style/70/',\n",
       " 'Smoked Beer': 'https://www.beeradvocate.com/beer/style/11/',\n",
       " 'Tripel': 'https://www.beeradvocate.com/beer/style/58/',\n",
       " 'Vienna Lager': 'https://www.beeradvocate.com/beer/style/30/',\n",
       " 'Weizenbock': 'https://www.beeradvocate.com/beer/style/92/',\n",
       " 'Wheatwine': 'https://www.beeradvocate.com/beer/style/60/',\n",
       " 'Winter Warmer': 'https://www.beeradvocate.com/beer/style/47/',\n",
       " 'Witbier': 'https://www.beeradvocate.com/beer/style/48/'}"
      ]
     },
     "execution_count": 120,
     "metadata": {},
     "output_type": "execute_result"
    }
   ],
   "source": [
    "beer_styles"
   ]
  },
  {
   "cell_type": "code",
   "execution_count": 135,
   "metadata": {
    "collapsed": true
   },
   "outputs": [],
   "source": [
    "def quality_review_extractor(reviews_url, reviews_dict):\n",
    "    \n",
    "    # request page contents and convert to soup object\n",
    "    QR_beer_r = requests.get(reviews_url)\n",
    "    QR_beer_r_soup = BeautifulSoup(QR_beer_r.content, 'html5lib')\n",
    "    \n",
    "    # find all individual reviews\n",
    "    for ind_review in QR_beer_r_soup.find_all('div', attrs = {'id':'rating_fullview_container'}): \n",
    "        full_ind_review = ind_review.text # contains username and unwated numeric reviews\n",
    "\n",
    "        # unwanted attributes are contained in <span class=\"muted\">\"Unwated text</span>\n",
    "        numeric_review = ind_review.find_all(name ='span',attrs={'class':'muted'})\n",
    "    \n",
    "        # cleans out unwanted attributes (username, datetime, numeric ratings)\n",
    "        for reviewer in numeric_review:\n",
    "            unwanted_attr = reviewer.text\n",
    "            # replaces unwanted aspects\n",
    "            full_ind_review = full_ind_review.replace(unwanted_attr, '')\n",
    "            # scrubs out the 'Total Score' attribute\n",
    "            clean_review = re.sub( '^(.*)(%)',\"\",string = full_ind_review)\n",
    "        \n",
    "        # if the length of the remaining review is greater than 25 keep\n",
    "        if len(clean_review) > 25:\n",
    "            reviews_dict[str(len(reviews_dict)+1)] = clean_review"
   ]
  },
  {
   "cell_type": "code",
   "execution_count": 136,
   "metadata": {
    "collapsed": true
   },
   "outputs": [],
   "source": [
    "empty_reviews = {}\n",
    "\n",
    "quality_review_extractor('https://www.beeradvocate.com/beer/profile/1422/32918/?sort=topr&start=0', empty_reviews)"
   ]
  },
  {
   "cell_type": "code",
   "execution_count": 137,
   "metadata": {
    "scrolled": false
   },
   "outputs": [
    {
     "data": {
      "text/plain": [
       "{'1': \"Pours a clear yellow with a 1 inch foamy white head that settles to a film on top of the beer. Foamy rings of lace form around the glass on the drink down. Looks-wise this one isn't so bad I must say. Smell is of subtle grain, sugar, and metal. There is also a weird fruitiness that I am picking up in the smell. Taste is of sugary water and slight grain flavors. This beer seems to be quite flat with a watery quality in the mouthfeel. Overall, this is a pretty horrible beer any way you look at it. I am glad I picked up a can to try just so I can further appreciate all the good beer I am able to enjoy.\\xa0\",\n",
       " '10': \"Beer 30 Light has a thick, egg-shell colored head and a clear, golden appearance with some bubbles streaming up and little lacing left. The aroma is strange, to say the least, with a green sour apple scent and other smells I can't detect. The taste is also peculiar, with that sour green apple aspect and other funny flavors I just cannot place. Mouthfeel is light and watery, and Beer 30 Light finishes crisp, refreshing, and dry. This is a beer worth trying, because it's so unusual.\\n\\nRJT\\xa0\",\n",
       " '11': \"Can, graciously shared at the July Santa Cruz tasting. Pours a sickly yellowish straw color, evoking images of corn cob aged hose water, with a sputtering gray head. It could be power of suggestion with the laughable purple can, or it could be a really weird gross fermentation, but I'm getting some distinct grape notes on the nose. Beyond that, maybe some rotting grains. Flavor thankfully eases up on the fruit solvent and retreats into your basic dirty pale lager with dusty corny grains and a vanishing unsavory finish. Carbonation is surprisingly low for the style, giving a tap watery impression. No reason to ever drink this even for free. Well, the tick is worth it.\\xa0\",\n",
       " '12': \"24oz TALLboy can poured into a 1L Spaten mug!! Set me back a buck, I couldn't resist!\\n\\nPale, straw colored clear liquid fell into the mug forming a couple of fingers of puffy white head that dwindled down to a soapy film on the top. \\n\\nNothing much on the aroma aside from some corny sweetness and metal (admittedly I'd say not from the can...just that metallic crap lager taste)\\n\\nLight grainy, corny sweetness. It's palatable, but if it had a fraction more sweetness to it, it'd be cloying. \\n\\nSlightly crisp, light, but has a heavier, creamy feel which is nice, but for the style, a crisper bite would have been more refreshing.\\n\\nOverall, not hard to put back. I don't know really if I was taking huge gulps because it was easy, or I was ready to move on to a KBS or something!\\xa0\",\n",
       " '13': 'Appearance: Clear medium golden in color, with a small, snow-white head of coarse bubbles and which resembles soap foam. The carbonation ia profuse, fast-rising and composed of rather large bubbles. The lacing is slight and scattered.\\n\\nAroma; Cooked corn dominates the aroma, there are faint metallic hops, a mineral note, and a bit of alcohol.\\n\\nTaste: Opens with a bit of tart malt, this slightly sour flavor, along with a modest white bread flavor, carries throughout. Late in the taste, a ghostly metallic hop note appears, bringing the taste to a close.\\n\\nMouth feel: Soft, thin, watery, with a bit of stinging carbonation.\\n\\nDrinkability/notes: An average example of the style. At sixty-nine cents a can, it is hard to complain.\\n\\nPresentation: Packaged in a twelve-ounce aluminum can, served in a standard Pilsener glass\\xa0',\n",
       " '14': \"A - Clear golden color with a slightly than larger, foamy, rocky, sticky, white head. Retention is below average and settles into a thin ring of lace. Similar to other mass produced light lagers.\\n\\nS - Very faint and thin. Some grain and corn aroma that is similar to other light lagers. Some mineral aroma as well. Not great.\\n\\nT - A lot of cooked corn and grain provides most of the flavor. Some mineral and maybe a hint of apple and other fruitiness. Taste kind of like a cheap light lager mixed with a cheap cider.\\n\\nM - Light body with a lot of carbonation. Typical to the style.\\n\\nD - Not really all that drinkable. Taste isn't great and it doesn't refresh as much as other macro made light lagers.\\n\\nNotes: Not really all that great of a beer and shows that you get what you pay for. I'll probably stick to PBR or Miller High Life for my cheap beer, but if you want a bit more of a fruitiness in your cheap beer, this may be for you. Plus the label/name is kind of funny.\\xa0\",\n",
       " '15': '30 pack was $12... That\\'s the cheapest beer available in Lake of the Ozarks MO, and craft beer is pretty dismal.... I figured if I had to drink swill, it may as well be the cheapest swill... That was a mistake. \\n\\nA dark yellow color that fizzes up a one finger white head-- almost seltzer water like. The head is gone very quickly, like it bubbled itself away. No lacing. \\nWow. The word \"bad\" doesn\\'t do this beer justice. This smells like a lemon solvent, with a hint of sourmash corn. \\n\\nThe taste is generic sweetness, like corn syrup or sugar, followed by a sour lemon note that could be from a sourmash or from an interesting hop procedure. \\n\\nBody feels undercarbonated for the style. Kinda thick and syrupy. \\n\\nOverall, this is terrible. I have 29 more of these??!! FML. \\nI need to set up a trade with WoodyChandler-- maybe he CAN help me out here...\\xa0',\n",
       " '2': 'Poured from a 12oz can into a US tumbler pint glass.\\n\\nA: The beer is a very light yellow color, with a short white head that fades very quickly and leaves very little lace on the glass. \\n\\nS: The aroma is of adjuncts, very light malts and almost no hops.\\n\\nT: The taste starts with an adjunct and light malt sweetness that is followed by a thin grain breadiness. The hops presence is nearly undetectable. The after-taste is slightly sweet.\\n\\nM: Watery, light body, medium-to-high carbonation, finish is clean.\\n\\nD: Almost no flavor at all, goes down easily and is not too filling since there isn\\'t much to it, very mild kick, I don\\'t see how they can honestly call this \"Premium Beer\" on the can when it barely passes for beer at all.\\xa0',\n",
       " '3': \"CAN you dig it? I pulled off a major trade in the Heinz Field parking lot a couple of weeks ago before watching Pitt lose (by a missed PAT!) to Cincy. I think that I developed a slight head cold during the snowy weather and so my reviews got put on hold until my sinuses cleared. Let the CAN Quest continue!\\n\\nI totally get the concept of this beer - it is always Beer:30 when I get home from a day of teaching. I just wish that I could have tried its leaded counterpart first. Onward!\\n\\nI must be slipping - my pour only produced a little better than a finger's worth of bone-white head with really low retention. Color was a golden-yellow with NE-quality clarity. It looked like sunshine in a glass as I peered into the gloaming through my kitchen window. The nose was sweet, mostly cereal, but also some of that fruity bubblegum. Oof. Mouthfeel was fuller than I might expect in a light beer, but that did not help the cloyingly sweet taste I got on the tongue. Double oof. The finish left me wondering how many more of these kinds of beers I am going to encounter on the CANQuest. I CAN only hope that more craft brewers turn to CANs in the near future.\\xa0\",\n",
       " '4': 'Also from the 99 cent store.\\n\\nA: This one pours a pale straw color with a minimal white head forming. Already not living up to Beer 30 Ice...\\n\\nS: Rotten vegetables is the best way I can think to describe this aroma. A bit of garbage and paper is also there. Sure, plenty of corn, sugar, and metal, too.\\n\\nT: Very corny and vegetal. Lots of sweet apple juice flavor and a nice metallic note. Mildly sour and lemony. Though not intense, the flavor is certainly abrasive.\\n\\nM: Light in body with a medium to high carbonation.\\n\\nO: Somehow, worse than Beer 30 Ice.\\xa0',\n",
       " '5': 'Served in a Chicago Bears shaker pint glass.\\n\\nThanks to my buddy and his Iowa City-based alma mater, I now have a case o\\' this. Yeah. It pours a clear deep sallow topped by a rather short-lived bit o\\' fizzy white foam. The nose is nearly as devoid of scent as the surface of the moon (since, according to my research, the moon\\'s not really made of cheese (seriously? when did this happen!?), I figure it\\'s pretty scent-less), with only some mild corn chaff finding it\\'s way into the \\'strils. The taste doesn\\'t try too hard to one-up the smell, though a very mild sweetness vainly tries to pervade the otherwise tasteless liquid. As my boy Filbert once said, this thing went down \"like a lead rake\". Interestingly, the body is very light, with a fizzy carbonation and a watery feel. So...I guess it\\'s more apt to say it went down too easily...like...a lead rake...? Why not? Overall, I really don\\'t want to drink this. It\\'s not that it\\'s completely offensive, per se, but it\\'s not a flavor of water I really want to have much of. As far as I\\'m concerned, I hope the clock never strikes Beer:30 so long as it means this brew is in the offing.\\xa0',\n",
       " '6': \"A- Half inch of a fizzy white head on a clear, very pale body. Low head retention properties and no lacing.\\n\\nS- Not a pleasant smell although I don't know what it is akin too. light lemon zest perhaps.\\n\\nT- Weird, semi-metallic fruity aftertaste...up until that point not bad at all. Easy drinking besides that.\\n\\nM- Feels good in the mouth for the style. Medium bodies, high carbonation. Best feature of Beer 30 Light.\\n\\nD/O- If they could get rid of that off-putting taste at the end of each gulp this could be a winner (read: average). As it stands now, the best thing I took out of this 24 ouncer was a can tick.\\xa0\",\n",
       " '7': 'Poured from a 12 oz. can. Has a very pale yellow color with a 1/2 inch head. Smell is dominated by corn. Taste is like water with a touch of beer flavoring. Not much going on at all. Feels light in the mouth and has good drinkability. Overall there is nothing to recomend about this beer.\\xa0',\n",
       " '8': \"A-Pours the generic straw yellow with a thin foamy head. \\n\\nS-Quite an unattractive smell, even for the style. Just very skunky and a bit too much. If I am drinking a cheap thirty (and this one is cheap!) then I want it to be pretty nondescript. This has a bit too much.\\n\\nT-Even for a light lager, this one is just off. Hard to put down these at a quick rate. Just a mess.\\n\\nM-A bit too heavy for a crappy light beer. Need this to be more watery for maximum drunken consumption.\\n\\nO/D-The only good part about this beer is that it is the cheapest thirty I have seen in MA. It ran about $13 and I respect the gimmick they're going for here. Really gross, but hey, its cheap and eventually gets the job done...eventually.\\xa0\",\n",
       " '9': 'Two ways to consider this: I have enough of a sense of humor about beer to drop 2.50 on a six pack of a beer that seems to market itself as something horrible, with its gaudy purple can and, well, name. \"Beer\" is all it says. \"30 Light\" is much smaller. That\\'s kind of funny.\\n\\nThe other way is that I\\'m an idiot who just bought something that is marketed as being horrible and I should expect any pain that this brew may cause me.\\n\\nTepid pour. Very light yellow with a small, very short-lived head.\\n\\nSmells at first of nothing. When it warms it takes on the absolutely repugnant odor of a can of a regular bad macro that\\'s been sitting for a few days. Ya\\'know, that smell of week old Bud. Well, this was opened ten minutes ago and it smells like that.\\n\\nTastes...not half bad, actually. A little metal but a surpising amount of fruit esters, especially for a light lager. Seriously, if the smell wasn\\'t so goddamn horrible this would be a top notch light. Erm... okay as it warms it starts to taste like it smells. \\n\\nOh, and it should also work on the mournful dispepsia it causes. And the headache.\\xa0'}"
      ]
     },
     "execution_count": 137,
     "metadata": {},
     "output_type": "execute_result"
    }
   ],
   "source": [
    "empty_reviews"
   ]
  },
  {
   "cell_type": "code",
   "execution_count": null,
   "metadata": {
    "collapsed": true
   },
   "outputs": [],
   "source": []
  }
 ],
 "metadata": {
  "kernelspec": {
   "display_name": "Python 3",
   "language": "python",
   "name": "python3"
  },
  "language_info": {
   "codemirror_mode": {
    "name": "ipython",
    "version": 3
   },
   "file_extension": ".py",
   "mimetype": "text/x-python",
   "name": "python",
   "nbconvert_exporter": "python",
   "pygments_lexer": "ipython3",
   "version": "3.7.0"
  }
 },
 "nbformat": 4,
 "nbformat_minor": 2
}
