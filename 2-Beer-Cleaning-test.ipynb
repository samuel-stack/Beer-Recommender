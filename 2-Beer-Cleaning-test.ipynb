{
 "cells": [
  {
   "cell_type": "markdown",
   "metadata": {},
   "source": [
    "# Extracting Data from AWS and removing duplicates.\n",
    "\n",
    "Bringing data of AWS and onto local machine, removing any duplicate entries along the way."
   ]
  },
  {
   "cell_type": "code",
   "execution_count": 2,
   "metadata": {},
   "outputs": [
    {
     "name": "stdout",
     "output_type": "stream",
     "text": [
      "Collecting pymongo\n",
      "  Downloading pymongo-3.6.0-cp36-cp36m-manylinux1_x86_64.whl (378kB)\n",
      "\u001b[K    100% |████████████████████████████████| 378kB 1.5MB/s eta 0:00:01\n",
      "\u001b[?25hInstalling collected packages: pymongo\n",
      "Successfully installed pymongo-3.6.0\n"
     ]
    }
   ],
   "source": [
    "# need dat pymongo\n",
    "!pip install pymongo"
   ]
  },
  {
   "cell_type": "code",
   "execution_count": 1,
   "metadata": {
    "collapsed": true
   },
   "outputs": [],
   "source": [
    "# make sure the figgin MongoDB Container is on \n",
    "import pandas as pd\n",
    "\n",
    "# Actual IP and port changed\n",
    "from pymongo import MongoClient\n",
    "client = MongoClient('250.250.250.250',20000)"
   ]
  },
  {
   "cell_type": "code",
   "execution_count": 2,
   "metadata": {
    "collapsed": true
   },
   "outputs": [],
   "source": [
    "import json"
   ]
  },
  {
   "cell_type": "code",
   "execution_count": 3,
   "metadata": {
    "collapsed": true
   },
   "outputs": [],
   "source": [
    "# get the collection\n",
    "Beers = client['Beers']"
   ]
  },
  {
   "cell_type": "code",
   "execution_count": 7,
   "metadata": {},
   "outputs": [
    {
     "data": {
      "text/plain": [
       "Collection(Database(MongoClient(host=['54.187.99.153:27016'], document_class=dict, tz_aware=False, connect=True), 'Beers'), 'Beer_final')"
      ]
     },
     "execution_count": 7,
     "metadata": {},
     "output_type": "execute_result"
    }
   ],
   "source": [
    "# this is collection i need to query. \n",
    "Beers['Beer_final']"
   ]
  },
  {
   "cell_type": "code",
   "execution_count": 8,
   "metadata": {},
   "outputs": [
    {
     "name": "stdout",
     "output_type": "stream",
     "text": [
      "Indian Brown Ale Dogfish Head Craft Brewery\n"
     ]
    }
   ],
   "source": [
    "beer = Beers['Beer_final'].find_one({})\n",
    "beer_name, brewery_name = beer['Beer_Name'], beer['Brewery_Name']\n",
    "print(beer_name, brewery_name)"
   ]
  },
  {
   "cell_type": "markdown",
   "metadata": {},
   "source": [
    "### First things first: Remove duplicate entries.\n",
    "- Figure out how to query mongodb\n",
    "- find a way to set some of the extracted information.\n"
   ]
  },
  {
   "cell_type": "code",
   "execution_count": 32,
   "metadata": {
    "collapsed": true
   },
   "outputs": [],
   "source": [
    "# all beer names that I had in the DB.\n",
    "Beer_names = [post['Beer_Name'] for post in Beers['Beer_final'].find({})]"
   ]
  },
  {
   "cell_type": "code",
   "execution_count": 55,
   "metadata": {
    "collapsed": true
   },
   "outputs": [],
   "source": [
    "Beer_combos = [(post['Beer_Name'],post['Brewery_Name']) for post in Beers['Beer_final'].find({})]"
   ]
  },
  {
   "cell_type": "code",
   "execution_count": 40,
   "metadata": {},
   "outputs": [
    {
     "data": {
      "text/plain": [
       "9311"
      ]
     },
     "execution_count": 40,
     "metadata": {},
     "output_type": "execute_result"
    }
   ],
   "source": [
    "# how many actual beers there are to compare. \n",
    "len(set(Beer_names))"
   ]
  },
  {
   "cell_type": "code",
   "execution_count": 56,
   "metadata": {},
   "outputs": [
    {
     "data": {
      "text/plain": [
       "9490"
      ]
     },
     "execution_count": 56,
     "metadata": {},
     "output_type": "execute_result"
    }
   ],
   "source": [
    "# how many beer/Brewery Combos.\n",
    "len(set(Beer_combos))"
   ]
  },
  {
   "cell_type": "code",
   "execution_count": 38,
   "metadata": {},
   "outputs": [
    {
     "data": {
      "text/plain": [
       "'Palo Santo Marron'"
      ]
     },
     "execution_count": 38,
     "metadata": {},
     "output_type": "execute_result"
    }
   ],
   "source": [
    "# get a beer name\n",
    "Beer_names[1]"
   ]
  },
  {
   "cell_type": "code",
   "execution_count": 39,
   "metadata": {
    "scrolled": false
   },
   "outputs": [
    {
     "data": {
      "text/plain": [
       "{'1': '. Roastiness also there and well constrained. Six months later, room temperature, more chocolate, thick and woody.\\xa0',\n",
       " '10': 'Both my girlfriend, and a good friend of mine, sent that article about DFH from the New Yorker to me. Of course I had already read it via BeerAdvocate, but appreciated the gestures nonetheless. So when I saw this on the shelf in downtown Vancouver last month, I procured a bottle for each of them (to share with me, of course). The first one vanished none too slowly, so I had better write this one down...\\n\\nThis beer pours a deep, dark black, with reddish tints, and a single finger of tan head, that disappears readily. The smell is prunes, dates, and an intense wood essence, that I admit I cannot identify (beyond the description on the label). The taste is floral hops, heavy black fruit, caramel, vanilla, and an acrid woodiness, again hard to describe. The carbonation is quite low, and the finish carries on the heavy woody sweetness. The body is very thick and viscous, with obvious alcohol warming. It sticks to the palate, making this a slow, if exotically tasty tipple.\\xa0',\n",
       " '11': \"I've never had a 4-pack to come wiht a CD before. I thought I was getting a deal with Left Hand 6-packs with the free sticker. Our homebrew club recently brewed an Imperial Brown and aged it in a Four Roses Bourbon Barrel for the '08 NHC. Interesting to compare the differences. This beer surely qualifies for a Double Brown without loosing any balance, falling into Porter or Stout territory. A nice chocolaty, nutty flavor with a hearty helping of malt, sweetness, and berry-like esters. Good hopping rates give the beer a grassy, piney flavor while offsetting the heavy sweetness. The wood gives a well-roundness to the flavors, but don't give a whole lot of wood flavor or astringency. Quite delicate in it's balance, despite a dominant alcohol (ethanol)taste and slightly harsh textures, but does thin the weighted brew a bit. Surprised to see a fizzy head formation that didn't last any time at all, nor did the carbination -- strange for DFH.\\xa0\",\n",
       " '12': \"Another Dogfish head beer. Hmm. 12 fl oz brown glass bottle with botled on date 02/02/2011B. What does the B mean? I don't know. Served into a De Molen beer stemflute in low altitude Los Angeles, California. Reviewed live. I don't know what to expect, but when I think of a brown think nuts. Wood aging isn't anywhere near what I'd expect, and I'm hoping it'll blow me away. Served slightly warmer than refrigerator cold. \\n\\nA: Pours a 1.5 finger head of rich light tan colour, good cream, great thickness, and very impressive retention - especially considering the 12.00% ABV. Wow. Colour is a solid black (NOT brown). I'm impressed so far, and excited to try it. \\n\\nSm: A moderately strong aroma of cream, wood, nuts, birch, vanilla, caramel, and a hint of alcohol. I wouldn't call it subtle, nor is it particularly inviting. No yeast comes through. \\n\\nT: The wood comes through, but only on the finish. The warm alcohol is well-restrained and hidden, hardly coming through at all. I get vanilla, light caramel, very buried roasted barley (why this is buried is beyond me), and nuts - but only on the climax. It isn't subtle, but instead feels muted; I find myself straining to taste each note because the holistic flavour doesn't have all that much to offer. I mean it's good, and it's balanced, but it just doesn't bring the depth or boldness I'd expect from a 12% beer. This may be the least flavorful high ABV beer I've had in the last three months. \\n\\nMf: Smooth and wet, suiting the flavours and general tone of the beer. Not too thick nor too thin. Actually surprisingly well done. \\n\\nDr: Extremely drinkable for the ABV, but where is the flavour? Hit us with the taste if you believe it's a good one! I like this, but I wouldn't have it again because it's kind of a panzy when it comes to delivering on the promise of the aroma. Shame on you Dogfish Head! \\n\\nB-\\xa0\",\n",
       " '13': 'Bottle from the first release, found in the back of the fridge. \\nLess than a finger of head when poured into a Duchesse goblet. Tan foam that recedes slowly, and leaves a ring. Lactic aroma with some banana ester from the yeast, and slightly roasty. Reminds me of a Bells stout. Rich, creamy feel, earthy roast and lactic taste. Not getting much of the advertised wood-aging. Abv is well disguised. Similar to Bells Kalamazoo Stout or Double Cream. Good, but not worth paying a premium for.\\xa0',\n",
       " '14': \"Poured from a bottle into my Chimay goblet. This bottle has been in my cellar for a year.\\n\\nAppearance: Pours almost black with some red at the edges where the light comes through. There is a half finger of tan head that fades quickly.\\n\\nSmell: Sweet, which isn't surprising. Dark fruit and brown sugar notes. Mild roast and a hint of wood. Some alcohol as well.\\n\\nTaste: Extremely smooth given the abv. Not very sweet, but there are hints of dark fruit and chocolate. The palo santo wood adds some complexity. The finish is still a bit hot even with a year on it.\\n\\nMouthfeel: The body is on the thick side of medium body. The carbonation is fluffy and smooth. The finish is mildly slick.\\n\\nOverall: The fact that this isn't overly sweet really surprised me. I thought it was complex and very interesting. The year of aging was good for this beer, but it is still a bit hot.\\xa0\",\n",
       " '15': \"Appearance: Looks almost like a RIS, although the color might be a tone or two lighter as ruby highlights clearly burst through; the head fades quickly to an espresso cap and leaves a few dots and dashes of lace around the glass\\n\\nSmell: Complex aromas from a variety of sources, including dark fruit, fusel alcohol, molasses and chocolate and, of course, a heavy dose of smokey wood esters\\n\\nTaste: Opens with a rich black bread and caramel/vanilla flavor that moves in a dark fruit and smokey, woody direction by mid-palate, with a bit a black currant jam providing additional sweetness; after the swallow, the chocolate and coffee flavors enter and provide a roasty bitterness that counters the sweet flavors that dominated earlier in the taste profile; the smokey wood sticks around long after the finish\\n\\nMouthfeel: Full bodied with moderate carbonation; clearly some warmth from the high abv as well\\n\\nDrinkability: I love Dogfish Head's experimental efforts and this beer is among the best they have released, if not the best\\xa0\",\n",
       " '2': 'A: two finger milk chocolate head on a jet black body which poured out like oil.\\n\\nS: vanilla, caramel, toffee, butter, earthy hops and wood all prevail with a boozy undertone.\\n\\nT: I was expecting the worst but this one was as boozy as I was expecting from the 12% ABV. Starts with vanilla and caramel moving to wood then a chocolate and roasted malt finish with dryness provided by mildly bitter coffee. \\n\\nM: thick and oily with moderate carbonation.\\n\\nOverall: the booze are well hidden. This one is actually well balanced. I think the wood cleans this one up and smooths it up.\\xa0',\n",
       " '20': \"A - Poured out a dark, reddish brown color with a thick, foamy, tan head that left soapy trails of lace.\\n\\nS - It smelled of oak, vanilla and rich, sweet, caramel malt.\\n\\nT - It has an incredibly sweet maltiness with underlying hints of vanilla. Also, a whiskey-like flavor.\\n\\nM - It was crisp, yet soft as it warmed. A medium-bodied beer.\\n\\nD - Despite the high ABV, this is a fairly easy-drinking beer. One of the more unique brown ales that I've ever had.\\xa0\",\n",
       " '21': 'Bottle courtesy of Jay23: Poured a pitch-black color ale with a large brown foamy head with good retention and some nice lacing. Aroma of vanilla and oak is pretty pleasant with some light roasted malt notes. Taste is a mix between some roasted malt notes with a mix of vanilla and oak and some creamy lactose notes. Full creamy body is really enjoyable with some great carbonation and no apparent alcohol. Very well done and probably one of the best new seasonal from Dogfish.\\xa0',\n",
       " '22': '12 ounce bottle into signature tulip glass, bottled on 10/22/2012. Pours almost pitch black color with a small foamy dark tan head with good retention, that reduces to a thin cap that lingers. Light spotty lacing clings on the glass, with a good amount of streaming carbonation retaining the small head. Aromas of big caramel, brown sugar, molasses, raisin, fig, toast, dark bread, roasted malt, light char, wood, light vanilla, and roasted earthiness. Damn nice aromas with good balance and complexity of malt and wood aging notes. Taste of big raisin, fig, molasses, brown sugar, caramel, toast, dark bread, wood, roasted malt, light char, light vanilla, and roasted earthiness. Lingering notes of dark fruits, molasses, brown sugar, toast, dark bread, wood, roasted malt, and roasted earthiness on the finish for a while. Damn nice balance and complexity of very robust dark malt flavors with fruitiness; and hardly any cloying flavors present after the finish. Medium carbonation and full bodied; with a very creamy, slick, and thick mouthfeel that is nice. Alcohol is well hidden with only a small warming noticed after the finish. Overall this is an excellent imperial brown ale. Very nice complexity and balance of flavors; and quite smooth to sip on. A very enjoyable offering.\\xa0',\n",
       " '23': \"Appearance - Nearly opaque dark brown with a creamy cap of coffee-colored foam.\\n\\nSmell - Molasses, vanilla, maple syrup. Slightly burnt toast. Sweet without being cloying.\\n\\nTaste & mouthfeel - Rich roasty malt, vanilla, cinnamon and chocolate. The mouthfeel is chewy, almost like a liquid molasses cookie. Quite a bit of subtle complexity; I've had this a couple of times now and I'm still not entirely sure how to describe it. A nice toasty bitterness in the finish balances the initial sweetness. This is a true imperial brown - it retains the character of a brown ale without ever dipping into stout territory. Remarkably drinkable for 12%. A solid DFH offering.\\xa0\",\n",
       " '24': ' abv american brown ale :) This beer has a year or two of age on it.\\n\\nPoured into Bud American Ale glass\\n\\nPours 1/2 finger of mocha tan head. Fades to a thin olater and leaves some slight splattered lace. Color is black, not brown haha. \\n\\nAroma: Huge malt aroma. Lots of oak, vanilla, and caramel. Some raisins and cherries. Damn, this is smelling fine. Very complex.\\n\\nTaste: This hardly tastes like a brown ale. Lots of oak and vanilla. Some caramel and dark fruits. An amazing brown ale. This is one of the tops in the category for me. Aging it was a good idea.\\n\\nMouthfeel: Smooth, creamy, and simply wonderful. Medium to full bodied with a medium amount of carbonation. Hardly any heat with this beer which is great. Only downfall is that it ends fairly dry.\\n\\nOverall, this beer is great. Tons of flavor. This is a new favorite of mine. I will definitely be getting more to cellar. Pretty drinkable and a fine taste to it. I highly recommend.\\xa0',\n",
       " '25': 'A: Pours an opaque jet black in color. The beer has a finger tall tan head that reduces to a large patch of thin film covering the majority of the surface of the beer and a thin ring at the edges of the glass. Light to moderate lacing is observed.\\n\\nS: There are light aromas of roasted malts but the dominant aroma for this beer is from the wood it was aged in. Light vanilla notes as well. Alcohol can be detected.\\n\\nT: There is a nice complexity to the flavors of this beer with some light amounts caramel sweetness, vanilla, bittersweet chocolate, raisin, coffee, and possibly rum. But the dominant flavor is from the wood that it was aged in.\\n\\nM: Medium to full bodied with moderate amounts of carbonation. Smooth with alcohol warming in the finish and some light amounts of dryness.\\n\\nO: This beer is pretty easy to drink but you would be better off sipping it - you can more greatly appreciate the subtly of the flavors and the high ABV will really sneak up on you otherwise. There is some light alcohol hints but not nearly as much as you might expect from this strong a beer. Not sessionable.\\xa0',\n",
       " '26': \" abv on the label. After a few weeks in the fridge I finally got around to it and opened it up the same , without a care. I was quite surprised (and excited) to see a rich, very brown stream pouring into my glass. Ruby highlights could been seen through the stream, but when it hit the glass it turned black. A creamy head of dark tan rose up above it. I couldn't help but take a sip before finishing the pour. It was dark, rich, and slightly fruity and slightly nutty. I checked it for clarity... well that was out, I couldn't see through it. The dark ruby highlight at the base of the glass was nice though. \\n\\nOn to the nose. I sniffed it, and then I sniffed it again. Definite dark malts, and some dark malt acidity, kind of like you get in black coffee - not the coffee smell, but something else that to me says acidity. Maybe I just mean a roasted edge. Fruitiness. It's kind of undefineable, but fruitiness is there... melon rind, perhaps some strawberry. There's a little bit of alcohol to it, and that sometimes suggests fruit. I had to sniff again. Some mild caramel.... but kind of almost scorched and crispy caramel. Burnt sugar I guess. A touch of vegetation.... like fresh cut sapling. Maybe the 'sap' smell was what I was picking up as 'acidic'. Chlorofil-like? Yeah, I think to a certain extent. But what about wood? Now that I know it's aged in wood, did I smell any? Yes, I think so, but just a touch. Of course maybe it's a fruity kind of wood? Maybe what I was smelling smells exactly like Palo Santo? I don't know.\\n\\nIn the mouth it was smooth, richly medium in body, with the silky feel of alcohol infused malt. A very fine-bubbled moderate carbonation helped it acquire a velvet creaminess.\\n\\nThe flavor was rich, and somewhat bold, but not really complex. It offered some moderate fruitiness, and distinct alcohol. There was no direct chocolate, but it ricocheted about here and there until some fudge actually appeared in the finish. Then there was some nuttiness, and a wash of alcohol to boot. The chocolate echoed. Deep cocoa. Real milk chocolate. But it was also fruit tinged as that never really left the palate. Nutiness, and the bitterness of brazil nut skins appeared. I hadn't really thought of the bitterness... up until that point it was just about the maltiness and fruitiness. I guess that's because the bitterness is kept restrained. There's enough alcohol available to dry it in the finish that a solid bitterness isn't needed. And such a dark beer has cutting acidity as well. So - nicely balanced overall. And the hops that are there seem to be covered over, but mainly leafy and grassy, and perhaps a touch spicy (although I think that's the alcohol making itself known).\\n\\nInteresting? Yes. Enjoyable? Yes. Remarkable? No. I'd much rather have an ImmortAle or World Wide Stout for the price.\\xa0\",\n",
       " '27': 'On tap in Greenville, SC. \\nOpaque dark brown body with a decent beige head.\\nA generous amount of dark roasted grains helps this achieve partially hidden alcohol.\\nAlcohol is obvious, but not quite harsh, in the feel, and the flavor is more than a touch boozy: just enough to hur my ratings on both dimensions.\\xa0',\n",
       " '28': 'Had on tap at Dive Bar in Worcester.\\n\\nBig rich creamy head fades slowly with nice thick lacing dark mahogany molases brown color.\\n\\nNose of lots of dark malts almost like an old ale, plenty of crystal, little roast, brown sugar and molasses but all wit re gentle aged malt aroma. Also some light oak aromas, the unique Palo Santo wood.\\n\\nTastes is fairly sweet with lots of malts again, some creamy even, brown sugar and light molasses, toffee, slight chewy malts and little roast. Again the subtle gentle aged malt flavor. Very light warming booze. Some light bitterness and very mild grassy hop character. Again the unique oak flavor with some interesting nutty qualities as well. Finishes creamy and little drier but mildly sweet with lingering malts and oak and a bit of bitterness.\\n\\nMouth is fairly full bodied with a creamy texture and good carbonation.\\n\\nDrinkability is pretty good for 12% abv as it drinks like 7% and some mild light sticky finish but mostly clean and bit of lingering hops.\\xa0',\n",
       " '29': \"Poured from a 12oz bottle into a US tumbler pint glass.\\n\\nA: The beer is a deep dark brown color, with a very thin light brown head that fades quickly and leaves a thick lace on the glass.\\n\\nS: The aroma is of roasted malts, vanilla, caramel, milk chocolate, a touch of dark fruit and a touch of hops.\\n\\nT: The taste is very smoky up front with sweet flavors of caramel, vanilla and chocolate. There's a hearty stout-like malt character and a mild but complimentary hops presence. The high 12.00% ABV is well-disguised. The after-taste is slightly sweet.\\n\\nM: Crisp and smooth, medium-to-heavy body, medium carbonation, slightly sticky finish.\\n\\nD: Tasty, goes down dangerously easily, not too filling, very strong kick, good representation of style while leaning toward being a stout. This is a nice high-powered beer to drink for a while if you're looking for something different.\\xa0\",\n",
       " '3': \"Pours an opaque super dark brown (almost black really) with a foamy dark khaki head that settles to an oily film on top of the beer. Small streaks of lace form around the glass on the drink down. Smell is of roasted malt, caramel, vanilla, slight soy sauce, wood, and alcohol. Taste is much the same with an alcohol kick and a mild roasty bitterness on the palate with each sip. This beer has a lower level of carbonation with a slightly crisp and medium bodied mouthfeel. Overall, this is a good beer that has some nice flavors and aromas but it's quite strong and definitely something you have to take your time with.\\xa0\",\n",
       " '30': 'Poured into a standard pint glass a deep chocolate brown with just a little light showing through a quick to form quick to fade brown head atop.Alot of stuff going on in the nose deep wood and vanilla mixed with dark fruit and chocolate just really appetizing.This brew went down very easy for such a high abv I thought it would be more of a sipping brew (wich it could be)but it glided down quite easily,flavors of dark fruit, chocolate, vanilla-like nuget and caramel mixed with slight wood this would be a fine dessert brew.A great beer almost like a port flavor wise,ejoyable.\\xa0',\n",
       " '31': \"A - This one comes out of the bottle topped by a one finger thick layer of medium brown foam that settles slowly and leaves nice lace. The body is dark brown with just a hint of light showing through.\\n\\nS - Aromas of vanilla, sandalwood, clove, and raisins. Significant malt presence with chocolate and caramel notes.\\n\\nT - Big raisiny malt note up front which transitions into chocolate and banana esters. Subtle hop flavors come out in the middle along with more raisins and and chocolate as well as a bit of alcohol. The finish is spicy, woody and smokey with lingering malt bitterness.\\n\\nM - Smooth, almost oily, mouthfeel with moderate carbonation and a chalky, dry finish.\\n\\nD - Reasonably drinkable for such a strong beer, though the flavors are quite heavy and I certainly do not feel like opening another bottle tonight. It is quite complex and well worth trying; one of Dogfish Head's more successful experiments.\\xa0\",\n",
       " '32': 'A: Very, very dark with a medium brown colored head.\\n\\nS: Lots going on here. Chocolate comes out as well as a lot of dark malts and their adjoining sweetness. The vanilla-type flavors from the wood definitely come in.\\n\\nT: Similar to the smell, with hints of some dark fruits coming in here. Very, very complex and interesting. \\n\\nM: Very full-bodied and creamy.\\n\\nD: Definitely one to sip. Glad Sam sort of went crazy with this one--it really worked out.\\xa0',\n",
       " '33': \"A - Dark for a brown ale, almost porter-like. Midnight black with a light khaki head. Low retention and moderate lace.\\n\\nS - Woody cranberry booze, peach, and dark caramel malt.\\n\\nT - Loaded for a brown ale; drinks like a boozy porter. Complex profile of burnt coffee, bright tangy woody, vanilla, caramel, cranberries, and hot booze.\\n\\nM - Nice medium body. Low carbonation.\\n\\nO - The alcohol lets you know it's there, but you still might not think it's 12% abv.\\xa0\",\n",
       " '4': ' all the way. would love to get my hands on some more of this one!!!\\n\\nedit: drank a 2009 edition last night, almost 6 years old. wow, its maybe only a touch oxidized, but mellow and mature like no other, almost like a liqueur. thats maybe a little too long in the cellar, but this one ages with the best of them. be in no hurry to drink this!!!\\xa0',\n",
       " '5': \"Very dark brown/black with a nice tan head.\\n\\nAssertive smell of sweet bitter chocolate malt that actually reminded me of Whopper candy! (I like Whopper candy so this is a good thing). \\n\\nTaste and flavors are of pure chocolate with a very nice mouthfeel, almost like a cold melted chocolate in your mouth with nice texture, hints of carmel and vanilla flavors with a rich chocolate malty finish. \\n\\nVery appealing on many levels and very nice. This is a great one to try with some age on it for perhaps some really wonderful nuances. I'll keep coming back for more!\\xa0\",\n",
       " '6': \"I had this beer for the first time at the brewery on tap after the tour several years ago. I remember is being a huge beer, I remember being unsure of whether I liked it a lot or not. Just recently I had it from a bottle be aide I wanted to try it again.\\n\\nI gave it a pour, comes out as a really thick dark brown color with a thinner light brown head on top. The smell of the beer is full of wood that this beer is aged on. The aroma is also kind of sweet smelling and rich with brown sugar I think. The taste of the beer is a big, it's got some of the biggest flavors I've ever had from a brown ale. There is the wood flavors, some dark fruits and a touch of coffee in there. The mouthfeel is nice and thick, decent carbonation and oily. Overall this beer is really nice, if you like strong ales this one is impressive.\\xa0\",\n",
       " '7': \"Pours a nice dark brown, almost black color with a thin tannish head. Smell is of vanilla and some slight alcohol can be sensed. Very unusual taste.. bit very good taste as well. Some brown sugar and more vanilla, slight alcohol taste can be tasted but it is quickly subdued by the sweetness of the malt. Nice mouthfeel to it and good finish. You can really feel it warming you up, as it's about 3 x the strength of the average beer. I've been dying to try this beer and a long day of shoveling seemed to be a good opportunity to enjoy one. A great sipper beer that is an enjoyable 12 oz experience.. a little pricey tho ($12-13 a 4 pack)\\xa0\",\n",
       " '8': 'Had this on tap at Toronado SF on saturday. \\n\\nWas a little confused at first because I could smell the wood in the beer and the first couple of sips made me think of the stone 11th anniversary. So I almost thought it might be the blended IPA beer that they make with a little roastiness thrown in. \\n\\nIt poured brown/black, murky with a tan head. Good lacing. Smell is woody and caramelly. Taste is roasty, bitter, and brown. Also some moderate alcohol presence but I had no idea it was 12% when I had it. The body was both good and bad so I gave it a 3. The body was real thick and oily but it was very smooth and consistent. Drinkable as a nice sipping drink for sure but not any faster than 45 minutes for the 8 oz pour that I had.\\xa0',\n",
       " '9': 'A: The beer is jet black and poured with a finger high tan head that quickly died down into a thin layer of bubbles. A moderate amount of carbonation is visible.\\nS: The aroma is very intense, especially as the beer begins to warm up, and smells from the barrel aging stand out in particular. There are some hints of alcohol.\\nT: Like the smell, the flavors from the barrel aging really dominate the taste, which is complex and also has hints of bittersweet chocolate, raisins, roasted coffee and rum.\\nM: It feels medium-bodied on the palate and is both smooth and viscous. Not much carbonation is perceptible. There is warming from the alcohol in the finish, which also has some dryness.\\nD: This beer definitely needs to be sipped because it has an intense flavor and the alcohol will quickly catch up to you (the alcohol is noticeable but fairly well masked from the taste).\\xa0',\n",
       " 'ABV': '12.00',\n",
       " 'Beer_Name': 'Palo Santo Marron',\n",
       " 'Brewery_Name': 'Dogfish Head Craft Brewery',\n",
       " 'Type': 'American Brown Ale',\n",
       " '_id': ObjectId('5a629bad79e18b002c0bb9aa')}"
      ]
     },
     "execution_count": 39,
     "metadata": {},
     "output_type": "execute_result"
    }
   ],
   "source": [
    "# see if this shit works.\n",
    "Beers['Beer_final'].find_one({'Beer_Name':'Palo Santo Marron'})"
   ]
  },
  {
   "cell_type": "code",
   "execution_count": 67,
   "metadata": {
    "collapsed": true
   },
   "outputs": [
    {
     "name": "stdout",
     "output_type": "stream",
     "text": [
      "{'_id': ObjectId('5a629bad79e18b002c0bb9aa'), '1': '. Roastiness also there and well constrained. Six months later, room temperature, more chocolate, thick and woody.\\xa0', '2': 'A: two finger milk chocolate head on a jet black body which poured out like oil.\\n\\nS: vanilla, caramel, toffee, butter, earthy hops and wood all prevail with a boozy undertone.\\n\\nT: I was expecting the worst but this one was as boozy as I was expecting from the 12% ABV. Starts with vanilla and caramel moving to wood then a chocolate and roasted malt finish with dryness provided by mildly bitter coffee. \\n\\nM: thick and oily with moderate carbonation.\\n\\nOverall: the booze are well hidden. This one is actually well balanced. I think the wood cleans this one up and smooths it up.\\xa0', '3': \"Pours an opaque super dark brown (almost black really) with a foamy dark khaki head that settles to an oily film on top of the beer. Small streaks of lace form around the glass on the drink down. Smell is of roasted malt, caramel, vanilla, slight soy sauce, wood, and alcohol. Taste is much the same with an alcohol kick and a mild roasty bitterness on the palate with each sip. This beer has a lower level of carbonation with a slightly crisp and medium bodied mouthfeel. Overall, this is a good beer that has some nice flavors and aromas but it's quite strong and definitely something you have to take your time with.\\xa0\", '4': ' all the way. would love to get my hands on some more of this one!!!\\n\\nedit: drank a 2009 edition last night, almost 6 years old. wow, its maybe only a touch oxidized, but mellow and mature like no other, almost like a liqueur. thats maybe a little too long in the cellar, but this one ages with the best of them. be in no hurry to drink this!!!\\xa0', '5': \"Very dark brown/black with a nice tan head.\\n\\nAssertive smell of sweet bitter chocolate malt that actually reminded me of Whopper candy! (I like Whopper candy so this is a good thing). \\n\\nTaste and flavors are of pure chocolate with a very nice mouthfeel, almost like a cold melted chocolate in your mouth with nice texture, hints of carmel and vanilla flavors with a rich chocolate malty finish. \\n\\nVery appealing on many levels and very nice. This is a great one to try with some age on it for perhaps some really wonderful nuances. I'll keep coming back for more!\\xa0\", '6': \"I had this beer for the first time at the brewery on tap after the tour several years ago. I remember is being a huge beer, I remember being unsure of whether I liked it a lot or not. Just recently I had it from a bottle be aide I wanted to try it again.\\n\\nI gave it a pour, comes out as a really thick dark brown color with a thinner light brown head on top. The smell of the beer is full of wood that this beer is aged on. The aroma is also kind of sweet smelling and rich with brown sugar I think. The taste of the beer is a big, it's got some of the biggest flavors I've ever had from a brown ale. There is the wood flavors, some dark fruits and a touch of coffee in there. The mouthfeel is nice and thick, decent carbonation and oily. Overall this beer is really nice, if you like strong ales this one is impressive.\\xa0\", '7': \"Pours a nice dark brown, almost black color with a thin tannish head. Smell is of vanilla and some slight alcohol can be sensed. Very unusual taste.. bit very good taste as well. Some brown sugar and more vanilla, slight alcohol taste can be tasted but it is quickly subdued by the sweetness of the malt. Nice mouthfeel to it and good finish. You can really feel it warming you up, as it's about 3 x the strength of the average beer. I've been dying to try this beer and a long day of shoveling seemed to be a good opportunity to enjoy one. A great sipper beer that is an enjoyable 12 oz experience.. a little pricey tho ($12-13 a 4 pack)\\xa0\", '8': 'Had this on tap at Toronado SF on saturday. \\n\\nWas a little confused at first because I could smell the wood in the beer and the first couple of sips made me think of the stone 11th anniversary. So I almost thought it might be the blended IPA beer that they make with a little roastiness thrown in. \\n\\nIt poured brown/black, murky with a tan head. Good lacing. Smell is woody and caramelly. Taste is roasty, bitter, and brown. Also some moderate alcohol presence but I had no idea it was 12% when I had it. The body was both good and bad so I gave it a 3. The body was real thick and oily but it was very smooth and consistent. Drinkable as a nice sipping drink for sure but not any faster than 45 minutes for the 8 oz pour that I had.\\xa0', '9': 'A: The beer is jet black and poured with a finger high tan head that quickly died down into a thin layer of bubbles. A moderate amount of carbonation is visible.\\nS: The aroma is very intense, especially as the beer begins to warm up, and smells from the barrel aging stand out in particular. There are some hints of alcohol.\\nT: Like the smell, the flavors from the barrel aging really dominate the taste, which is complex and also has hints of bittersweet chocolate, raisins, roasted coffee and rum.\\nM: It feels medium-bodied on the palate and is both smooth and viscous. Not much carbonation is perceptible. There is warming from the alcohol in the finish, which also has some dryness.\\nD: This beer definitely needs to be sipped because it has an intense flavor and the alcohol will quickly catch up to you (the alcohol is noticeable but fairly well masked from the taste).\\xa0', '10': 'Both my girlfriend, and a good friend of mine, sent that article about DFH from the New Yorker to me. Of course I had already read it via BeerAdvocate, but appreciated the gestures nonetheless. So when I saw this on the shelf in downtown Vancouver last month, I procured a bottle for each of them (to share with me, of course). The first one vanished none too slowly, so I had better write this one down...\\n\\nThis beer pours a deep, dark black, with reddish tints, and a single finger of tan head, that disappears readily. The smell is prunes, dates, and an intense wood essence, that I admit I cannot identify (beyond the description on the label). The taste is floral hops, heavy black fruit, caramel, vanilla, and an acrid woodiness, again hard to describe. The carbonation is quite low, and the finish carries on the heavy woody sweetness. The body is very thick and viscous, with obvious alcohol warming. It sticks to the palate, making this a slow, if exotically tasty tipple.\\xa0', '11': \"I've never had a 4-pack to come wiht a CD before. I thought I was getting a deal with Left Hand 6-packs with the free sticker. Our homebrew club recently brewed an Imperial Brown and aged it in a Four Roses Bourbon Barrel for the '08 NHC. Interesting to compare the differences. This beer surely qualifies for a Double Brown without loosing any balance, falling into Porter or Stout territory. A nice chocolaty, nutty flavor with a hearty helping of malt, sweetness, and berry-like esters. Good hopping rates give the beer a grassy, piney flavor while offsetting the heavy sweetness. The wood gives a well-roundness to the flavors, but don't give a whole lot of wood flavor or astringency. Quite delicate in it's balance, despite a dominant alcohol (ethanol)taste and slightly harsh textures, but does thin the weighted brew a bit. Surprised to see a fizzy head formation that didn't last any time at all, nor did the carbination -- strange for DFH.\\xa0\", '12': \"Another Dogfish head beer. Hmm. 12 fl oz brown glass bottle with botled on date 02/02/2011B. What does the B mean? I don't know. Served into a De Molen beer stemflute in low altitude Los Angeles, California. Reviewed live. I don't know what to expect, but when I think of a brown think nuts. Wood aging isn't anywhere near what I'd expect, and I'm hoping it'll blow me away. Served slightly warmer than refrigerator cold. \\n\\nA: Pours a 1.5 finger head of rich light tan colour, good cream, great thickness, and very impressive retention - especially considering the 12.00% ABV. Wow. Colour is a solid black (NOT brown). I'm impressed so far, and excited to try it. \\n\\nSm: A moderately strong aroma of cream, wood, nuts, birch, vanilla, caramel, and a hint of alcohol. I wouldn't call it subtle, nor is it particularly inviting. No yeast comes through. \\n\\nT: The wood comes through, but only on the finish. The warm alcohol is well-restrained and hidden, hardly coming through at all. I get vanilla, light caramel, very buried roasted barley (why this is buried is beyond me), and nuts - but only on the climax. It isn't subtle, but instead feels muted; I find myself straining to taste each note because the holistic flavour doesn't have all that much to offer. I mean it's good, and it's balanced, but it just doesn't bring the depth or boldness I'd expect from a 12% beer. This may be the least flavorful high ABV beer I've had in the last three months. \\n\\nMf: Smooth and wet, suiting the flavours and general tone of the beer. Not too thick nor too thin. Actually surprisingly well done. \\n\\nDr: Extremely drinkable for the ABV, but where is the flavour? Hit us with the taste if you believe it's a good one! I like this, but I wouldn't have it again because it's kind of a panzy when it comes to delivering on the promise of the aroma. Shame on you Dogfish Head! \\n\\nB-\\xa0\", '13': 'Bottle from the first release, found in the back of the fridge. \\nLess than a finger of head when poured into a Duchesse goblet. Tan foam that recedes slowly, and leaves a ring. Lactic aroma with some banana ester from the yeast, and slightly roasty. Reminds me of a Bells stout. Rich, creamy feel, earthy roast and lactic taste. Not getting much of the advertised wood-aging. Abv is well disguised. Similar to Bells Kalamazoo Stout or Double Cream. Good, but not worth paying a premium for.\\xa0', '14': \"Poured from a bottle into my Chimay goblet. This bottle has been in my cellar for a year.\\n\\nAppearance: Pours almost black with some red at the edges where the light comes through. There is a half finger of tan head that fades quickly.\\n\\nSmell: Sweet, which isn't surprising. Dark fruit and brown sugar notes. Mild roast and a hint of wood. Some alcohol as well.\\n\\nTaste: Extremely smooth given the abv. Not very sweet, but there are hints of dark fruit and chocolate. The palo santo wood adds some complexity. The finish is still a bit hot even with a year on it.\\n\\nMouthfeel: The body is on the thick side of medium body. The carbonation is fluffy and smooth. The finish is mildly slick.\\n\\nOverall: The fact that this isn't overly sweet really surprised me. I thought it was complex and very interesting. The year of aging was good for this beer, but it is still a bit hot.\\xa0\", '15': \"Appearance: Looks almost like a RIS, although the color might be a tone or two lighter as ruby highlights clearly burst through; the head fades quickly to an espresso cap and leaves a few dots and dashes of lace around the glass\\n\\nSmell: Complex aromas from a variety of sources, including dark fruit, fusel alcohol, molasses and chocolate and, of course, a heavy dose of smokey wood esters\\n\\nTaste: Opens with a rich black bread and caramel/vanilla flavor that moves in a dark fruit and smokey, woody direction by mid-palate, with a bit a black currant jam providing additional sweetness; after the swallow, the chocolate and coffee flavors enter and provide a roasty bitterness that counters the sweet flavors that dominated earlier in the taste profile; the smokey wood sticks around long after the finish\\n\\nMouthfeel: Full bodied with moderate carbonation; clearly some warmth from the high abv as well\\n\\nDrinkability: I love Dogfish Head's experimental efforts and this beer is among the best they have released, if not the best\\xa0\", 'Beer_Name': 'Palo Santo Marron', 'Brewery_Name': 'Dogfish Head Craft Brewery', 'ABV': '12.00', 'Type': 'American Brown Ale', '20': \"A - Poured out a dark, reddish brown color with a thick, foamy, tan head that left soapy trails of lace.\\n\\nS - It smelled of oak, vanilla and rich, sweet, caramel malt.\\n\\nT - It has an incredibly sweet maltiness with underlying hints of vanilla. Also, a whiskey-like flavor.\\n\\nM - It was crisp, yet soft as it warmed. A medium-bodied beer.\\n\\nD - Despite the high ABV, this is a fairly easy-drinking beer. One of the more unique brown ales that I've ever had.\\xa0\", '21': 'Bottle courtesy of Jay23: Poured a pitch-black color ale with a large brown foamy head with good retention and some nice lacing. Aroma of vanilla and oak is pretty pleasant with some light roasted malt notes. Taste is a mix between some roasted malt notes with a mix of vanilla and oak and some creamy lactose notes. Full creamy body is really enjoyable with some great carbonation and no apparent alcohol. Very well done and probably one of the best new seasonal from Dogfish.\\xa0', '22': '12 ounce bottle into signature tulip glass, bottled on 10/22/2012. Pours almost pitch black color with a small foamy dark tan head with good retention, that reduces to a thin cap that lingers. Light spotty lacing clings on the glass, with a good amount of streaming carbonation retaining the small head. Aromas of big caramel, brown sugar, molasses, raisin, fig, toast, dark bread, roasted malt, light char, wood, light vanilla, and roasted earthiness. Damn nice aromas with good balance and complexity of malt and wood aging notes. Taste of big raisin, fig, molasses, brown sugar, caramel, toast, dark bread, wood, roasted malt, light char, light vanilla, and roasted earthiness. Lingering notes of dark fruits, molasses, brown sugar, toast, dark bread, wood, roasted malt, and roasted earthiness on the finish for a while. Damn nice balance and complexity of very robust dark malt flavors with fruitiness; and hardly any cloying flavors present after the finish. Medium carbonation and full bodied; with a very creamy, slick, and thick mouthfeel that is nice. Alcohol is well hidden with only a small warming noticed after the finish. Overall this is an excellent imperial brown ale. Very nice complexity and balance of flavors; and quite smooth to sip on. A very enjoyable offering.\\xa0', '23': \"Appearance - Nearly opaque dark brown with a creamy cap of coffee-colored foam.\\n\\nSmell - Molasses, vanilla, maple syrup. Slightly burnt toast. Sweet without being cloying.\\n\\nTaste & mouthfeel - Rich roasty malt, vanilla, cinnamon and chocolate. The mouthfeel is chewy, almost like a liquid molasses cookie. Quite a bit of subtle complexity; I've had this a couple of times now and I'm still not entirely sure how to describe it. A nice toasty bitterness in the finish balances the initial sweetness. This is a true imperial brown - it retains the character of a brown ale without ever dipping into stout territory. Remarkably drinkable for 12%. A solid DFH offering.\\xa0\", '24': ' abv american brown ale :) This beer has a year or two of age on it.\\n\\nPoured into Bud American Ale glass\\n\\nPours 1/2 finger of mocha tan head. Fades to a thin olater and leaves some slight splattered lace. Color is black, not brown haha. \\n\\nAroma: Huge malt aroma. Lots of oak, vanilla, and caramel. Some raisins and cherries. Damn, this is smelling fine. Very complex.\\n\\nTaste: This hardly tastes like a brown ale. Lots of oak and vanilla. Some caramel and dark fruits. An amazing brown ale. This is one of the tops in the category for me. Aging it was a good idea.\\n\\nMouthfeel: Smooth, creamy, and simply wonderful. Medium to full bodied with a medium amount of carbonation. Hardly any heat with this beer which is great. Only downfall is that it ends fairly dry.\\n\\nOverall, this beer is great. Tons of flavor. This is a new favorite of mine. I will definitely be getting more to cellar. Pretty drinkable and a fine taste to it. I highly recommend.\\xa0', '25': 'A: Pours an opaque jet black in color. The beer has a finger tall tan head that reduces to a large patch of thin film covering the majority of the surface of the beer and a thin ring at the edges of the glass. Light to moderate lacing is observed.\\n\\nS: There are light aromas of roasted malts but the dominant aroma for this beer is from the wood it was aged in. Light vanilla notes as well. Alcohol can be detected.\\n\\nT: There is a nice complexity to the flavors of this beer with some light amounts caramel sweetness, vanilla, bittersweet chocolate, raisin, coffee, and possibly rum. But the dominant flavor is from the wood that it was aged in.\\n\\nM: Medium to full bodied with moderate amounts of carbonation. Smooth with alcohol warming in the finish and some light amounts of dryness.\\n\\nO: This beer is pretty easy to drink but you would be better off sipping it - you can more greatly appreciate the subtly of the flavors and the high ABV will really sneak up on you otherwise. There is some light alcohol hints but not nearly as much as you might expect from this strong a beer. Not sessionable.\\xa0', '26': \" abv on the label. After a few weeks in the fridge I finally got around to it and opened it up the same , without a care. I was quite surprised (and excited) to see a rich, very brown stream pouring into my glass. Ruby highlights could been seen through the stream, but when it hit the glass it turned black. A creamy head of dark tan rose up above it. I couldn't help but take a sip before finishing the pour. It was dark, rich, and slightly fruity and slightly nutty. I checked it for clarity... well that was out, I couldn't see through it. The dark ruby highlight at the base of the glass was nice though. \\n\\nOn to the nose. I sniffed it, and then I sniffed it again. Definite dark malts, and some dark malt acidity, kind of like you get in black coffee - not the coffee smell, but something else that to me says acidity. Maybe I just mean a roasted edge. Fruitiness. It's kind of undefineable, but fruitiness is there... melon rind, perhaps some strawberry. There's a little bit of alcohol to it, and that sometimes suggests fruit. I had to sniff again. Some mild caramel.... but kind of almost scorched and crispy caramel. Burnt sugar I guess. A touch of vegetation.... like fresh cut sapling. Maybe the 'sap' smell was what I was picking up as 'acidic'. Chlorofil-like? Yeah, I think to a certain extent. But what about wood? Now that I know it's aged in wood, did I smell any? Yes, I think so, but just a touch. Of course maybe it's a fruity kind of wood? Maybe what I was smelling smells exactly like Palo Santo? I don't know.\\n\\nIn the mouth it was smooth, richly medium in body, with the silky feel of alcohol infused malt. A very fine-bubbled moderate carbonation helped it acquire a velvet creaminess.\\n\\nThe flavor was rich, and somewhat bold, but not really complex. It offered some moderate fruitiness, and distinct alcohol. There was no direct chocolate, but it ricocheted about here and there until some fudge actually appeared in the finish. Then there was some nuttiness, and a wash of alcohol to boot. The chocolate echoed. Deep cocoa. Real milk chocolate. But it was also fruit tinged as that never really left the palate. Nutiness, and the bitterness of brazil nut skins appeared. I hadn't really thought of the bitterness... up until that point it was just about the maltiness and fruitiness. I guess that's because the bitterness is kept restrained. There's enough alcohol available to dry it in the finish that a solid bitterness isn't needed. And such a dark beer has cutting acidity as well. So - nicely balanced overall. And the hops that are there seem to be covered over, but mainly leafy and grassy, and perhaps a touch spicy (although I think that's the alcohol making itself known).\\n\\nInteresting? Yes. Enjoyable? Yes. Remarkable? No. I'd much rather have an ImmortAle or World Wide Stout for the price.\\xa0\", '27': 'On tap in Greenville, SC. \\nOpaque dark brown body with a decent beige head.\\nA generous amount of dark roasted grains helps this achieve partially hidden alcohol.\\nAlcohol is obvious, but not quite harsh, in the feel, and the flavor is more than a touch boozy: just enough to hur my ratings on both dimensions.\\xa0', '28': 'Had on tap at Dive Bar in Worcester.\\n\\nBig rich creamy head fades slowly with nice thick lacing dark mahogany molases brown color.\\n\\nNose of lots of dark malts almost like an old ale, plenty of crystal, little roast, brown sugar and molasses but all wit re gentle aged malt aroma. Also some light oak aromas, the unique Palo Santo wood.\\n\\nTastes is fairly sweet with lots of malts again, some creamy even, brown sugar and light molasses, toffee, slight chewy malts and little roast. Again the subtle gentle aged malt flavor. Very light warming booze. Some light bitterness and very mild grassy hop character. Again the unique oak flavor with some interesting nutty qualities as well. Finishes creamy and little drier but mildly sweet with lingering malts and oak and a bit of bitterness.\\n\\nMouth is fairly full bodied with a creamy texture and good carbonation.\\n\\nDrinkability is pretty good for 12% abv as it drinks like 7% and some mild light sticky finish but mostly clean and bit of lingering hops.\\xa0', '29': \"Poured from a 12oz bottle into a US tumbler pint glass.\\n\\nA: The beer is a deep dark brown color, with a very thin light brown head that fades quickly and leaves a thick lace on the glass.\\n\\nS: The aroma is of roasted malts, vanilla, caramel, milk chocolate, a touch of dark fruit and a touch of hops.\\n\\nT: The taste is very smoky up front with sweet flavors of caramel, vanilla and chocolate. There's a hearty stout-like malt character and a mild but complimentary hops presence. The high 12.00% ABV is well-disguised. The after-taste is slightly sweet.\\n\\nM: Crisp and smooth, medium-to-heavy body, medium carbonation, slightly sticky finish.\\n\\nD: Tasty, goes down dangerously easily, not too filling, very strong kick, good representation of style while leaning toward being a stout. This is a nice high-powered beer to drink for a while if you're looking for something different.\\xa0\", '30': 'Poured into a standard pint glass a deep chocolate brown with just a little light showing through a quick to form quick to fade brown head atop.Alot of stuff going on in the nose deep wood and vanilla mixed with dark fruit and chocolate just really appetizing.This brew went down very easy for such a high abv I thought it would be more of a sipping brew (wich it could be)but it glided down quite easily,flavors of dark fruit, chocolate, vanilla-like nuget and caramel mixed with slight wood this would be a fine dessert brew.A great beer almost like a port flavor wise,ejoyable.\\xa0', '31': \"A - This one comes out of the bottle topped by a one finger thick layer of medium brown foam that settles slowly and leaves nice lace. The body is dark brown with just a hint of light showing through.\\n\\nS - Aromas of vanilla, sandalwood, clove, and raisins. Significant malt presence with chocolate and caramel notes.\\n\\nT - Big raisiny malt note up front which transitions into chocolate and banana esters. Subtle hop flavors come out in the middle along with more raisins and and chocolate as well as a bit of alcohol. The finish is spicy, woody and smokey with lingering malt bitterness.\\n\\nM - Smooth, almost oily, mouthfeel with moderate carbonation and a chalky, dry finish.\\n\\nD - Reasonably drinkable for such a strong beer, though the flavors are quite heavy and I certainly do not feel like opening another bottle tonight. It is quite complex and well worth trying; one of Dogfish Head's more successful experiments.\\xa0\", '32': 'A: Very, very dark with a medium brown colored head.\\n\\nS: Lots going on here. Chocolate comes out as well as a lot of dark malts and their adjoining sweetness. The vanilla-type flavors from the wood definitely come in.\\n\\nT: Similar to the smell, with hints of some dark fruits coming in here. Very, very complex and interesting. \\n\\nM: Very full-bodied and creamy.\\n\\nD: Definitely one to sip. Glad Sam sort of went crazy with this one--it really worked out.\\xa0', '33': \"A - Dark for a brown ale, almost porter-like. Midnight black with a light khaki head. Low retention and moderate lace.\\n\\nS - Woody cranberry booze, peach, and dark caramel malt.\\n\\nT - Loaded for a brown ale; drinks like a boozy porter. Complex profile of burnt coffee, bright tangy woody, vanilla, caramel, cranberries, and hot booze.\\n\\nM - Nice medium body. Low carbonation.\\n\\nO - The alcohol lets you know it's there, but you still might not think it's 12% abv.\\xa0\"}\n"
     ]
    },
    {
     "ename": "TypeError",
     "evalue": "'NoneType' object is not iterable",
     "output_type": "error",
     "traceback": [
      "\u001b[0;31m---------------------------------------------------------------------------\u001b[0m",
      "\u001b[0;31mTypeError\u001b[0m                                 Traceback (most recent call last)",
      "\u001b[0;32m<ipython-input-67-4a4bac2d976a>\u001b[0m in \u001b[0;36m<module>\u001b[0;34m()\u001b[0m\n\u001b[1;32m      3\u001b[0m     \u001b[0mCB\u001b[0m \u001b[0;34m=\u001b[0m \u001b[0mBeers\u001b[0m\u001b[0;34m[\u001b[0m\u001b[0;34m'Beer_final'\u001b[0m\u001b[0;34m]\u001b[0m\u001b[0;34m.\u001b[0m\u001b[0mfind_one\u001b[0m\u001b[0;34m(\u001b[0m\u001b[0;34m{\u001b[0m\u001b[0;34m'Beer_Name'\u001b[0m\u001b[0;34m:\u001b[0m\u001b[0mbeerio\u001b[0m\u001b[0;34m}\u001b[0m\u001b[0;34m)\u001b[0m\u001b[0;34m\u001b[0m\u001b[0m\n\u001b[1;32m      4\u001b[0m     \u001b[0;31m#dict(CB)\u001b[0m\u001b[0;34m\u001b[0m\u001b[0;34m\u001b[0m\u001b[0m\n\u001b[0;32m----> 5\u001b[0;31m     \u001b[0mprint\u001b[0m\u001b[0;34m(\u001b[0m\u001b[0mdict\u001b[0m\u001b[0;34m(\u001b[0m\u001b[0mCB\u001b[0m\u001b[0;34m)\u001b[0m\u001b[0;34m)\u001b[0m\u001b[0;34m\u001b[0m\u001b[0m\n\u001b[0m\u001b[1;32m      6\u001b[0m     \u001b[0;31m#Beers['Beers_Unique'].insert_one(CB)\u001b[0m\u001b[0;34m\u001b[0m\u001b[0;34m\u001b[0m\u001b[0m\n",
      "\u001b[0;31mTypeError\u001b[0m: 'NoneType' object is not iterable"
     ]
    },
    {
     "name": "stderr",
     "output_type": "stream",
     "text": [
      "Traceback (most recent call last):\n",
      "  File \"/opt/conda/lib/python3.6/site-packages/pymongo/mongo_client.py\", line 1333, in _process_periodic_tasks\n",
      "    cursor_ids, address, topology, session=None)\n",
      "  File \"/opt/conda/lib/python3.6/site-packages/pymongo/mongo_client.py\", line 1263, in _kill_cursors\n",
      "    server = topology.select_server_by_address(tuple(address))\n",
      "  File \"/opt/conda/lib/python3.6/site-packages/pymongo/topology.py\", line 247, in select_server_by_address\n",
      "    address)\n",
      "  File \"/opt/conda/lib/python3.6/site-packages/pymongo/topology.py\", line 224, in select_server\n",
      "    address))\n",
      "  File \"/opt/conda/lib/python3.6/site-packages/pymongo/topology.py\", line 183, in select_servers\n",
      "    selector, server_timeout, address)\n",
      "  File \"/opt/conda/lib/python3.6/site-packages/pymongo/topology.py\", line 199, in _select_servers_loop\n",
      "    self._error_message(selector))\n",
      "pymongo.errors.ServerSelectionTimeoutError: 54.149.252.88:27016: timed out\n"
     ]
    }
   ],
   "source": [
    "# for loop, goes through all unique names\n",
    "for beerio in Beer_combos[1]:\n",
    "    CB = Beers['Beer_final'].find_one({'Beer_Name':beerio})\n",
    "    #dict(CB)\n",
    "    print(dict(CB))\n",
    "    #Beers['Beers_Unique'].insert_one(CB)"
   ]
  },
  {
   "cell_type": "markdown",
   "metadata": {},
   "source": [
    "## Converting PyMongo info to a dataframe.  "
   ]
  },
  {
   "cell_type": "code",
   "execution_count": 11,
   "metadata": {},
   "outputs": [
    {
     "data": {
      "text/plain": [
       "dict_keys(['_id', '1', '2', '3', '4', '5', '6', '7', '8', '9', '10', '11', '12', 'Beer_Name', 'Brewery_Name', 'ABV', 'Type', '17', '18', '19', '20', '21', '22', '23', '24', '25', '26', '27', '28', '29', '30', '31'])"
      ]
     },
     "execution_count": 11,
     "metadata": {},
     "output_type": "execute_result"
    }
   ],
   "source": [
    "from pymongo import MongoClient\n",
    "client = MongoClient('250.250.250.250',20000)\n",
    "\n",
    "# All the keys in the json shit\n",
    "Beers['Beer_final'].find_one({}).keys()"
   ]
  },
  {
   "cell_type": "code",
   "execution_count": 33,
   "metadata": {
    "collapsed": true
   },
   "outputs": [],
   "source": [
    "# creating a dataframe to test\n",
    "df = pd.DataFrame(data = None, columns  = Beers['Beer_final'].find_one({}).keys())\n",
    "df = df.append(Beers['Beer_final'].find_one({}), ignore_index =True)"
   ]
  },
  {
   "cell_type": "code",
   "execution_count": 34,
   "metadata": {},
   "outputs": [
    {
     "data": {
      "text/plain": [
       "(1, 32)"
      ]
     },
     "execution_count": 34,
     "metadata": {},
     "output_type": "execute_result"
    }
   ],
   "source": [
    "df.shape"
   ]
  },
  {
   "cell_type": "code",
   "execution_count": 17,
   "metadata": {},
   "outputs": [
    {
     "data": {
      "text/plain": [
       "0    Indian Brown Ale\n",
       "Name: Beer_Name, dtype: object"
      ]
     },
     "execution_count": 17,
     "metadata": {},
     "output_type": "execute_result"
    }
   ],
   "source": [
    "# verifying with the one tests that things went where it needed to go.\n",
    "df['Beer_Name']"
   ]
  },
  {
   "cell_type": "code",
   "execution_count": 22,
   "metadata": {
    "collapsed": true
   },
   "outputs": [],
   "source": [
    "# lets try adding another\n",
    "df = df.append(Beers['Beer_final'].find({})[1], ignore_index=True)"
   ]
  },
  {
   "cell_type": "code",
   "execution_count": 31,
   "metadata": {},
   "outputs": [
    {
     "data": {
      "text/plain": [
       "0                                                  NaN\n",
       "1    A: Very, very dark with a medium brown colored...\n",
       "Name: 32, dtype: object"
      ]
     },
     "execution_count": 31,
     "metadata": {},
     "output_type": "execute_result"
    }
   ],
   "source": [
    "df['32']"
   ]
  },
  {
   "cell_type": "code",
   "execution_count": 36,
   "metadata": {
    "collapsed": true
   },
   "outputs": [],
   "source": [
    "\n",
    "beer_df = pd.DataFrame(data = None, columns  = Beers['Beer_final'].find_one({}).keys())\n",
    "\n",
    "for beer in Beers['Beer_final'].find({}):\n",
    "    beer_df = beer_df.append(beer, ignore_index=True)"
   ]
  },
  {
   "cell_type": "code",
   "execution_count": 37,
   "metadata": {},
   "outputs": [
    {
     "data": {
      "text/plain": [
       "(10384, 53)"
      ]
     },
     "execution_count": 37,
     "metadata": {},
     "output_type": "execute_result"
    }
   ],
   "source": [
    "# check shape for removal of duplicates\n",
    "beer_df.shape"
   ]
  },
  {
   "cell_type": "code",
   "execution_count": 38,
   "metadata": {
    "collapsed": true
   },
   "outputs": [],
   "source": [
    "# save DB with removed entries\n",
    "beer_df.to_csv('Beers.csv', index = False, encoding = 'utf-8')"
   ]
  },
  {
   "cell_type": "code",
   "execution_count": null,
   "metadata": {
    "collapsed": true
   },
   "outputs": [],
   "source": []
  },
  {
   "cell_type": "code",
   "execution_count": null,
   "metadata": {
    "collapsed": true
   },
   "outputs": [],
   "source": []
  }
 ],
 "metadata": {
  "kernelspec": {
   "display_name": "Python 3",
   "language": "python",
   "name": "python3"
  },
  "language_info": {
   "codemirror_mode": {
    "name": "ipython",
    "version": 3
   },
   "file_extension": ".py",
   "mimetype": "text/x-python",
   "name": "python",
   "nbconvert_exporter": "python",
   "pygments_lexer": "ipython3",
   "version": "3.7.0"
  }
 },
 "nbformat": 4,
 "nbformat_minor": 2
}
