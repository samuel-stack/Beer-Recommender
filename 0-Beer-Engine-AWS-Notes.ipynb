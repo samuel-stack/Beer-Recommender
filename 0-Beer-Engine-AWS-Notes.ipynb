{
 "cells": [
  {
   "cell_type": "markdown",
   "metadata": {},
   "source": [
    "## Notes for AWS Mongo DB and Scrapers.\n",
    "\n",
    "**How to set-up & connect MongoDB and Jupyter Notebooks on AWS with Docker**"
   ]
  },
  {
   "cell_type": "markdown",
   "metadata": {},
   "source": [
    "1. Set up MongoDB instance\n",
    "2. Create about 5 - 6 t2 micros for scraping\n",
    "- Installing Docker Scipy image\n",
    "- Connect instances to MongoDB\n",
    "3. Scrape\n"
   ]
  },
  {
   "cell_type": "markdown",
   "metadata": {},
   "source": [
    "## Set up a MongoDB for Beer data\n",
    "\n",
    "- Created new Key\n",
    "- `chmod 400` on key and left it on desktop.\n",
    "- `ssh -i MY_KEY.pem ubuntu@IP`\n",
    "\n",
    "- Install docker remotely on AWS `curl -sSL https://get.docker.com | sh`\n",
    "- Add docker as a sudo user `sudo usermod -aG docker ubuntu`\n",
    "- logged out of server `exit`\n",
    "- log back into server\n",
    "- Pull Docker Mongo Image`docker pull mongo`\n",
    "- Create a new volume `docker volume create mongo-dbstore`\n",
    "\n",
    "- Launched the Mongo DB service \n",
    "```\n",
    "docker run -d --name beer_mongo \\\n",
    "> -v mongo-dbstore:/data/db \\\n",
    "> -p 27016:27017 mongo\n",
    "```\n",
    "\n",
    "- Connects to the DB `docker exec -it beer_mongo mongo`\n",
    "- Writes a file to the db `db.test.insert({\"Dales Pale Ale\": ['Light Crisp','Pale Ale']})`\n",
    "> beer_mongo is the database and the data  have been assigned to the alias `db`\n",
    "> \"test\" is the collection in this situation.\n",
    "> Shit is written as a JSON\n",
    "\n",
    "- `db.test.find()` non parameterized search which will include the entire contents of the database.\n",
    "\n"
   ]
  },
  {
   "cell_type": "markdown",
   "metadata": {},
   "source": [
    "## Set up a Notebook to connect to the DB\n",
    "\n",
    "- Launch EC2 instance\n",
    "- Connect with `ssh -i MY_KEY.pem ubuntu@IP`\n",
    "- Install docker using `curl -sSL https://get.docker.com/ | sh`\n",
    "- Make docker a sudo `sudo usermod -aG docker ubuntu` \n",
    "- Reboot Service `sudo reboot` (wait a few seconds before trying to reconnect\n",
    "- Install the Jupyter notebook image \n",
    "    - `docker run -d -p 8888:8888 -v `pwd`:/home/jovyan --name data_notebook jupyter/scipy-notebook`\n",
    "- See where the notebook at `docker exec data_notebook jupyter notebook list`\n",
    "- Connect to Notebook server using resulting URL, swap \"local host\" for the public IP address\n",
    "- Once connected to notebook server run `!pip install pymongo`.\n",
    "- After pymongo is installed, connect to the mongodb via\n",
    "\n",
    "```\n",
    "from pymongo import MongoClient\n",
    "client = MongoClient('DB IP',27016)\n",
    "```\n"
   ]
  },
  {
   "cell_type": "code",
   "execution_count": null,
   "metadata": {
    "collapsed": true
   },
   "outputs": [],
   "source": []
  }
 ],
 "metadata": {
  "kernelspec": {
   "display_name": "Python 3",
   "language": "python",
   "name": "python3"
  },
  "language_info": {
   "codemirror_mode": {
    "name": "ipython",
    "version": 3
   },
   "file_extension": ".py",
   "mimetype": "text/x-python",
   "name": "python",
   "nbconvert_exporter": "python",
   "pygments_lexer": "ipython3",
   "version": "3.7.0"
  }
 },
 "nbformat": 4,
 "nbformat_minor": 2
}
